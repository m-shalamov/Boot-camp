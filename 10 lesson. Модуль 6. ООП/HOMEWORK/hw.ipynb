{
 "metadata": {
  "language_info": {
   "codemirror_mode": {
    "name": "ipython",
    "version": 3
   },
   "file_extension": ".py",
   "mimetype": "text/x-python",
   "name": "python",
   "nbconvert_exporter": "python",
   "pygments_lexer": "ipython3",
   "version": 3
  },
  "orig_nbformat": 2
 },
 "nbformat": 4,
 "nbformat_minor": 2,
 "cells": [
  {
   "source": [
    "# Задание 1"
   ],
   "cell_type": "markdown",
   "metadata": {}
  },
  {
   "source": [
    "Design classes for chess pieces. \n",
    "<br>\n",
    "* For each type of figure, make a separate class. \n",
    "* You should implement the class Figure for the base abstract figure\n",
    "* Implement the step() method, which will check if the move specified by the user is possible. \n",
    "* The figures on the field are arranged randomly => each figure knows its coordinates. \n",
    "* The figure cannot go to any field in which it is already standing.  \n",
    "* You can read chess.pdf as a hint in the FILES folder.\n",
    "* You should use modules for classes. Import modules to main.py and show the results"
   ],
   "cell_type": "markdown",
   "metadata": {}
  },
  {
   "cell_type": "code",
   "execution_count": null,
   "metadata": {},
   "outputs": [],
   "source": [
    "### YOUR CODE HERE"
   ]
  }
 ]
}