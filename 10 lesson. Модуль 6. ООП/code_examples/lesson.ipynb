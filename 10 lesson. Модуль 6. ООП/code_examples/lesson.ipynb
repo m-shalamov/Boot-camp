{
 "metadata": {
  "language_info": {
   "codemirror_mode": {
    "name": "ipython",
    "version": 3
   },
   "file_extension": ".py",
   "mimetype": "text/x-python",
   "name": "python",
   "nbconvert_exporter": "python",
   "pygments_lexer": "ipython3",
   "version": "3.8.8"
  },
  "orig_nbformat": 2,
  "kernelspec": {
   "name": "python3",
   "display_name": "Python 3.8.8 64-bit ('base': conda)"
  },
  "interpreter": {
   "hash": "7b1a062bb510a37bcdd2ba61ed6bba242638905c2c079c3f0f71d3b5a6f7f2ab"
  }
 },
 "nbformat": 4,
 "nbformat_minor": 2,
 "cells": [
  {
   "source": [
    "# ООП"
   ],
   "cell_type": "markdown",
   "metadata": {}
  },
  {
   "source": [
    "## Лекция"
   ],
   "cell_type": "markdown",
   "metadata": {}
  },
  {
   "source": [
    "### Определение класса"
   ],
   "cell_type": "markdown",
   "metadata": {}
  },
  {
   "source": [
    "* Свойства - атрибуты класса\n",
    "* Действия - методы класса\n",
    "* Обращение к атрибуту или методу класса - объект.имя\n"
   ],
   "cell_type": "markdown",
   "metadata": {}
  },
  {
   "cell_type": "code",
   "execution_count": null,
   "metadata": {},
   "outputs": [],
   "source": [
    "# Простейшая форма определения класса\n",
    "# class ClassName:\n",
    "#     < выражение - 1 >\n",
    "#     .\n",
    "#     .\n",
    "#     .\n",
    "#     < выражение - N >"
   ]
  },
  {
   "cell_type": "code",
   "execution_count": 1,
   "metadata": {},
   "outputs": [],
   "source": [
    "class Car:\n",
    "    def __init__(self, brand, color, price, max_speed):\n",
    "        self.color = color\n",
    "        self.price = price\n",
    "        self.brand = brand\n",
    "        self.max_speed = max_speed\n",
    "        self.current_speed = 0\n",
    "    def go(self):\n",
    "        self.current_speed += 10\n",
    "    def stop(self):\n",
    "        self.current_speed -= 10\n",
    "    def show(self):\n",
    "        print(self.brand, self.color, self.price, self.max_speed, self.current_speed)"
   ]
  },
  {
   "cell_type": "code",
   "execution_count": 2,
   "metadata": {},
   "outputs": [],
   "source": [
    "my_car = Car(\"BMW\",\"green\", 100000, 300)"
   ]
  },
  {
   "cell_type": "code",
   "execution_count": null,
   "metadata": {},
   "outputs": [],
   "source": [
    "class Car:\n",
    "    def __init__(self, brand, color, price, max_speed):\n",
    "        self.brand = brand\n",
    "        self.color = color\n",
    "        self.price = price\n",
    "        self.max_speed = max_speed\n",
    "        self.current_speed = 0\n",
    "    def go(self):\n",
    "        print(\"Im moving\")\n",
    "        self.current_speed += 10\n",
    "    def stop(self):\n",
    "        print(\"Im stoping\")\n",
    "        self.current_speed -= 10\n",
    "    def show(self):\n",
    "        print(self.brand, self.color, self.price, self.max_speed, self.current_speed)\n",
    "cars = [Car(\"BMW\", \"red\", 1000000, 250), Car(\"VAZ\", \"black\", 100000, 100), Car(\"Audi\", \"white\", 2000000, 230)]\n",
    "for car in cars:\n",
    "    Car.show(self=car)\n",
    "# car.go()\n",
    "# car.show()"
   ]
  },
  {
   "source": [
    "### Функции для работы с атрибутами"
   ],
   "cell_type": "markdown",
   "metadata": {}
  },
  {
   "source": [
    "\n",
    "* hasattr(object, name) - проверка существования атрибута\n",
    "* setattr(object, name, value) - установка атрибута\n",
    "* delattr(object, name) - удаление атрибута"
   ],
   "cell_type": "markdown",
   "metadata": {}
  },
  {
   "cell_type": "code",
   "execution_count": 9,
   "metadata": {},
   "outputs": [
    {
     "output_type": "execute_result",
     "data": {
      "text/plain": [
       "True"
      ]
     },
     "metadata": {},
     "execution_count": 9
    }
   ],
   "source": [
    "hasattr(my_car, 'brand')"
   ]
  },
  {
   "cell_type": "code",
   "execution_count": null,
   "metadata": {},
   "outputs": [],
   "source": [
    "delattr(Car, 'go')"
   ]
  },
  {
   "cell_type": "code",
   "execution_count": 10,
   "metadata": {},
   "outputs": [],
   "source": [
    "setattr(my_car, 'brand', 9)"
   ]
  },
  {
   "cell_type": "code",
   "execution_count": 4,
   "metadata": {},
   "outputs": [],
   "source": [
    "# setattr(Car, 'example', 0)"
   ]
  },
  {
   "cell_type": "code",
   "execution_count": 5,
   "metadata": {},
   "outputs": [
    {
     "output_type": "execute_result",
     "data": {
      "text/plain": [
       "['__class__',\n",
       " '__delattr__',\n",
       " '__dict__',\n",
       " '__dir__',\n",
       " '__doc__',\n",
       " '__eq__',\n",
       " '__format__',\n",
       " '__ge__',\n",
       " '__getattribute__',\n",
       " '__gt__',\n",
       " '__hash__',\n",
       " '__init__',\n",
       " '__init_subclass__',\n",
       " '__le__',\n",
       " '__lt__',\n",
       " '__module__',\n",
       " '__ne__',\n",
       " '__new__',\n",
       " '__reduce__',\n",
       " '__reduce_ex__',\n",
       " '__repr__',\n",
       " '__setattr__',\n",
       " '__sizeof__',\n",
       " '__str__',\n",
       " '__subclasshook__',\n",
       " '__weakref__',\n",
       " 'brand',\n",
       " 'color',\n",
       " 'current_speed',\n",
       " 'example',\n",
       " 'go',\n",
       " 'max_speed',\n",
       " 'price',\n",
       " 'show',\n",
       " 'stop']"
      ]
     },
     "metadata": {},
     "execution_count": 5
    }
   ],
   "source": [
    "dir(my_car)"
   ]
  },
  {
   "cell_type": "code",
   "execution_count": 11,
   "metadata": {},
   "outputs": [
    {
     "output_type": "stream",
     "name": "stdout",
     "text": [
      "9  BMW 100000 300 0\n"
     ]
    }
   ],
   "source": [
    "my_car.show()"
   ]
  },
  {
   "source": [
    "** Передача в функцию **"
   ],
   "cell_type": "markdown",
   "metadata": {}
  },
  {
   "source": [
    "### self"
   ],
   "cell_type": "markdown",
   "metadata": {}
  },
  {
   "source": [
    "**self** - ссылка на объект. Причем это название может быть любым"
   ],
   "cell_type": "markdown",
   "metadata": {}
  },
  {
   "cell_type": "code",
   "execution_count": 16,
   "metadata": {},
   "outputs": [
    {
     "output_type": "stream",
     "name": "stdout",
     "text": [
      "BMW green 100000 300 0\nBMW green 100000 300 0\n"
     ]
    }
   ],
   "source": [
    "my_car.show()\n",
    "Car.show(self = my_car)"
   ]
  },
  {
   "source": [
    "** List of objects **"
   ],
   "cell_type": "markdown",
   "metadata": {}
  },
  {
   "source": [
    "## Практика"
   ],
   "cell_type": "markdown",
   "metadata": {}
  },
  {
   "source": [
    "Создать класс Human. Человек имеет имя, возраст, пол, вес. Создать метод, выводящий параметры человека. Создать человека и вывести о нем инфо. Сгенерировать случайным образом список людей. Найти самого молодого человека и вывести инфо о нем."
   ],
   "cell_type": "markdown",
   "metadata": {}
  },
  {
   "cell_type": "code",
   "execution_count": null,
   "metadata": {},
   "outputs": [],
   "source": [
    "from faker import Faker\n",
    "import random\n",
    "faker = Faker('ru_RU')\n",
    "class Human:\n",
    "    def __init__(self, name, age, sex, weight):\n",
    "        self.name = name\n",
    "        self.age = age\n",
    "        self.sex = sex\n",
    "        self.weight = weight\n",
    "    def show(self):\n",
    "        print(\"Имя\", self.name)\n",
    "        print(\"Возраст\", self.age)\n",
    "        print(\"Пол\", self.sex)\n",
    "        print(\"Вес\", self.weight)\n",
    "        print(\"#\"*10)\n",
    "\n",
    "sex = [\"M\", \"F\"]\n",
    "arr = [Human(name = faker.name(), age= random.randint(10, 100)\n",
    ", sex = random.choice(sex), weight = random.randint(20, 50)) for _ in range(10)]\n",
    "\n",
    "for item in arr :\n",
    "    item.show()\n",
    "\n",
    "res = min(arr, key=lambda item: item.age)\n",
    "print(\"The youngest\")\n",
    "res.show()"
   ]
  },
  {
   "source": [
    "## Лекция"
   ],
   "cell_type": "markdown",
   "metadata": {}
  },
  {
   "source": [
    "** Incapsulation **"
   ],
   "cell_type": "markdown",
   "metadata": {}
  },
  {
   "cell_type": "code",
   "execution_count": 2,
   "metadata": {},
   "outputs": [
    {
     "output_type": "execute_result",
     "data": {
      "text/plain": [
       "67"
      ]
     },
     "metadata": {},
     "execution_count": 2
    }
   ],
   "source": [
    "class A:\n",
    "\n",
    "    def __init__(self):\n",
    "        self.var_1 = 45\n",
    "        self._var_2 = 56\n",
    "        self.__var_3 = 67\n",
    "\n",
    "    def method(self):\n",
    "        print(self.var_1)\n",
    "        print(self._var_2)\n",
    "        print(self.__var_3)\n",
    "a = A()\n",
    "# a.__var_3\n",
    "a._A__var_3"
   ]
  },
  {
   "source": [
    "** Inheritance **"
   ],
   "cell_type": "markdown",
   "metadata": {}
  },
  {
   "cell_type": "code",
   "execution_count": 4,
   "metadata": {},
   "outputs": [
    {
     "output_type": "stream",
     "name": "stdout",
     "text": [
      "45\n56\n67\n45\n56\n"
     ]
    }
   ],
   "source": [
    "class Parent:\n",
    "\n",
    "    def __init__(self):\n",
    "        self.var_1 = 45\n",
    "        self._var_2 = 56\n",
    "        self.__var_3 = 67\n",
    "\n",
    "    def parent_method(self):\n",
    "        print(self.var_1)\n",
    "        print(self._var_2)\n",
    "        print(self.__var_3)\n",
    "\n",
    "\n",
    "class Child(Parent):\n",
    "\n",
    "    def method(self):\n",
    "        print(self.var_1)\n",
    "        print(self._var_2)\n",
    "        # print(self.__var_3)\n",
    "\n",
    "\n",
    "obj = Child()\n",
    "obj.parent_method()\n",
    "obj.method()"
   ]
  },
  {
   "source": [
    "** super **"
   ],
   "cell_type": "markdown",
   "metadata": {}
  },
  {
   "source": [
    "[to read](https://realpython.com/python-super/)"
   ],
   "cell_type": "markdown",
   "metadata": {}
  },
  {
   "cell_type": "code",
   "execution_count": 5,
   "metadata": {},
   "outputs": [
    {
     "output_type": "stream",
     "name": "stdout",
     "text": [
      "2\n3\n"
     ]
    }
   ],
   "source": [
    "class Parent:\n",
    "    def __init__(self,a):\n",
    "        self.a = a\n",
    "    def show(self):\n",
    "        print(self.a)\n",
    "\n",
    "\n",
    "class Child(Parent):\n",
    "    def __init__(self, a,b):\n",
    "        super().__init__(a)\n",
    "        self.b=b\n",
    "    def show(self):\n",
    "        super().show()\n",
    "        print(self.b)\n",
    "c = Child(2,3)\n",
    "c.show()"
   ]
  },
  {
   "cell_type": "code",
   "execution_count": null,
   "metadata": {},
   "outputs": [],
   "source": [
    " class Vehicle:\n",
    "     pass\n",
    " class Airplane(Vehicle):\n",
    "     pass\n",
    " class Car(Vehicle):\n",
    "     pass"
   ]
  },
  {
   "source": [
    "## Practice"
   ],
   "cell_type": "markdown",
   "metadata": {}
  },
  {
   "source": [
    "Создать Иерархию классов на основе класса Фигура. Создать классы Треугольник, Прямоугольник, Круг с методами, позволяющими считать периметр и площадь. Создать конструкторы. Создать список разных фигур. Вывести 3 фигуры с самой большой площадью."
   ],
   "cell_type": "markdown",
   "metadata": {}
  },
  {
   "cell_type": "code",
   "execution_count": null,
   "metadata": {},
   "outputs": [],
   "source": [
    "import math\n",
    "class Figure():\n",
    "    def __init__(self, name):\n",
    "        self.name = name\n",
    "    def show(self):\n",
    "        print(self.name)\n",
    "    def S(self):\n",
    "        return 0\n",
    "    def P(self):\n",
    "        return 0\n",
    "class Circle(Figure):\n",
    "    def __init__(self, name, r):\n",
    "        super().__init__(name)\n",
    "        self.r = r\n",
    "    def show(self):\n",
    "        super().show()\n",
    "        print(self.r)\n",
    "    def S(self):\n",
    "        return 3.14 * self.r**2\n",
    "    def P(self):\n",
    "        return 2 *3.14 *self.r\n",
    "class Rectangle(Figure):\n",
    "    def __init__(self, name, a,b):\n",
    "        super().__init__(name)\n",
    "        self.a = a\n",
    "        self.b = b\n",
    "    def show(self):\n",
    "        super().show()\n",
    "        print(self.a, self.b)\n",
    "    def S(self):\n",
    "        return self.a * self.b\n",
    "    def P(self):\n",
    "        return (self.a + self.b)\n",
    "class Triangle(Figure):\n",
    "    def __init__(self, name, a,b,c):\n",
    "        super().__init__(name)\n",
    "        self.a = a\n",
    "        self.b = b\n",
    "        self.c = c\n",
    "    def show(self):\n",
    "        super().show()\n",
    "        print(self.a, self.b)\n",
    "    def S(self):\n",
    "        semi_per = (self.a + self.b + self.c) / 2\n",
    "        return math.sqrt(semi_per * (semi_per - self.a) * (semi_per - self.b) * (semi_per - self.c))\n",
    "    def P(self):\n",
    "        return self.a + self.b + self.c\n"
   ]
  },
  {
   "cell_type": "code",
   "execution_count": null,
   "metadata": {},
   "outputs": [],
   "source": [
    "def get():\n",
    "    r = random.randint(0,2)\n",
    "    if r == 0:\n",
    "        return Circle(\"Circle\", random.randint(2, 5))\n",
    "    elif r == 1:\n",
    "        return Rectangle(\"Rectangle\", random.randint(2, 5),random.randint(2, 5) )\n",
    "    elif r == 2:\n",
    "        return Triangle(\"Triangle\", random.randint(2, 5),random.randint(2, 5),random.randint(2, 5))"
   ]
  },
  {
   "cell_type": "code",
   "execution_count": null,
   "metadata": {},
   "outputs": [],
   "source": [
    "import random\n",
    "\n",
    "figures = []\n",
    "for i in range(10):\n",
    "    figures.append(get())\n",
    "\n",
    "figures.sort(key = lambda figure: figure.S(), reverse=True)\n",
    "k = 0\n",
    "\n",
    "for figure in figures:\n",
    "    if k == 3:\n",
    "        break\n",
    "    figure.show()\n",
    "    print(figure.S())\n",
    "    k+=1\n"
   ]
  }
 ]
}