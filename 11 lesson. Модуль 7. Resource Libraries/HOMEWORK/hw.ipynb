{
 "cells": [
  {
   "cell_type": "markdown",
   "metadata": {},
   "source": [
    "# Assignment.1"
   ]
  },
  {
   "cell_type": "markdown",
   "metadata": {},
   "source": [
    "Для созданного класса шахматных фигур сформировать csv файл с информацией о каждой фигуре и ее позиции на шахматной доске"
   ]
  },
  {
   "cell_type": "code",
   "execution_count": null,
   "metadata": {},
   "outputs": [],
   "source": [
    "### YOUR CODE HERE"
   ]
  },
  {
   "cell_type": "markdown",
   "metadata": {},
   "source": [
    "# Attention"
   ]
  },
  {
   "cell_type": "markdown",
   "metadata": {},
   "source": [
    "Для работы с этим и некоторыми следующими заданиями Вам понадобится взаимодействие с сайтами. Для этого предлагаю использовать модуль **requests**.<br>\n",
    "```\n",
    "import requests\n",
    "response = requests.get(url) - возвращает ответ от сайта\n",
    "response.text - получает содержимое сайта в декодированном виде\n",
    "response.encoding - возвращает кодировку\n",
    "response.content - возвращает содержимое сайта в виде байтов\n",
    "```"
   ]
  },
  {
   "cell_type": "markdown",
   "metadata": {},
   "source": [
    "# Assignment.2"
   ]
  },
  {
   "cell_type": "markdown",
   "metadata": {},
   "source": [
    "* [Прочитать](https://realpython.com/regex-python/) о регулярных выражениях\n",
    "* Find the sum of numbers on http://python-data.dr-chuck.net/regex_sum_201873.txt."
   ]
  },
  {
   "cell_type": "code",
   "execution_count": null,
   "metadata": {},
   "outputs": [],
   "source": [
    "### YOUR CODE HERE"
   ]
  },
  {
   "cell_type": "markdown",
   "metadata": {},
   "source": [
    "# Assignment.3"
   ]
  },
  {
   "cell_type": "markdown",
   "metadata": {},
   "source": [
    "* Дан [список городов](https://en.wikipedia.org/wiki/List_of_cities_and_towns_in_Russia_by_population) (Смотреть английскую версию википедии). Создать два csv файла.\n",
    "* В первом файле будут лежать строки с положительным приростом населения.\n",
    "* Во втором с отрицательным приростом населения\n",
    "* Прирост населения показан в последнем столбце - Change"
   ]
  },
  {
   "cell_type": "code",
   "execution_count": null,
   "metadata": {},
   "outputs": [],
   "source": [
    "### YOUR CODE HERE\n"
   ]
  },
  {
   "cell_type": "markdown",
   "metadata": {},
   "source": [
    "# Assignment.4"
   ]
  },
  {
   "cell_type": "markdown",
   "metadata": {},
   "source": [
    "* Дан [текст](https://www.gutenberg.org/files/2638/2638-0.txt)\n",
    "* Выполнять все задания для текста между ```*** START OF THE PROJECT GUTENBERG EBOOK THE IDIOT ***(в начале книги) и *** END OF THE PROJECT GUTENBERG EBOOK THE IDIOT *** (в конце книги)```\n",
    "* Заменить все символы \";\" на \".\"\n",
    "* Найти кол-во вхождений артикля **the** в тексте в любом регистре\n",
    "* Найдите, сколько раз кто-либо был процитирован (текст в кавычках)."
   ]
  },
  {
   "cell_type": "code",
   "execution_count": null,
   "metadata": {},
   "outputs": [],
   "source": [
    "### YOUR CODE HERE"
   ]
  }
 ],
 "metadata": {
  "language_info": {
   "codemirror_mode": {
    "name": "ipython",
    "version": 3
   },
   "file_extension": ".py",
   "mimetype": "text/x-python",
   "name": "python",
   "nbconvert_exporter": "python",
   "pygments_lexer": "ipython3",
   "version": 3
  },
  "orig_nbformat": 2
 },
 "nbformat": 4,
 "nbformat_minor": 2
}
