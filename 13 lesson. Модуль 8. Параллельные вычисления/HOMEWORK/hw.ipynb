{
 "cells": [
  {
   "cell_type": "markdown",
   "metadata": {},
   "source": [
    "# Assignment.1"
   ]
  },
  {
   "cell_type": "markdown",
   "metadata": {},
   "source": [
    "Скачать картинки находящиеся в https://jsonplaceholder.typicode.com/photos/ по ключам thumbnailUrl и url  для каждого элемента (10 000 картинок всего). Сравнить синхронный и многопоточный варианты по времени выполнения. Добавить файл с отчетом."
   ]
  },
  {
   "cell_type": "code",
   "execution_count": null,
   "metadata": {},
   "outputs": [],
   "source": [
    "### YOUR CODE HERE"
   ]
  },
  {
   "cell_type": "markdown",
   "metadata": {},
   "source": [
    "# Assignment.2"
   ]
  },
  {
   "cell_type": "markdown",
   "metadata": {},
   "source": [
    "Для \n",
    "Задания 2 из 12 урока\n",
    "(Создать csv файл для списка городов в Канаде(смотри таблицы в https://en.wikipedia.org/wiki/List_of_cities_in_Canada) вида:city,lat,lon (город, широта, долгота)\n",
    "https://nominatim.org/release-docs/develop/api/Overview/ - здесь можно получить широту и долготу\n",
    "Результаты отправить на почту преподавателя с помощью средств python)\n",
    "\n",
    "Создать многопоточный вариант работы. Сравнить результаты с синхронным вариантом. Предоставить отчет"
   ]
  },
  {
   "cell_type": "code",
   "execution_count": null,
   "metadata": {},
   "outputs": [],
   "source": [
    "### YOUR CODE HERE"
   ]
  }
 ],
 "metadata": {
  "language_info": {
   "codemirror_mode": {
    "name": "ipython",
    "version": 3
   },
   "file_extension": ".py",
   "mimetype": "text/x-python",
   "name": "python",
   "nbconvert_exporter": "python",
   "pygments_lexer": "ipython3",
   "version": 3
  },
  "orig_nbformat": 2
 },
 "nbformat": 4,
 "nbformat_minor": 2
}
