{
 "cells": [
  {
   "cell_type": "markdown",
   "metadata": {},
   "source": [
    "# Assignment.1"
   ]
  },
  {
   "cell_type": "markdown",
   "metadata": {},
   "source": [
    "![](1.png)\n"
   ]
  },
  {
   "cell_type": "markdown",
   "metadata": {},
   "source": [
    "This code is used for converting images to black and white\n",
    "```\n",
    "from PIL import Image\n",
    "image_file = Image.open('1.png') # open colour image\n",
    "image_file = image_file.convert('1') # convert image to black and white\n",
    "image_file.save('result.png')\n",
    "```"
   ]
  },
  {
   "cell_type": "markdown",
   "metadata": {},
   "source": [
    "Для задания из 13 урока  (\n",
    "    Скачать картинки находящиеся в https://jsonplaceholder.typicode.com/photos/ по ключам thumbnailUrl и url  для каждого элемента (10 000 картинок всего). Сравнить синхронный и многопоточный варианты по времени выполнения. Добавить файл с отчетом.\n",
    ")\n",
    "Выполнить скачивание, далее обработать фотографии и превратить их в черно-белые и сохранить.\n"
   ]
  },
  {
   "cell_type": "markdown",
   "metadata": {},
   "source": [
    "![](2.png)"
   ]
  },
  {
   "cell_type": "markdown",
   "metadata": {},
   "source": [
    "Реализовать многопоточный, однопоточный, многопроцесный варианты. Сравнить результаты. (Задача также может быть разбита на многопоточные, многопроцессные, однопоточные части). Создать отчет, в котором объяснить какой вариант будет работать лучшим образом."
   ]
  }
 ],
 "metadata": {
  "language_info": {
   "codemirror_mode": {
    "name": "ipython",
    "version": 3
   },
   "file_extension": ".py",
   "mimetype": "text/x-python",
   "name": "python",
   "nbconvert_exporter": "python",
   "pygments_lexer": "ipython3",
   "version": 3
  },
  "orig_nbformat": 2
 },
 "nbformat": 4,
 "nbformat_minor": 2
}
