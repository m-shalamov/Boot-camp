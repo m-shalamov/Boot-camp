{
 "cells": [
  {
   "cell_type": "markdown",
   "source": [
    "# Анализ данных"
   ],
   "metadata": {}
  },
  {
   "cell_type": "markdown",
   "source": [
    "## Numpy"
   ],
   "metadata": {}
  },
  {
   "cell_type": "markdown",
   "source": [
    "### Lection"
   ],
   "metadata": {}
  },
  {
   "cell_type": "code",
   "execution_count": 25,
   "source": [
    "import numpy as np"
   ],
   "outputs": [],
   "metadata": {}
  },
  {
   "cell_type": "code",
   "execution_count": 26,
   "source": [
    "np.sqrt(43)\r\n",
    "np.log2(2)"
   ],
   "outputs": [
    {
     "output_type": "execute_result",
     "data": {
      "text/plain": [
       "1.0"
      ]
     },
     "metadata": {},
     "execution_count": 26
    }
   ],
   "metadata": {}
  },
  {
   "cell_type": "code",
   "execution_count": 27,
   "source": [
    "print(np.mean([1,2,3,4,50]))\r\n",
    "print(np.median([1,2,3,4,50]))"
   ],
   "outputs": [
    {
     "output_type": "stream",
     "name": "stdout",
     "text": [
      "12.0\n",
      "3.0\n"
     ]
    }
   ],
   "metadata": {}
  },
  {
   "cell_type": "markdown",
   "source": [
    "**Ndarray**"
   ],
   "metadata": {}
  },
  {
   "cell_type": "code",
   "execution_count": 36,
   "source": [
    "x = np.array([1,2,3,4,5,6])\r\n",
    "x.shape\r\n",
    "type(x)\r\n",
    "x[2]\r\n",
    "x[0:4:2]\r\n",
    "x.size\r\n"
   ],
   "outputs": [
    {
     "output_type": "execute_result",
     "data": {
      "text/plain": [
       "6"
      ]
     },
     "metadata": {},
     "execution_count": 36
    }
   ],
   "metadata": {}
  },
  {
   "cell_type": "code",
   "execution_count": 37,
   "source": [
    "matrix = np.array([\r\n",
    "    [1,2,3],\r\n",
    "    [4,5,6]\r\n",
    "])\r\n",
    "matrix.shape\r\n",
    "matrix[0,1]\r\n",
    "matrix[0][1]\r\n",
    "matrix.size\r\n",
    "matrix.ndim"
   ],
   "outputs": [
    {
     "output_type": "execute_result",
     "data": {
      "text/plain": [
       "2"
      ]
     },
     "metadata": {},
     "execution_count": 37
    }
   ],
   "metadata": {}
  },
  {
   "cell_type": "code",
   "execution_count": 30,
   "source": [
    "#one type\r\n",
    "x = np.array([1,2,3,\"hello\"])\r\n",
    "x"
   ],
   "outputs": [
    {
     "output_type": "execute_result",
     "data": {
      "text/plain": [
       "array(['1', '2', '3', 'hello'], dtype='<U11')"
      ]
     },
     "metadata": {},
     "execution_count": 30
    }
   ],
   "metadata": {}
  },
  {
   "cell_type": "code",
   "execution_count": 31,
   "source": [
    "np.array([[0, 0, 1],\r\n",
    "         [0, 1]]).shape "
   ],
   "outputs": [
    {
     "output_type": "stream",
     "name": "stderr",
     "text": [
      "<ipython-input-31-17c6839b24d3>:1: VisibleDeprecationWarning: Creating an ndarray from ragged nested sequences (which is a list-or-tuple of lists-or-tuples-or ndarrays with different lengths or shapes) is deprecated. If you meant to do this, you must specify 'dtype=object' when creating the ndarray.\n",
      "  np.array([[0, 0, 1],\n"
     ]
    },
    {
     "output_type": "execute_result",
     "data": {
      "text/plain": [
       "(2,)"
      ]
     },
     "metadata": {},
     "execution_count": 31
    }
   ],
   "metadata": {}
  },
  {
   "cell_type": "code",
   "execution_count": 32,
   "source": [
    "class x:\r\n",
    "    pass\r\n",
    "np.array([x()])"
   ],
   "outputs": [
    {
     "output_type": "execute_result",
     "data": {
      "text/plain": [
       "array([<__main__.x object at 0x0000017C73CBEB20>], dtype=object)"
      ]
     },
     "metadata": {},
     "execution_count": 32
    }
   ],
   "metadata": {}
  },
  {
   "cell_type": "markdown",
   "source": [
    "**Element by element**"
   ],
   "metadata": {}
  },
  {
   "cell_type": "code",
   "execution_count": 33,
   "source": [
    "float_data= np.array([0.62, 0.43, 0.79, 0.56])\r\n",
    "float_data = float_data*100 +2\r\n",
    "float_data"
   ],
   "outputs": [
    {
     "output_type": "execute_result",
     "data": {
      "text/plain": [
       "array([64., 45., 81., 58.])"
      ]
     },
     "metadata": {},
     "execution_count": 33
    }
   ],
   "metadata": {}
  },
  {
   "cell_type": "code",
   "execution_count": 34,
   "source": [
    "worker_1 = np.array([2000, 3000, 1000, 0, 5000, 10000,0])\r\n",
    "worker_2 = np.array([0, 10000, 0, 0,9000, 12000, 0])\r\n",
    "res = worker_1 + worker_2\r\n",
    "res"
   ],
   "outputs": [
    {
     "output_type": "execute_result",
     "data": {
      "text/plain": [
       "array([ 2000, 13000,  1000,     0, 14000, 22000,     0])"
      ]
     },
     "metadata": {},
     "execution_count": 34
    }
   ],
   "metadata": {}
  },
  {
   "cell_type": "code",
   "execution_count": 54,
   "source": [
    "tempretures = np.array([\r\n",
    "    [10, 11,4,0,15,17,17],\r\n",
    "    [25, 26,24,20,23,27,29],\r\n",
    "    [-10, -11,-4,0,-15,-17,-17],\r\n",
    "])\r\n",
    "print(tempretures>10)\r\n",
    "print(tempretures[tempretures>10])"
   ],
   "outputs": [
    {
     "output_type": "stream",
     "name": "stdout",
     "text": [
      "[[False  True False False  True  True  True]\n",
      " [ True  True  True  True  True  True  True]\n",
      " [False False False False False False False]]\n",
      "[11 15 17 17 25 26 24 20 23 27 29]\n"
     ]
    }
   ],
   "metadata": {}
  },
  {
   "cell_type": "code",
   "execution_count": 58,
   "source": [
    "worker_1 = np.array([2000, 3000, 1000, 0, 5000, 10000,0])\r\n",
    "worker_2 = np.array([0, 10000, 0, 0,9000, 12000, 0])\r\n",
    "print((worker_1>worker_2) & (worker_1>0))\r\n",
    "print(worker_1[(worker_1>worker_2) | (worker_1>0)])\r\n",
    "print((worker_1>worker_2))\r\n",
    "print(~(worker_1>worker_2))"
   ],
   "outputs": [
    {
     "output_type": "stream",
     "name": "stdout",
     "text": [
      "[ True False  True False False False False]\n",
      "[ 2000  3000  1000  5000 10000]\n",
      "[ True False  True False False False False]\n",
      "[False  True False  True  True  True  True]\n"
     ]
    }
   ],
   "metadata": {}
  },
  {
   "cell_type": "markdown",
   "source": [
    "**Methods**"
   ],
   "metadata": {}
  },
  {
   "cell_type": "code",
   "execution_count": 40,
   "source": [
    "worker_1 = np.array([2000, 3000, 1000, 0, 5000, 10000,0])\r\n",
    "worker_1.sum()\r\n",
    "worker_1.max()\r\n",
    "worker_1.argmax()"
   ],
   "outputs": [
    {
     "output_type": "execute_result",
     "data": {
      "text/plain": [
       "5"
      ]
     },
     "metadata": {},
     "execution_count": 40
    }
   ],
   "metadata": {}
  },
  {
   "cell_type": "code",
   "execution_count": 42,
   "source": [
    "tempretures = np.array([\r\n",
    "    [10, 11,4,0,15,17,17],\r\n",
    "    [25, 26,24,20,23,27,29],\r\n",
    "    [-10, -11,-4,0,-15,-17,-17],\r\n",
    "])\r\n",
    "tempretures.min(axis = 1)\r\n",
    "tempretures.min(axis = 0)"
   ],
   "outputs": [
    {
     "output_type": "execute_result",
     "data": {
      "text/plain": [
       "array([-10, -11,  -4,   0, -15, -17, -17])"
      ]
     },
     "metadata": {},
     "execution_count": 42
    }
   ],
   "metadata": {}
  },
  {
   "cell_type": "code",
   "execution_count": 86,
   "source": [
    "a = np.array([1,10,100,1000])\r\n",
    "b = np.array([1,4,100])\r\n",
    "np.intersect1d(a, b)"
   ],
   "outputs": [
    {
     "output_type": "execute_result",
     "data": {
      "text/plain": [
       "array([  1, 100])"
      ]
     },
     "metadata": {},
     "execution_count": 86
    }
   ],
   "metadata": {}
  },
  {
   "cell_type": "markdown",
   "source": [
    "**Creation**"
   ],
   "metadata": {}
  },
  {
   "cell_type": "code",
   "execution_count": 43,
   "source": [
    "np.arange(2,11,0.5)"
   ],
   "outputs": [
    {
     "output_type": "execute_result",
     "data": {
      "text/plain": [
       "array([ 2. ,  2.5,  3. ,  3.5,  4. ,  4.5,  5. ,  5.5,  6. ,  6.5,  7. ,\n",
       "        7.5,  8. ,  8.5,  9. ,  9.5, 10. , 10.5])"
      ]
     },
     "metadata": {},
     "execution_count": 43
    }
   ],
   "metadata": {}
  },
  {
   "cell_type": "code",
   "execution_count": 45,
   "source": [
    "np.zeros((3,1))"
   ],
   "outputs": [
    {
     "output_type": "execute_result",
     "data": {
      "text/plain": [
       "array([[0.],\n",
       "       [0.],\n",
       "       [0.]])"
      ]
     },
     "metadata": {},
     "execution_count": 45
    }
   ],
   "metadata": {}
  },
  {
   "cell_type": "code",
   "execution_count": 51,
   "source": [
    "np.ones((3,4), dtype = int)"
   ],
   "outputs": [
    {
     "output_type": "execute_result",
     "data": {
      "text/plain": [
       "array([[1, 1, 1, 1],\n",
       "       [1, 1, 1, 1],\n",
       "       [1, 1, 1, 1]])"
      ]
     },
     "metadata": {},
     "execution_count": 51
    }
   ],
   "metadata": {}
  },
  {
   "cell_type": "code",
   "execution_count": 49,
   "source": [
    "np.eye(3, dtype=int)"
   ],
   "outputs": [
    {
     "output_type": "execute_result",
     "data": {
      "text/plain": [
       "array([[1., 0., 0.],\n",
       "       [0., 1., 0.],\n",
       "       [0., 0., 1.]])"
      ]
     },
     "metadata": {},
     "execution_count": 49
    }
   ],
   "metadata": {}
  },
  {
   "cell_type": "markdown",
   "source": [
    "### Practice"
   ],
   "metadata": {}
  },
  {
   "cell_type": "code",
   "execution_count": 64,
   "source": [
    "import random\r\n",
    "random.seed(123)\r\n",
    "num_of_students = 10\r\n",
    "num_of_groups = 15\r\n",
    "marks = np.array([[random.randint(0,100) for i in range(num_of_students)] for j in range(num_of_groups)])\r\n",
    "marks"
   ],
   "outputs": [
    {
     "output_type": "execute_result",
     "data": {
      "text/plain": [
       "array([[ 6, 34, 11, 98, 52, 34, 13,  4, 48, 68],\n",
       "       [71, 42, 43,  6, 20, 17, 43, 71, 42, 89],\n",
       "       [31, 20,  0, 55, 99, 11, 76, 48,  8,  0],\n",
       "       [40, 93, 57, 13,  5, 11, 85, 18, 16,  2],\n",
       "       [37, 55, 73, 61, 33, 60,  4, 98, 39, 43],\n",
       "       [66, 61, 26, 77, 81, 67, 72, 40,  1, 50],\n",
       "       [98, 82, 65, 55, 87, 68, 81, 85, 76, 62],\n",
       "       [66, 85, 53, 47, 65,  4, 96, 82, 23, 92],\n",
       "       [10, 62, 84, 33, 21, 42, 43, 70, 50,  9],\n",
       "       [92, 58, 49, 73, 99, 43,  2, 24, 75, 11],\n",
       "       [80, 46,  1, 45, 29, 51, 68, 64, 92,  7],\n",
       "       [81, 36, 63, 97, 80, 92, 29, 69, 61, 22],\n",
       "       [19, 68, 56, 48, 96, 59,  5,  1, 17, 58],\n",
       "       [24,  2, 32, 45, 87, 34, 55, 81, 53,  0],\n",
       "       [13, 79,  8, 65, 45, 90, 11, 10, 55,  1]])"
      ]
     },
     "metadata": {},
     "execution_count": 64
    }
   ],
   "metadata": {}
  },
  {
   "cell_type": "markdown",
   "source": [
    "Дана таблица содеражащая баллы за курсовую работу по  python для num_of_groups, содержащих num_of_students студентов в каждой. Выполнить задания:"
   ],
   "metadata": {}
  },
  {
   "cell_type": "markdown",
   "source": [
    "Определить сколько людей не сдали куросвую (<30)"
   ],
   "metadata": {}
  },
  {
   "cell_type": "code",
   "execution_count": 65,
   "source": [
    "marks[(marks < 30)].size"
   ],
   "outputs": [
    {
     "output_type": "execute_result",
     "data": {
      "text/plain": [
       "46"
      ]
     },
     "metadata": {},
     "execution_count": 65
    }
   ],
   "metadata": {}
  },
  {
   "cell_type": "markdown",
   "source": [
    "Определить сколько людей  сдали экзамен между  (70 и 90)"
   ],
   "metadata": {}
  },
  {
   "cell_type": "code",
   "execution_count": 66,
   "source": [
    "marks[(marks >70)&(marks<90)].size"
   ],
   "outputs": [
    {
     "output_type": "execute_result",
     "data": {
      "text/plain": [
       "25"
      ]
     },
     "metadata": {},
     "execution_count": 66
    }
   ],
   "metadata": {}
  },
  {
   "cell_type": "markdown",
   "source": [
    "Для каждой группы посчитать средний результат. Вывести лучшую группу"
   ],
   "metadata": {}
  },
  {
   "cell_type": "code",
   "execution_count": 67,
   "source": [
    "marks.mean(axis = 1).argmax()"
   ],
   "outputs": [
    {
     "output_type": "execute_result",
     "data": {
      "text/plain": [
       "6"
      ]
     },
     "metadata": {},
     "execution_count": 67
    }
   ],
   "metadata": {}
  },
  {
   "cell_type": "markdown",
   "source": [
    "В каждой группе посчитать кол-во стобальников"
   ],
   "metadata": {}
  },
  {
   "cell_type": "code",
   "execution_count": 68,
   "source": [
    "(marks==100).sum(axis=1)"
   ],
   "outputs": [
    {
     "output_type": "execute_result",
     "data": {
      "text/plain": [
       "array([0, 0, 0, 0, 0, 0, 0, 0, 0, 0, 0, 0, 0, 0, 0])"
      ]
     },
     "metadata": {},
     "execution_count": 68
    }
   ],
   "metadata": {}
  },
  {
   "cell_type": "markdown",
   "source": [
    "Создать массив, не содержащий людей, которые получили 0"
   ],
   "metadata": {}
  },
  {
   "cell_type": "code",
   "execution_count": 69,
   "source": [
    "marks[(marks!=0)]"
   ],
   "outputs": [
    {
     "output_type": "execute_result",
     "data": {
      "text/plain": [
       "array([ 6, 34, 11, 98, 52, 34, 13,  4, 48, 68, 71, 42, 43,  6, 20, 17, 43,\n",
       "       71, 42, 89, 31, 20, 55, 99, 11, 76, 48,  8, 40, 93, 57, 13,  5, 11,\n",
       "       85, 18, 16,  2, 37, 55, 73, 61, 33, 60,  4, 98, 39, 43, 66, 61, 26,\n",
       "       77, 81, 67, 72, 40,  1, 50, 98, 82, 65, 55, 87, 68, 81, 85, 76, 62,\n",
       "       66, 85, 53, 47, 65,  4, 96, 82, 23, 92, 10, 62, 84, 33, 21, 42, 43,\n",
       "       70, 50,  9, 92, 58, 49, 73, 99, 43,  2, 24, 75, 11, 80, 46,  1, 45,\n",
       "       29, 51, 68, 64, 92,  7, 81, 36, 63, 97, 80, 92, 29, 69, 61, 22, 19,\n",
       "       68, 56, 48, 96, 59,  5,  1, 17, 58, 24,  2, 32, 45, 87, 34, 55, 81,\n",
       "       53, 13, 79,  8, 65, 45, 90, 11, 10, 55,  1])"
      ]
     },
     "metadata": {},
     "execution_count": 69
    }
   ],
   "metadata": {}
  },
  {
   "cell_type": "markdown",
   "source": [
    "### Lection"
   ],
   "metadata": {}
  },
  {
   "cell_type": "markdown",
   "source": [
    "**Reshape**"
   ],
   "metadata": {}
  },
  {
   "cell_type": "code",
   "execution_count": 72,
   "source": [
    "salaries = np.array([50,20,40,70,60,100])\r\n",
    "salaries\r\n",
    "matrix = salaries.reshape(2,3)\r\n",
    "print(matrix)\r\n",
    "print(matrix.transpose())\r\n",
    "print(matrix.flatten())"
   ],
   "outputs": [
    {
     "output_type": "stream",
     "name": "stdout",
     "text": [
      "[[ 50  20  40]\n",
      " [ 70  60 100]]\n",
      "[[ 50  70]\n",
      " [ 20  60]\n",
      " [ 40 100]]\n",
      "[ 50  20  40  70  60 100]\n"
     ]
    }
   ],
   "metadata": {}
  },
  {
   "cell_type": "markdown",
   "source": [
    "**Structured arrays**"
   ],
   "metadata": {}
  },
  {
   "cell_type": "code",
   "execution_count": 78,
   "source": [
    "people = np.array(\r\n",
    "    [\r\n",
    "        ('Tom', 20, 70),\r\n",
    "        ('Jack', 15, 50),\r\n",
    "        ('Helen', 13, 40)\r\n",
    "    ],\r\n",
    "    dtype=[\r\n",
    "        ('name', \"U20\"),\r\n",
    "        ('age', int),\r\n",
    "        (\"weight\", int)\r\n",
    "        ]\r\n",
    ")\r\n",
    "print(people)\r\n",
    "print(people[0])\r\n",
    "print(people[0:2])\r\n",
    "print(people[\"name\"])\r\n",
    "print(people[['name','age']][0])"
   ],
   "outputs": [
    {
     "output_type": "stream",
     "name": "stdout",
     "text": [
      "[('Tom', 20, 70) ('Jack', 15, 50) ('Helen', 13, 40)]\n",
      "('Tom', 20, 70)\n",
      "[('Tom', 20, 70) ('Jack', 15, 50)]\n",
      "['Tom' 'Jack' 'Helen']\n",
      "('Tom', 20)\n"
     ]
    }
   ],
   "metadata": {}
  },
  {
   "cell_type": "code",
   "execution_count": 79,
   "source": [
    "np.save(\"data\\\\people.npy\", people)"
   ],
   "outputs": [],
   "metadata": {}
  },
  {
   "cell_type": "code",
   "execution_count": 82,
   "source": [
    "np.savetxt(\"data\\\\people.txt\", np.arange(1,10))"
   ],
   "outputs": [],
   "metadata": {}
  },
  {
   "cell_type": "code",
   "execution_count": 84,
   "source": [
    "np.load(\"data\\\\people.npy\")"
   ],
   "outputs": [
    {
     "output_type": "execute_result",
     "data": {
      "text/plain": [
       "array([('Tom', 20, 70), ('Jack', 15, 50), ('Helen', 13, 40)],\n",
       "      dtype=[('name', '<U20'), ('age', '<i4'), ('weight', '<i4')])"
      ]
     },
     "metadata": {},
     "execution_count": 84
    }
   ],
   "metadata": {}
  },
  {
   "cell_type": "code",
   "execution_count": 85,
   "source": [
    "np.loadtxt(\"data\\\\people.txt\")"
   ],
   "outputs": [
    {
     "output_type": "execute_result",
     "data": {
      "text/plain": [
       "array([1., 2., 3., 4., 5., 6., 7., 8., 9.])"
      ]
     },
     "metadata": {},
     "execution_count": 85
    }
   ],
   "metadata": {}
  },
  {
   "cell_type": "markdown",
   "source": [
    "## Matplotlib "
   ],
   "metadata": {}
  },
  {
   "cell_type": "markdown",
   "source": [
    "![](1.png)"
   ],
   "metadata": {}
  },
  {
   "cell_type": "markdown",
   "source": [
    "### Lection"
   ],
   "metadata": {}
  },
  {
   "cell_type": "code",
   "execution_count": 2,
   "source": [
    "import matplotlib.pyplot as plt"
   ],
   "outputs": [],
   "metadata": {}
  },
  {
   "cell_type": "code",
   "execution_count": 89,
   "source": [
    "x = np.arange(-10,10,0.5)\r\n",
    "y = x**2\r\n",
    "plt.plot(x,y, \"g-o\")"
   ],
   "outputs": [
    {
     "output_type": "execute_result",
     "data": {
      "text/plain": [
       "[<matplotlib.lines.Line2D at 0x17c760ab8e0>]"
      ]
     },
     "metadata": {},
     "execution_count": 89
    },
    {
     "output_type": "display_data",
     "data": {
      "text/plain": [
       "<Figure size 432x288 with 1 Axes>"
      ],
      "image/png": "[encoded data removed]"
     },
     "metadata": {
      "needs_background": "light"
     }
    }
   ],
   "metadata": {}
  },
  {
   "cell_type": "code",
   "execution_count": 98,
   "source": [
    "plt.plot(x,x**2, 'r--o')\r\n",
    "plt.show()\r\n",
    "plt.plot( x, x**3,'y^')\r\n",
    "# plt.show()"
   ],
   "outputs": [
    {
     "output_type": "display_data",
     "data": {
      "text/plain": [
       "<Figure size 432x288 with 1 Axes>"
      ],
      "image/png": "[encoded data removed]"
     },
     "metadata": {
      "needs_background": "light"
     }
    },
    {
     "output_type": "execute_result",
     "data": {
      "text/plain": [
       "[<matplotlib.lines.Line2D at 0x17c7696cf40>]"
      ]
     },
     "metadata": {},
     "execution_count": 98
    },
    {
     "output_type": "display_data",
     "data": {
      "text/plain": [
       "<Figure size 432x288 with 1 Axes>"
      ],
      "image/png": "[encoded data removed]"
     },
     "metadata": {
      "needs_background": "light"
     }
    }
   ],
   "metadata": {}
  },
  {
   "cell_type": "code",
   "execution_count": 94,
   "source": [
    "x = np.linspace(0, 16, 30)\r\n",
    "x"
   ],
   "outputs": [
    {
     "output_type": "execute_result",
     "data": {
      "text/plain": [
       "array([ 0.        ,  0.55172414,  1.10344828,  1.65517241,  2.20689655,\n",
       "        2.75862069,  3.31034483,  3.86206897,  4.4137931 ,  4.96551724,\n",
       "        5.51724138,  6.06896552,  6.62068966,  7.17241379,  7.72413793,\n",
       "        8.27586207,  8.82758621,  9.37931034,  9.93103448, 10.48275862,\n",
       "       11.03448276, 11.5862069 , 12.13793103, 12.68965517, 13.24137931,\n",
       "       13.79310345, 14.34482759, 14.89655172, 15.44827586, 16.        ])"
      ]
     },
     "metadata": {},
     "execution_count": 94
    }
   ],
   "metadata": {}
  },
  {
   "cell_type": "markdown",
   "source": [
    "### Practice"
   ],
   "metadata": {}
  },
  {
   "cell_type": "markdown",
   "source": [
    "- $\\sqrt(x)$ — штриховая (dashed) линия с точками в форме ромбов (diamond) зелёного (green) цвета.\r\n",
    "- $\\sqrt[4](x)$ — пунктирная (dotted) линия с точками в форме крестиков (x marker) пурпурного (magenta) цвета."
   ],
   "metadata": {}
  },
  {
   "cell_type": "code",
   "execution_count": null,
   "source": [
    "x = np.linspace(0, 16, 30)\r\n",
    "y = np.sqrt(x)\r\n",
    "x2 = x\r\n",
    "y2 = np.sqrt(y)\r\n",
    "plt.plot(x, y, 'dg:', x2, y2, 'xm--' )"
   ],
   "outputs": [],
   "metadata": {}
  },
  {
   "cell_type": "markdown",
   "source": [
    "### Lection"
   ],
   "metadata": {}
  },
  {
   "cell_type": "code",
   "execution_count": 17,
   "source": [
    "import numpy as np\r\n",
    "x = np.random.randint(low=1, high=11, size=50)\r\n",
    "# print(x)\r\n",
    "y = x + np.random.randint(1, 5, size=x.size)\r\n",
    "# print(y)\r\n",
    "data = np.column_stack((x, y))\r\n",
    "print(data)\r\n",
    "fig, (ax1, ax2) = plt.subplots(nrows=1, ncols=2, figsize=(8, 4))\r\n",
    "\r\n",
    "ax1.scatter(x=x, y=y, marker='o', c='r', edgecolor='b')\r\n",
    "ax1.set_title('Scatter: $x$ versus $y$')\r\n",
    "ax1.set_xlabel('$x$')\r\n",
    "ax1.set_ylabel('$y$')\r\n",
    "\r\n",
    "ax2.hist(data, bins=np.arange(data.min(), data.max()), label=('x', 'y'))\r\n",
    "ax2.legend(loc=(0.65, 0.8))\r\n",
    "ax2.set_title('Frequencies of $x$ and $y$')\r\n",
    "ax2.yaxis.tick_right()"
   ],
   "outputs": [
    {
     "output_type": "stream",
     "name": "stdout",
     "text": [
      "[[10 12]\n",
      " [ 3  4]\n",
      " [10 11]\n",
      " [ 3  7]\n",
      " [ 7  9]\n",
      " [ 1  3]\n",
      " [ 3  6]\n",
      " [ 9 11]\n",
      " [ 6 10]\n",
      " [ 7  9]\n",
      " [ 9 12]\n",
      " [ 4  8]\n",
      " [ 6 10]\n",
      " [ 8 11]\n",
      " [ 4  7]\n",
      " [ 8 12]\n",
      " [10 14]\n",
      " [ 4  5]\n",
      " [ 6  7]\n",
      " [ 3  7]\n",
      " [ 8 11]\n",
      " [ 2  5]\n",
      " [ 1  2]\n",
      " [ 6  7]\n",
      " [10 14]\n",
      " [ 1  3]\n",
      " [ 7  8]\n",
      " [ 1  3]\n",
      " [ 4  8]\n",
      " [ 9 12]\n",
      " [ 7  8]\n",
      " [ 9 11]\n",
      " [ 8  9]\n",
      " [ 9 11]\n",
      " [ 8  9]\n",
      " [ 5  6]\n",
      " [10 14]\n",
      " [ 5  9]\n",
      " [ 6  7]\n",
      " [ 6 10]\n",
      " [ 1  3]\n",
      " [ 4  7]\n",
      " [ 1  3]\n",
      " [10 13]\n",
      " [ 2  5]\n",
      " [ 1  2]\n",
      " [ 3  6]\n",
      " [ 7  8]\n",
      " [ 2  5]\n",
      " [ 6  9]]\n"
     ]
    },
    {
     "output_type": "display_data",
     "data": {
      "text/plain": [
       "<Figure size 576x288 with 2 Axes>"
      ],
      "image/png": "[encoded data removed]"
     },
     "metadata": {
      "needs_background": "light"
     }
    }
   ],
   "metadata": {}
  }
 ],
 "metadata": {
  "orig_nbformat": 4,
  "language_info": {
   "name": "python",
   "version": "3.8.8",
   "mimetype": "text/x-python",
   "codemirror_mode": {
    "name": "ipython",
    "version": 3
   },
   "pygments_lexer": "ipython3",
   "nbconvert_exporter": "python",
   "file_extension": ".py"
  },
  "kernelspec": {
   "name": "python3",
   "display_name": "Python 3.8.8 64-bit ('base': conda)"
  },
  "interpreter": {
   "hash": "262af24f6390e181d1b86df4568fd74653813b7e5cf759105ca918c8cd7e2241"
  }
 },
 "nbformat": 4,
 "nbformat_minor": 2
}