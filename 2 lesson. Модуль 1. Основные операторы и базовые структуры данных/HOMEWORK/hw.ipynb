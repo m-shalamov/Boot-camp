{
 "metadata": {
  "language_info": {
   "codemirror_mode": {
    "name": "ipython",
    "version": 3
   },
   "file_extension": ".py",
   "mimetype": "text/x-python",
   "name": "python",
   "nbconvert_exporter": "python",
   "pygments_lexer": "ipython3",
   "version": 3
  },
  "orig_nbformat": 2
 },
 "nbformat": 4,
 "nbformat_minor": 2,
 "cells": [
  {
   "cell_type": "markdown",
   "source": [
    "# Задание 1"
   ],
   "metadata": {}
  },
  {
   "cell_type": "markdown",
   "source": [
    "Заданы размеры окна прямоугольной формы window_x, window_y на первой строке и размеры шкафа(параллелепипед) cupboard_x, cupboard_y, cupboard_z. Определить, пройдет ли шкаф в окно. Сделаем допущение, что грани окна и шкафа должны быть параллельны. "
   ],
   "metadata": {}
  },
  {
   "cell_type": "code",
   "execution_count": null,
   "source": [
    try:
    w = int(input("Введите сторону окна: "))
    x = int(input("Введите ширину шкафа: "))
    y = int(input("Введите высоту шкафа: "))
    z = int(input("Введите глубину шкафа: "))
    if (x<=w) and (y<=w):
      print("Пройдет.")
    elif (x<=w) and (z<=w):
      print("Пройдет.")
    elif (y<=w) and (z<=w):
      print("Пройдет.")
    else:
      print("Не пройдет.")      
except ValueError:
    print("Вы ввели не числовые значения.")
   ],
   "outputs": [],
   "metadata": {}
  },
  {
   "cell_type": "markdown",
   "source": [
    "# Задание 2"
   ],
   "metadata": {}
  },
  {
   "cell_type": "markdown",
   "source": [
    "Пользователь вводит число n. Вывести n-ый член из [последовательности Фибоначчи](https://ru.wikipedia.org/wiki/Числа_Фибоначчи)."
   ],
   "metadata": {}
  },
  {
   "cell_type": "code",
   "execution_count": null,
   "source": [
    "### YOUR CODE HERE "
   ],
   "outputs": [],
   "metadata": {}
  },
  {
   "cell_type": "markdown",
   "source": [
    "# Задание 3"
   ],
   "metadata": {}
  },
  {
   "cell_type": "markdown",
   "source": [
    "Набрать 10 баллов на https://www.codewars.com"
   ],
   "metadata": {}
  },
  {
   "cell_type": "markdown",
   "source": [
    "Загрузить скрин с баллами."
   ],
   "metadata": {}
  }
 ]
}
