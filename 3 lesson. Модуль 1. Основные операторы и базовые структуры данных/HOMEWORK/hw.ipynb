{
 "cells": [
  {
   "cell_type": "markdown",
   "metadata": {},
   "source": [
    "# Задание 1"
   ]
  },
  {
   "cell_type": "markdown",
   "metadata": {},
   "source": [
    "Есть словарь товаров с их названиями и id\n",
    "```python\n",
    "goods = {\n",
    "    'Чай': '12345',\n",
    "    'Булка французкая': '23456',\n",
    "    'Вино': '34567',\n",
    "    'Килька запорожская': '45678',\n",
    "}\n",
    "```\n",
    "Есть словарь списков количества товаров в магазине.\n",
    "```python\n",
    "store = {\n",
    "    '12345': [\n",
    "        {'quantity': 30, 'price': 42},\n",
    "        {'quantity': 14, 'price': 222},\n",
    "    ],\n",
    "    '23456': [\n",
    "        {'quantity': 22, 'price': 510},\n",
    "    ],\n",
    "    '34567': [\n",
    "        {'quantity': 17, 'price': 1100},\n",
    "        {'quantity': 10, 'price': 1000},\n",
    "    ],\n",
    "    '45678': [\n",
    "        {'quantity': 50, 'price': 90},\n",
    "        {'quantity': 12, 'price': 195},\n",
    "        {'quantity': 43, 'price': 197},\n",
    "    ],\n",
    "}\n",
    "```\n",
    "Рассчитать на какую сумму лежит каждого товара в магазине."
   ]
  },
  {
   "cell_type": "code",
   "execution_count": null,
   "metadata": {},
   "outputs": [],
   "source": [
    "### YOUR CODE HERE "
   ]
  },
  {
   "cell_type": "markdown",
   "metadata": {},
   "source": [
    "# Задание 2"
   ]
  },
  {
   "cell_type": "markdown",
   "metadata": {},
   "source": [
    "https://www.codewars.com/kata/54b42f9314d9229fd6000d9c\n",
    "https://www.codewars.com/kata/546f922b54af40e1e90001da\n",
    "https://www.codewars.com/kata/550498447451fbbd7600041c\n",
    "https://www.codewars.com/kata/5426d7a2c2c7784365000783"
   ]
  }
 ],
 "metadata": {
  "language_info": {
   "codemirror_mode": {
    "name": "ipython",
    "version": 3
   },
   "file_extension": ".py",
   "mimetype": "text/x-python",
   "name": "python",
   "nbconvert_exporter": "python",
   "pygments_lexer": "ipython3",
   "version": 3
  },
  "orig_nbformat": 2
 },
 "nbformat": 4,
 "nbformat_minor": 2
}
