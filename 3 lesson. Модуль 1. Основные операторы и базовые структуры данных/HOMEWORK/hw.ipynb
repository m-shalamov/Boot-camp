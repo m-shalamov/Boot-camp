{
 "metadata": {
  "language_info": {
   "codemirror_mode": {
    "name": "ipython",
    "version": 3
   },
   "file_extension": ".py",
   "mimetype": "text/x-python",
   "name": "python",
   "nbconvert_exporter": "python",
   "pygments_lexer": "ipython3",
   "version": 3
  },
  "orig_nbformat": 2
 },
 "nbformat": 4,
 "nbformat_minor": 2,
 "cells": [
  {
   "cell_type": "markdown",
   "source": [
    "# Задание 1"
   ],
   "metadata": {}
  },
  {
   "cell_type": "markdown",
   "source": [
    "Есть словарь товаров с их названиями и id\n",
    "```python\n",
    "goods = {\n",
    "    'Чай': '12345',\n",
    "    'Булка французкая': '23456',\n",
    "    'Вино': '34567',\n",
    "    'Килька запорожская': '45678',\n",
    "}\n",
    "```\n",
    "Есть словарь списков количества товаров в магазине.\n",
    "```python\n",
    "store = {\n",
    "    '12345': [\n",
    "        {'quantity': 30, 'price': 42},\n",
    "        {'quantity': 14, 'price': 222},\n",
    "    ],\n",
    "    '23456': [\n",
    "        {'quantity': 22, 'price': 510},\n",
    "    ],\n",
    "    '34567': [\n",
    "        {'quantity': 17, 'price': 1100},\n",
    "        {'quantity': 10, 'price': 1000},\n",
    "    ],\n",
    "    '45678': [\n",
    "        {'quantity': 50, 'price': 90},\n",
    "        {'quantity': 12, 'price': 195},\n",
    "        {'quantity': 43, 'price': 197},\n",
    "    ],\n",
    "}\n",
    "```\n",
    "Рассчитать на какую сумму лежит каждого товара в магазине."
   ],
   "metadata": {}
  },
  {
   "cell_type": "code",
   "execution_count": null,
   "source": [
    "### YOUR CODE HERE "
   ],
   "outputs": [],
   "metadata": {}
  },
  {
   "cell_type": "markdown",
   "source": [
    "# Задание 2"
   ],
   "metadata": {}
  },
  {
   "cell_type": "code",
   "execution_count": null,
   "source": [
    "def translate(w):\r\n",
    "    w = w.lower()\r\n",
    "    if w in data:\r\n",
    "        return data[w]\r\n",
    "    elif len(get_close_matches(w, data.keys())) > 0:\r\n",
    "        answer = input(f\"Did you mean {get_close_matches(w, data.keys())[0]} instead? Enter Y if yes, or N if no: \")\r\n",
    "        if answer == \"Y\":\r\n",
    "            return data[get_close_matches(w, data.keys())[0]]\r\n",
    "        elif answer == \"N\":\r\n",
    "            return \"The word doesn't exist. Please double check it.\"\r\n",
    "        else:\r\n",
    "            return \"We didn't understand your entry.\"\r\n",
    "    else:\r\n",
    "        return \"The word doesn't exist. Please double check it.\""
   ],
   "outputs": [],
   "metadata": {}
  },
  {
   "cell_type": "markdown",
   "source": [
    "There's currently a bug in the program. When the user inputs a proper noun (e.g. Delhi, Paris, etc.) the program will convert it to lowercase and then tries to find the lowercase version (e.g. delhi)in the dataset and it cannot find it since the dataset has Delhi, but not delhi.\n",
    "\n",
    "Please add another conditional block to the program so that the program returns the definition of names that start with acapital letter. You can find thecode we have so farattached here in this lecture for your convenience."
   ],
   "metadata": {}
  },
  {
   "cell_type": "code",
   "execution_count": null,
   "source": [
    "### YOUR CODE HERE "
   ],
   "outputs": [],
   "metadata": {}
  },
  {
   "cell_type": "markdown",
   "source": [
    "# Задание 3"
   ],
   "metadata": {}
  },
  {
   "cell_type": "code",
   "execution_count": null,
   "source": [
    "def translate(w):\r\n",
    "    w = w.lower()\r\n",
    "    if w in data:\r\n",
    "        return data[w]\r\n",
    "    elif len(get_close_matches(w, data.keys())) > 0:\r\n",
    "        answer = input(f\"Did you mean {get_close_matches(w, data.keys())[0]} instead? Enter Y if yes, or N if no: \")\r\n",
    "        if answer == \"Y\":\r\n",
    "            return data[get_close_matches(w, data.keys())[0]]\r\n",
    "        elif answer == \"N\":\r\n",
    "            return \"The word doesn't exist. Please double check it.\"\r\n",
    "        else:\r\n",
    "            return \"We didn't understand your entry.\"\r\n",
    "    else:\r\n",
    "        return \"The word doesn't exist. Please double check it.\""
   ],
   "outputs": [],
   "metadata": {}
  },
  {
   "cell_type": "markdown",
   "source": [
    "A student discovered another issue with the program. The program cannot return the definition of acronyms such as USA or NATO. Therefore, please try to add another conditional that makes the program return the definition of such words."
   ],
   "metadata": {}
  },
  {
   "cell_type": "code",
   "execution_count": null,
   "source": [
    "### YOUR CODE HERE "
   ],
   "outputs": [],
   "metadata": {}
  }
 ]
}