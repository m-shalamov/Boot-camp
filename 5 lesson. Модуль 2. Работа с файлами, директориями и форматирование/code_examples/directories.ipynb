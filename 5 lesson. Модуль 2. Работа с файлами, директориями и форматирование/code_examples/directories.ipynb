{
 "metadata": {
  "language_info": {
   "codemirror_mode": {
    "name": "ipython",
    "version": 3
   },
   "file_extension": ".py",
   "mimetype": "text/x-python",
   "name": "python",
   "nbconvert_exporter": "python",
   "pygments_lexer": "ipython3",
   "version": "3.8.8"
  },
  "orig_nbformat": 2,
  "kernelspec": {
   "name": "python388jvsc74a57bd0262af24f6390e181d1b86df4568fd74653813b7e5cf759105ca918c8cd7e2241",
   "display_name": "Python 3.8.8 64-bit ('base': conda)"
  }
 },
 "nbformat": 4,
 "nbformat_minor": 2,
 "cells": [
  {
   "source": [
    "# Работа с файлами, директориями"
   ],
   "cell_type": "markdown",
   "metadata": {}
  },
  {
   "source": [
    "## Лекция"
   ],
   "cell_type": "markdown",
   "metadata": {}
  },
  {
   "source": [
    "### Поиск в файле"
   ],
   "cell_type": "markdown",
   "metadata": {}
  },
  {
   "source": [
    "Файл можно представить как ленту.\n",
    "Лента имеет начало и конец, каждый байт пронумерован.\n",
    "И мы можем ходить вдоль ленты - брать или класть байты.\n",
    "Если файл открыт только для чтения (посмотреть на байты)\n",
    "то при открытии файла стоим вначале ленты, на 0 месте,\n",
    "А при самом чтении - сдвигаемся вдоль ленты на количество прочитанных байт.\n",
    "file.tell() возвращает текущую позицию в байтах"
   ],
   "cell_type": "markdown",
   "metadata": {}
  },
  {
   "cell_type": "code",
   "execution_count": 2,
   "metadata": {},
   "outputs": [
    {
     "output_type": "stream",
     "name": "stdout",
     "text": [
      "Расписной овсянковый кардинал (лат. Passerina ciris) — \nпевчая птица семейства кардиналовых (Cardina\n---------\n165\nlidae), \nодна из самых разноцветных птиц Северной Америки. \nУ взрослого самца голова и затылок окрашены в голубой цвет, \nспина — в бронзово-зелёный, оперение снизу красное, а крылья и хвост — тёмные. \nСамка окрашена в тёмный зеленоватый цвет сверху и в желтовато-зелёный — снизу. \nАреал расписного овсянкового кардинала включает территории в Мексике и США, \nв зимнее время птицы мигрируют на территорию Багамских Островов, Белиза, \nКоста-Рики, Кубы, Сальвадора, Гватемалы, Гондураса, Никарагуа и Панамы.\nВид делится на непересекающиеся восточную и западную популяции, разделённые широким коридором.\nПтицы питаются преимущественно семенами трав, обычно находя корм на земле. \nСамка откладывает 3—4 яйца, которые насиживает 11—12 дней. \nВылупившиеся птенцы голые и беспомощные, но уже на 10—11-й день они покидают гнездо,\nпосле чего попадают под опеку самца, в то время как самка занимается второй кладкой.\nРасписной овсянковый кардинал был описан шведским естествоиспытателем \nКарлом Линнеем в десятом издании «Системы природы» в 1758 году. \nМеждународный союз охраны природы относит расписного овсянкового кардинала к видам,\nблизким к уязвимому положению, особые опасения вызывает численность восточной популяции. \nПомимо потери среды обитания и гнездового паразитизма буроголового коровьего трупиала, \nрасписные овсянковые кардиналы страдают от целенаправленного отлова красочных самцов, \nобладающих красивым пением, на продажу.\n2789\n"
     ]
    }
   ],
   "source": [
    "file_name = os.path.join(\"data\",\"bird.txt\")\n",
    "with open(file_name, 'r') as file:\n",
    "    content = file.read(100)#в символах\n",
    "    print(content)\n",
    "    print(\"---------\")\n",
    "    print(file.tell())  # в байтах\n",
    "    content = file.read()\n",
    "    print(content)\n",
    "    print(file.tell())  # в байтах"
   ]
  },
  {
   "cell_type": "code",
   "execution_count": 3,
   "metadata": {},
   "outputs": [],
   "source": [
    "import io"
   ]
  },
  {
   "cell_type": "code",
   "execution_count": null,
   "metadata": {},
   "outputs": [],
   "source": []
  },
  {
   "cell_type": "code",
   "execution_count": 14,
   "metadata": {},
   "outputs": [
    {
     "output_type": "stream",
     "name": "stdout",
     "text": [
      "Расписной овсянковый кардинал (лат. Passerina ciris) — \nпевчая птица семейства кардиналовых (Cardina\n---------\n165\n0\nРасписной овсянковый кардинал (лат. Passerina ciris) — \nпевчая птица семейства кардиналовых (Cardinalidae), \nодна из самых разноцветных птиц Северной Америки. \nУ взрослого самца голова и затылок окрашены в голубой цвет, \nспина — в бронзово-зелёный, оперение снизу красное, а крылья и хвост — тёмные. \nСамка окрашена в тёмный зеленоватый цвет сверху и в желтовато-зелёный — снизу. \nАреал расписного овсянкового кардинала включает территории в Мексике и США, \nв зимнее время птицы мигрируют на территорию Багамских Островов, Белиза, \nКоста-Рики, Кубы, Сальвадора, Гватемалы, Гондураса, Никарагуа и Панамы.\nВид делится на непересекающиеся восточную и западную популяции, разделённые широким коридором.\nПтицы питаются преимущественно семенами трав, обычно находя корм на земле. \nСамка откладывает 3—4 яйца, которые насиживает 11—12 дней. \nВылупившиеся птенцы голые и беспомощные, но уже на 10—11-й день они покидают гнездо,\nпосле чего попадают под опеку самца, в то время как самка занимается второй кладкой.\nРасписной овсянковый кардинал был описан шведским естествоиспытателем \nКарлом Линнеем в десятом издании «Системы природы» в 1758 году. \nМеждународный союз охраны природы относит расписного овсянкового кардинала к видам,\nблизким к уязвимому положению, особые опасения вызывает численность восточной популяции. \nПомимо потери среды обитания и гнездового паразитизма буроголового коровьего трупиала, \nрасписные овсянковые кардиналы страдают от целенаправленного отлова красочных самцов, \nобладающих красивым пением, на продажу.\n2789\n"
     ]
    },
    {
     "output_type": "error",
     "ename": "UnsupportedOperation",
     "evalue": "can't do nonzero end-relative seeks",
     "traceback": [
      "\u001b[1;31m---------------------------------------------------------------------------\u001b[0m",
      "\u001b[1;31mUnsupportedOperation\u001b[0m                      Traceback (most recent call last)",
      "\u001b[1;32m<ipython-input-14-487aa4aeb431>\u001b[0m in \u001b[0;36m<module>\u001b[1;34m\u001b[0m\n\u001b[0;32m     13\u001b[0m     \u001b[0mprint\u001b[0m\u001b[1;33m(\u001b[0m\u001b[0mcontent\u001b[0m\u001b[1;33m)\u001b[0m\u001b[1;33m\u001b[0m\u001b[1;33m\u001b[0m\u001b[0m\n\u001b[0;32m     14\u001b[0m     \u001b[0mprint\u001b[0m\u001b[1;33m(\u001b[0m\u001b[0mfile\u001b[0m\u001b[1;33m.\u001b[0m\u001b[0mtell\u001b[0m\u001b[1;33m(\u001b[0m\u001b[1;33m)\u001b[0m\u001b[1;33m)\u001b[0m  \u001b[1;31m# в байтах\u001b[0m\u001b[1;33m\u001b[0m\u001b[1;33m\u001b[0m\u001b[0m\n\u001b[1;32m---> 15\u001b[1;33m     \u001b[0mnew_position\u001b[0m \u001b[1;33m=\u001b[0m \u001b[0mfile\u001b[0m\u001b[1;33m.\u001b[0m\u001b[0mseek\u001b[0m\u001b[1;33m(\u001b[0m\u001b[1;33m-\u001b[0m\u001b[1;36m10\u001b[0m\u001b[1;33m,\u001b[0m \u001b[0mio\u001b[0m\u001b[1;33m.\u001b[0m\u001b[0mSEEK_END\u001b[0m\u001b[1;33m)\u001b[0m\u001b[1;33m\u001b[0m\u001b[1;33m\u001b[0m\u001b[0m\n\u001b[0m\u001b[0;32m     16\u001b[0m     \u001b[0mprint\u001b[0m\u001b[1;33m(\u001b[0m\u001b[0mfile\u001b[0m\u001b[1;33m.\u001b[0m\u001b[0mtell\u001b[0m\u001b[1;33m(\u001b[0m\u001b[1;33m)\u001b[0m\u001b[1;33m)\u001b[0m  \u001b[1;31m# в байтах\u001b[0m\u001b[1;33m\u001b[0m\u001b[1;33m\u001b[0m\u001b[0m\n",
      "\u001b[1;31mUnsupportedOperation\u001b[0m: can't do nonzero end-relative seeks"
     ]
    }
   ],
   "source": [
    "file_name = os.path.join(\"data\",\"bird.txt\")\n",
    "with open(file_name, 'r') as file:\n",
    "    content = file.read(100)#в символах\n",
    "    print(content)\n",
    "    print(\"---------\")\n",
    "    print(file.tell())  # в байтах\n",
    "    new_position = file.seek(0, io.SEEK_SET)\n",
    "    # io.SEEK_SET - начало файла\n",
    "    # io.SEEK_CUR - текущая позиция\n",
    "    # io.SEEK_END - конец файла\n",
    "    print(new_position)\n",
    "    content = file.read()\n",
    "    print(content)\n",
    "    print(file.tell())  # в байтах"
   ]
  },
  {
   "source": [
    "### Свойства файлов"
   ],
   "cell_type": "markdown",
   "metadata": {}
  },
  {
   "cell_type": "code",
   "execution_count": 6,
   "metadata": {},
   "outputs": [
    {
     "output_type": "stream",
     "name": "stdout",
     "text": [
      "data\\bird.txt\ncp65001\nFalse\n"
     ]
    }
   ],
   "source": [
    "file_name = os.path.join(\"data\",\"bird.txt\")\n",
    "with open(file_name, 'r') as file:\n",
    "    print(file.name)\n",
    "    print(file.encoding)\n",
    "    print(file.closed)"
   ]
  },
  {
   "source": [
    "### Модуль os"
   ],
   "cell_type": "markdown",
   "metadata": {}
  },
  {
   "cell_type": "code",
   "execution_count": 1,
   "metadata": {},
   "outputs": [],
   "source": [
    "import os\n",
    "import time\n",
    "import datetime"
   ]
  },
  {
   "source": [
    "#### Текущая директория"
   ],
   "cell_type": "markdown",
   "metadata": {}
  },
  {
   "cell_type": "code",
   "execution_count": 15,
   "metadata": {},
   "outputs": [
    {
     "output_type": "execute_result",
     "data": {
      "text/plain": [
       "'c:\\\\data\\\\courses\\\\python_colvir\\\\5. Модуль 5. Работа с файлами, директориями и форматирование\\\\code_examples'"
      ]
     },
     "metadata": {},
     "execution_count": 15
    }
   ],
   "source": [
    "os.getcwd()"
   ]
  },
  {
   "source": [
    "#### Смена директории"
   ],
   "cell_type": "markdown",
   "metadata": {}
  },
  {
   "cell_type": "code",
   "execution_count": 17,
   "metadata": {},
   "outputs": [],
   "source": [
    "path = \"c:\\\\data\\\\courses\\\\python_colvir\\\\5. Модуль 5. Работа с файлами, директориями и форматирование\""
   ]
  },
  {
   "cell_type": "code",
   "execution_count": 18,
   "metadata": {},
   "outputs": [],
   "source": [
    "os.chdir(path)"
   ]
  },
  {
   "cell_type": "code",
   "execution_count": 19,
   "metadata": {},
   "outputs": [
    {
     "output_type": "execute_result",
     "data": {
      "text/plain": [
       "'c:\\\\data\\\\courses\\\\python_colvir\\\\5. Модуль 5. Работа с файлами, директориями и форматирование'"
      ]
     },
     "metadata": {},
     "execution_count": 19
    }
   ],
   "source": [
    "os.getcwd()"
   ]
  },
  {
   "cell_type": "code",
   "execution_count": 21,
   "metadata": {},
   "outputs": [],
   "source": [
    "with open(\"g.txt\", \"w\", encoding=\"utf-8\") as f:\n",
    "    f.write(\"hello\")"
   ]
  },
  {
   "source": [
    "#### Еще методы"
   ],
   "cell_type": "markdown",
   "metadata": {}
  },
  {
   "cell_type": "code",
   "execution_count": 2,
   "metadata": {},
   "outputs": [
    {
     "output_type": "stream",
     "name": "stdout",
     "text": [
      "['data', 'experiment_for_os', 'lesson.ipynb']\n"
     ]
    }
   ],
   "source": [
    "print(os.listdir())"
   ]
  },
  {
   "cell_type": "code",
   "execution_count": 23,
   "metadata": {},
   "outputs": [],
   "source": [
    "os.mkdir(\"temp\")"
   ]
  },
  {
   "cell_type": "code",
   "execution_count": 24,
   "metadata": {},
   "outputs": [],
   "source": [
    "os.makedirs(\"temp_1/dir\")"
   ]
  },
  {
   "cell_type": "code",
   "execution_count": 29,
   "metadata": {},
   "outputs": [],
   "source": [
    "os.rmdir(\"temp\")"
   ]
  },
  {
   "cell_type": "code",
   "execution_count": 31,
   "metadata": {},
   "outputs": [],
   "source": [
    "os.removedirs(\"temp_1/dir\")"
   ]
  },
  {
   "cell_type": "code",
   "execution_count": 34,
   "metadata": {},
   "outputs": [],
   "source": [
    "os.rename(\"f.txt\",\"g.txt\")"
   ]
  },
  {
   "source": [
    "#### Проход по директориям"
   ],
   "cell_type": "markdown",
   "metadata": {}
  },
  {
   "cell_type": "code",
   "execution_count": 26,
   "metadata": {},
   "outputs": [
    {
     "output_type": "stream",
     "name": "stdout",
     "text": [
      "c:\\data\\courses\\python_colvir\\5. Модуль 5. Работа с файлами, директориями и форматирование\n['code_examples', 'HOMEWORK']\n[]\n-------------------\nc:\\data\\courses\\python_colvir\\5. Модуль 5. Работа с файлами, директориями и форматирование\\code_examples\n['data', 'experiment_for_os']\n['lesson.ipynb']\n-------------------\nc:\\data\\courses\\python_colvir\\5. Модуль 5. Работа с файлами, директориями и форматирование\\code_examples\\data\n[]\n['bird.txt']\n-------------------\nc:\\data\\courses\\python_colvir\\5. Модуль 5. Работа с файлами, директориями и форматирование\\code_examples\\experiment_for_os\n['1', '2', '3']\n['1.txt']\n-------------------\nc:\\data\\courses\\python_colvir\\5. Модуль 5. Работа с файлами, директориями и форматирование\\code_examples\\experiment_for_os\\1\n['1.1', '1.2', '1.3']\n['2.txt']\n-------------------\nc:\\data\\courses\\python_colvir\\5. Модуль 5. Работа с файлами, директориями и форматирование\\code_examples\\experiment_for_os\\1\\1.1\n[]\n['3.txt']\n-------------------\nc:\\data\\courses\\python_colvir\\5. Модуль 5. Работа с файлами, директориями и форматирование\\code_examples\\experiment_for_os\\1\\1.2\n[]\n['4.txt']\n-------------------\nc:\\data\\courses\\python_colvir\\5. Модуль 5. Работа с файлами, директориями и форматирование\\code_examples\\experiment_for_os\\1\\1.3\n[]\n['5.txt']\n-------------------\nc:\\data\\courses\\python_colvir\\5. Модуль 5. Работа с файлами, директориями и форматирование\\code_examples\\experiment_for_os\\2\n['2.1', '2.2']\n[]\n-------------------\nc:\\data\\courses\\python_colvir\\5. Модуль 5. Работа с файлами, директориями и форматирование\\code_examples\\experiment_for_os\\2\\2.1\n[]\n[]\n-------------------\nc:\\data\\courses\\python_colvir\\5. Модуль 5. Работа с файлами, директориями и форматирование\\code_examples\\experiment_for_os\\2\\2.2\n[]\n['7.txt']\n-------------------\nc:\\data\\courses\\python_colvir\\5. Модуль 5. Работа с файлами, директориями и форматирование\\code_examples\\experiment_for_os\\3\n[]\n['6.txt']\n-------------------\nc:\\data\\courses\\python_colvir\\5. Модуль 5. Работа с файлами, директориями и форматирование\\HOMEWORK\n[]\n['hw.ipynb']\n-------------------\n"
     ]
    }
   ],
   "source": [
    "for dir_path, dir_list, file_list in os.walk(path):\n",
    "    print(dir_path)\n",
    "    print(dir_list)\n",
    "    print(file_list)\n",
    "    print(\"-------------------\")"
   ]
  },
  {
   "source": [
    "## Лекция"
   ],
   "cell_type": "markdown",
   "metadata": {}
  },
  {
   "source": [
    "#### Получение пути в форме текущей ОС"
   ],
   "cell_type": "markdown",
   "metadata": {}
  },
  {
   "source": [
    "os.path.normpath(os.getcwd())"
   ],
   "cell_type": "code",
   "metadata": {},
   "execution_count": 7,
   "outputs": [
    {
     "output_type": "execute_result",
     "data": {
      "text/plain": [
       "'c:\\\\data\\\\courses\\\\python_colvir\\\\5. Модуль 5. Работа с файлами, директориями и форматирование\\\\code_examples'"
      ]
     },
     "metadata": {},
     "execution_count": 7
    }
   ]
  },
  {
   "source": [
    "#### Размер файла"
   ],
   "cell_type": "markdown",
   "metadata": {}
  },
  {
   "cell_type": "code",
   "execution_count": 30,
   "metadata": {},
   "outputs": [
    {
     "output_type": "execute_result",
     "data": {
      "text/plain": [
       "33217"
      ]
     },
     "metadata": {},
     "execution_count": 30
    }
   ],
   "source": [
    "os.path.getsize(os.path.join(\"code_examples\",\"lesson.ipynb\"))"
   ]
  },
  {
   "source": [
    "#### Еще несколько методов"
   ],
   "cell_type": "markdown",
   "metadata": {}
  },
  {
   "cell_type": "code",
   "execution_count": 31,
   "metadata": {},
   "outputs": [
    {
     "output_type": "execute_result",
     "data": {
      "text/plain": [
       "'c:\\\\data\\\\courses\\\\python_colvir'"
      ]
     },
     "metadata": {},
     "execution_count": 31
    }
   ],
   "source": [
    "os.path.dirname(path)"
   ]
  },
  {
   "cell_type": "code",
   "execution_count": 5,
   "metadata": {},
   "outputs": [
    {
     "output_type": "error",
     "ename": "NameError",
     "evalue": "name '__file__' is not defined",
     "traceback": [
      "\u001b[1;31m---------------------------------------------------------------------------\u001b[0m",
      "\u001b[1;31mNameError\u001b[0m                                 Traceback (most recent call last)",
      "\u001b[1;32m<ipython-input-5-c7ff49d099bc>\u001b[0m in \u001b[0;36m<module>\u001b[1;34m\u001b[0m\n\u001b[1;32m----> 1\u001b[1;33m \u001b[0mos\u001b[0m\u001b[1;33m.\u001b[0m\u001b[0mpath\u001b[0m\u001b[1;33m.\u001b[0m\u001b[0mdirname\u001b[0m\u001b[1;33m(\u001b[0m\u001b[0m__file__\u001b[0m\u001b[1;33m)\u001b[0m\u001b[1;31m#Модуль\u001b[0m\u001b[1;33m\u001b[0m\u001b[1;33m\u001b[0m\u001b[0m\n\u001b[0m",
      "\u001b[1;31mNameError\u001b[0m: name '__file__' is not defined"
     ]
    }
   ],
   "source": [
    "os.path.dirname(__file__)#Модуль"
   ]
  },
  {
   "cell_type": "code",
   "execution_count": 46,
   "metadata": {},
   "outputs": [
    {
     "output_type": "execute_result",
     "data": {
      "text/plain": [
       "'fil.txt'"
      ]
     },
     "metadata": {},
     "execution_count": 46
    }
   ],
   "source": [
    "os.path.basename(\"/dir/fil.txt\")"
   ]
  },
  {
   "cell_type": "code",
   "execution_count": 47,
   "metadata": {},
   "outputs": [
    {
     "output_type": "execute_result",
     "data": {
      "text/plain": [
       "('/dir', 'fil.txt')"
      ]
     },
     "metadata": {},
     "execution_count": 47
    }
   ],
   "source": [
    "os.path.split(\"/dir/fil.txt\")\n"
   ]
  },
  {
   "cell_type": "code",
   "execution_count": 4,
   "metadata": {},
   "outputs": [
    {
     "output_type": "execute_result",
     "data": {
      "text/plain": [
       "True"
      ]
     },
     "metadata": {},
     "execution_count": 4
    }
   ],
   "source": [
    "os.path.exists(\"data\\\\bird.txt\")"
   ]
  },
  {
   "cell_type": "code",
   "execution_count": 8,
   "metadata": {},
   "outputs": [
    {
     "output_type": "execute_result",
     "data": {
      "text/plain": [
       "True"
      ]
     },
     "metadata": {},
     "execution_count": 8
    }
   ],
   "source": [
    "os.path.isdir(\"data\")"
   ]
  },
  {
   "cell_type": "code",
   "execution_count": 3,
   "metadata": {},
   "outputs": [
    {
     "output_type": "execute_result",
     "data": {
      "text/plain": [
       "True"
      ]
     },
     "metadata": {},
     "execution_count": 3
    }
   ],
   "source": [
    "os.path.isfile(\"data\\\\bird.txt\")"
   ]
  },
  {
   "cell_type": "code",
   "execution_count": 51,
   "metadata": {},
   "outputs": [
    {
     "output_type": "execute_result",
     "data": {
      "text/plain": [
       "('/dir/fil', '.txt')"
      ]
     },
     "metadata": {},
     "execution_count": 51
    }
   ],
   "source": [
    "os.path.splitext(\"/dir/fil.txt\")"
   ]
  },
  {
   "cell_type": "code",
   "execution_count": null,
   "metadata": {},
   "outputs": [],
   "source": [
    "import shutil\n",
    "shutil.move()"
   ]
  },
  {
   "source": [
    "## Практика"
   ],
   "cell_type": "markdown",
   "metadata": {}
  },
  {
   "source": [
    "Посчитать кол-во файлов в директории"
   ],
   "cell_type": "markdown",
   "metadata": {}
  },
  {
   "cell_type": "code",
   "execution_count": null,
   "metadata": {},
   "outputs": [],
   "source": [
    "quantity = 0\n",
    "for dir_path, dir_list, file_list in os.walk(os.getcwd()):\n",
    "    quantity+=len(file_list)\n",
    "print(quantity)"
   ]
  },
  {
   "source": [
    "Посчитать кол-во файлов с расширением .txt"
   ],
   "cell_type": "markdown",
   "metadata": {}
  },
  {
   "cell_type": "code",
   "execution_count": null,
   "metadata": {},
   "outputs": [],
   "source": [
    "file_cnt = 0\n",
    "for dir_path, dir_list, file_list in os.walk(os.getcwd()):\n",
    "    for file_name in file_list:\n",
    "        if file_name[-3:].lower() == \"txt\":\n",
    "            file_cnt += 1\n",
    "print(file_cnt)"
   ]
  },
  {
   "cell_type": "code",
   "execution_count": null,
   "metadata": {},
   "outputs": [],
   "source": [
    "Дана папка с различными файлами. Для каждого типа файла создать свою папку и положить в нее каждый файл."
   ]
  },
  {
   "cell_type": "code",
   "execution_count": null,
   "metadata": {},
   "outputs": [],
   "source": [
    "import shutil\n",
    "for dir_path, dir_list, file_list in os.walk(os.getcwd()):\n",
    "    for file_name in file_list:\n",
    "        folder_name = os.path.join(dir_path, file_name.split(\".\")[1])\n",
    "        if not os.path.isdir(os.path.join(os.getcwd(), folder_name)):\n",
    "            os.mkdir(folder_name)\n",
    "        print(os.path.join(dir_path, file_name), os.path.join(folder_name, file_name))    \n",
    "        shutil.move(os.path.join(dir_path, file_name), os.path.join(folder_name, file_name))"
   ]
  },
  {
   "source": [
    "## Лекция"
   ],
   "cell_type": "markdown",
   "metadata": {}
  },
  {
   "source": [
    "### Запуск файла из терминала"
   ],
   "cell_type": "markdown",
   "metadata": {}
  },
  {
   "source": [
    "```\n",
    "python pythonScriptName.py\n",
    "```"
   ],
   "cell_type": "markdown",
   "metadata": {}
  },
  {
   "source": [
    "### Создание exe"
   ],
   "cell_type": "markdown",
   "metadata": {}
  },
  {
   "source": [
    "* pip install pyinstaller\n",
    "* pyinstaller --onefile pythonScriptName.py"
   ],
   "cell_type": "markdown",
   "metadata": {}
  },
  {
   "source": [
    "[Режимы открытия файлов](https://www.programmersought.com/article/37955588131/)"
   ],
   "cell_type": "markdown",
   "metadata": {}
  },
  {
   "cell_type": "code",
   "execution_count": null,
   "metadata": {},
   "outputs": [],
   "source": [
    "import time\n",
    "from datetime import datetime as dt\n",
    "windows = \"C:\\\\Windows\\\\System32\\\\drivers\\\\etc\\\\hosts\"\n",
    "linux = \"/etc/hosts\"\n",
    "hosts_path=windows\n",
    "redirect=\"127.0.0.1\"\n",
    "website_list=[\"www.facebook.com\",\"facebook.com\"]\n",
    "\n",
    "while True:\n",
    "    if dt(dt.now().year,dt.now().month,dt.now().day,8) < dt.now() < dt(dt.now().year,dt.now().month,dt.now().day,16):\n",
    "        print(\"Working hours...\")\n",
    "        with open(hosts_path,'r+') as file:\n",
    "            content=file.read()\n",
    "            for website in website_list:\n",
    "                if website in content:\n",
    "                    pass\n",
    "                else:\n",
    "                    file.write(redirect+\" \"+ website+\"\\n\")\n",
    "    else:\n",
    "       \n",
    "    time.sleep(5)"
   ]
  }
 ]
}