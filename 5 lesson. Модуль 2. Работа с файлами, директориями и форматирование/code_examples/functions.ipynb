{
 "metadata": {
  "language_info": {
   "codemirror_mode": {
    "name": "ipython",
    "version": 3
   },
   "file_extension": ".py",
   "mimetype": "text/x-python",
   "name": "python",
   "nbconvert_exporter": "python",
   "pygments_lexer": "ipython3",
   "version": "3.8.8"
  },
  "orig_nbformat": 2,
  "kernelspec": {
   "name": "python3",
   "display_name": "Python 3.8.8 64-bit ('base': conda)"
  },
  "interpreter": {
   "hash": "7b1a062bb510a37bcdd2ba61ed6bba242638905c2c079c3f0f71d3b5a6f7f2ab"
  }
 },
 "nbformat": 4,
 "nbformat_minor": 2,
 "cells": [
  {
   "cell_type": "markdown",
   "source": [
    "# Процедурное программирование"
   ],
   "metadata": {}
  },
  {
   "cell_type": "markdown",
   "source": [
    "## Лекция"
   ],
   "metadata": {}
  },
  {
   "cell_type": "markdown",
   "source": [
    "### Встроенные функции"
   ],
   "metadata": {}
  },
  {
   "cell_type": "markdown",
   "source": [
    "```python\n",
    "min()\n",
    "max()\n",
    "sum()\n",
    "sorted()\n",
    "len()\n",
    "zip()\n",
    "enumerate()\n",
    "all()\n",
    "any()\n",
    "dir()\n",
    "help()\n",
    "id()\n",
    "isinstance()\n",
    "type()\n",
    "```"
   ],
   "metadata": {}
  },
  {
   "cell_type": "code",
   "execution_count": 5,
   "source": [
    "from pprint import pprint"
   ],
   "outputs": [],
   "metadata": {}
  },
  {
   "cell_type": "code",
   "execution_count": null,
   "source": [
    "arr = [17,62,3,4,5,6]\r\n",
    "print(len(arr))\r\n",
    "print(max(arr))\r\n",
    "print(min(arr))\r\n",
    "print(sum(arr))\r\n",
    "print(sorted(arr))\r\n",
    "print(arr)\r\n",
    "print(arr.sort())\r\n",
    "print(arr)"
   ],
   "outputs": [],
   "metadata": {}
  },
  {
   "cell_type": "code",
   "execution_count": null,
   "source": [
    "x = [1,2,3,4]\r\n",
    "y = [9,8,7,9]\r\n",
    "z = zip(x,y,x)\r\n",
    "list(z)\r\n",
    "for it1, it2 in zip(x,y):\r\n",
    "    print(it1, it2)"
   ],
   "outputs": [],
   "metadata": {}
  },
  {
   "cell_type": "code",
   "execution_count": null,
   "source": [
    "list(enumerate(x, start=10))"
   ],
   "outputs": [],
   "metadata": {}
  },
  {
   "cell_type": "code",
   "execution_count": null,
   "source": [
    "for i, n in enumerate(x, start=10):\r\n",
    "    print(i,n)"
   ],
   "outputs": [],
   "metadata": {}
  },
  {
   "cell_type": "code",
   "execution_count": null,
   "source": [
    "all([True, False, True])"
   ],
   "outputs": [],
   "metadata": {}
  },
  {
   "cell_type": "code",
   "execution_count": null,
   "source": [
    "any([True, False, True])"
   ],
   "outputs": [],
   "metadata": {}
  },
  {
   "cell_type": "code",
   "execution_count": null,
   "source": [
    "arr = [1,2,3,4]\r\n",
    "dir(arr)\r\n",
    "pprint(dir([]))"
   ],
   "outputs": [],
   "metadata": {}
  },
  {
   "cell_type": "code",
   "execution_count": null,
   "source": [
    "help([])"
   ],
   "outputs": [],
   "metadata": {}
  },
  {
   "cell_type": "code",
   "execution_count": null,
   "source": [
    "help(help)"
   ],
   "outputs": [],
   "metadata": {}
  },
  {
   "cell_type": "code",
   "execution_count": null,
   "source": [
    "x = 3\r\n",
    "print(id(x))\r\n",
    "x = x+1\r\n",
    "print(id(x))"
   ],
   "outputs": [],
   "metadata": {}
  },
  {
   "cell_type": "code",
   "execution_count": null,
   "source": [
    "x = 3\r\n",
    "y = 3\r\n",
    "print(id(x))\r\n",
    "print(id(y))\r\n",
    "print(x is y)"
   ],
   "outputs": [],
   "metadata": {}
  },
  {
   "cell_type": "code",
   "execution_count": null,
   "source": [
    "a = [1,2,3,4]\r\n",
    "b = a\r\n",
    "a.append(5)\r\n",
    "b"
   ],
   "outputs": [],
   "metadata": {}
  },
  {
   "cell_type": "code",
   "execution_count": null,
   "source": [
    "a = [1,2,3,4]\r\n",
    "b = a\r\n",
    "print(id(a))\r\n",
    "print(id(b))"
   ],
   "outputs": [],
   "metadata": {}
  },
  {
   "cell_type": "code",
   "execution_count": null,
   "source": [
    "a = [1,2,3,4]\r\n",
    "b = a\r\n",
    "c = [1,2,3,4]\r\n",
    "print(a==b, a is b, a == c, a is c)\r\n",
    "# print(id(c))\r\n",
    "# print(id(b))"
   ],
   "outputs": [],
   "metadata": {}
  },
  {
   "cell_type": "code",
   "execution_count": null,
   "source": [
    "print(type([]))\r\n",
    "print(type(2))\r\n",
    "if type(2) == int:\r\n",
    "    print(\"integer\")"
   ],
   "outputs": [],
   "metadata": {}
  },
  {
   "cell_type": "code",
   "execution_count": null,
   "source": [
    "isinstance(1, object)"
   ],
   "outputs": [],
   "metadata": {}
  },
  {
   "cell_type": "code",
   "execution_count": null,
   "source": [
    "arr = [\"he\", \"llo\", \"avcda\"]\r\n",
    "print(max(arr, key=len))"
   ],
   "outputs": [],
   "metadata": {}
  },
  {
   "cell_type": "markdown",
   "source": [
    "### Функции"
   ],
   "metadata": {}
  },
  {
   "cell_type": "code",
   "execution_count": null,
   "source": [
    "def f(a,b,c):\r\n",
    "    return a+b+c\r\n",
    "f(1,2,3)"
   ],
   "outputs": [],
   "metadata": {}
  },
  {
   "cell_type": "code",
   "execution_count": null,
   "source": [
    "def f(a,b,c):\r\n",
    "    return a**2,b**2\r\n",
    "res = f(1,2,3)\r\n",
    "type(res)"
   ],
   "outputs": [],
   "metadata": {}
  },
  {
   "cell_type": "code",
   "execution_count": null,
   "source": [
    "x = 10\r\n",
    "def f(a1):\r\n",
    "    b1 = a1 *x\r\n",
    "    print(b1)\r\n",
    "f(3)\r\n",
    "print(a1)\r\n",
    "print(b1)"
   ],
   "outputs": [],
   "metadata": {}
  },
  {
   "cell_type": "markdown",
   "source": [
    "### Пространство имен"
   ],
   "metadata": {}
  },
  {
   "cell_type": "code",
   "execution_count": null,
   "source": [],
   "outputs": [],
   "metadata": {}
  },
  {
   "cell_type": "code",
   "execution_count": null,
   "source": [
    "for i in range(4):\r\n",
    "    print(i)\r\n",
    "print(i)"
   ],
   "outputs": [],
   "metadata": {}
  },
  {
   "cell_type": "code",
   "execution_count": null,
   "source": [
    "if 4>3:\r\n",
    "    zzz = 3\r\n",
    "zzz"
   ],
   "outputs": [],
   "metadata": {}
  },
  {
   "cell_type": "markdown",
   "source": [
    "[статья](https://realpython.com/python-namespaces-scope/)\n"
   ],
   "metadata": {}
  },
  {
   "cell_type": "markdown",
   "source": [
    "**Встроенное пространство имен**"
   ],
   "metadata": {}
  },
  {
   "cell_type": "code",
   "execution_count": 2,
   "source": [
    "# dir(__builtins__)"
   ],
   "outputs": [],
   "metadata": {}
  },
  {
   "cell_type": "markdown",
   "source": [
    "**Глобальное пространство имен**"
   ],
   "metadata": {}
  },
  {
   "cell_type": "code",
   "execution_count": 1,
   "source": [
    "g = 1\r\n",
    "# globals()\r\n",
    "from pprint import pprint\r\n",
    "g = 1\r\n",
    "pprint(globals())"
   ],
   "outputs": [],
   "metadata": {}
  },
  {
   "cell_type": "markdown",
   "source": [
    "**Локальное и объемлющее пространство имен**"
   ],
   "metadata": {}
  },
  {
   "cell_type": "code",
   "execution_count": 2,
   "source": [
    "x = 3\r\n",
    "def f():\r\n",
    "    print(x)\r\n",
    "f()"
   ],
   "outputs": [
    {
     "output_type": "stream",
     "name": "stdout",
     "text": [
      "3\n"
     ]
    }
   ],
   "metadata": {}
  },
  {
   "cell_type": "code",
   "execution_count": null,
   "source": [
    "def f(a1):\r\n",
    "    b1 = a1 *x\r\n",
    "    print(locals())\r\n",
    "f(2)"
   ],
   "outputs": [],
   "metadata": {}
  },
  {
   "cell_type": "code",
   "execution_count": 7,
   "source": [
    "def f():\r\n",
    "    z = 3\r\n",
    "    pprint(locals())"
   ],
   "outputs": [],
   "metadata": {}
  },
  {
   "cell_type": "code",
   "execution_count": 8,
   "source": [
    "f()"
   ],
   "outputs": [
    {
     "output_type": "stream",
     "name": "stdout",
     "text": [
      "{'z': 3}\n"
     ]
    }
   ],
   "metadata": {}
  },
  {
   "cell_type": "markdown",
   "source": [
    "**Порядок поиска переменных**"
   ],
   "metadata": {}
  },
  {
   "cell_type": "code",
   "execution_count": 10,
   "source": [
    "x = 'global'\r\n",
    "def f():\r\n",
    "    # x = 'enclosing'\r\n",
    "    \r\n",
    "    def g():\r\n",
    "        # x = 'local'\r\n",
    "        print(x)\r\n",
    "    pprint(locals())\r\n",
    "    g()\r\n",
    "f()"
   ],
   "outputs": [
    {
     "output_type": "stream",
     "name": "stdout",
     "text": [
      "{'g': <function f.<locals>.g at 0x0000026745DE3940>}\n",
      "global\n"
     ]
    }
   ],
   "metadata": {}
  },
  {
   "cell_type": "markdown",
   "source": [
    "**Операторы управления потоком не создают локального пространства имен**"
   ],
   "metadata": {}
  },
  {
   "cell_type": "markdown",
   "source": [
    "### Способы вызова функций"
   ],
   "metadata": {}
  },
  {
   "cell_type": "markdown",
   "source": [
    "**Позиционные**"
   ],
   "metadata": {}
  },
  {
   "cell_type": "code",
   "execution_count": null,
   "source": [
    "def f(x,y,z):\r\n",
    "    return x+y+z\r\n",
    "res = f(1,2,3)\r\n",
    "print(res)"
   ],
   "outputs": [],
   "metadata": {}
  },
  {
   "cell_type": "markdown",
   "source": [
    "**Именованные**"
   ],
   "metadata": {}
  },
  {
   "cell_type": "code",
   "execution_count": null,
   "source": [
    "def f(x,y,z):\r\n",
    "    return x+y+z\r\n",
    "res = f(x = 1, y = 2, z = 3)\r\n",
    "print(res)"
   ],
   "outputs": [],
   "metadata": {}
  },
  {
   "cell_type": "code",
   "execution_count": null,
   "source": [
    "def f(x,y,z):\r\n",
    "    return x+y+z\r\n",
    "res = f(x=2,3, z =4)\r\n",
    "print(res)"
   ],
   "outputs": [],
   "metadata": {}
  },
  {
   "cell_type": "code",
   "execution_count": null,
   "source": [
    "def f(*args):\r\n",
    "    print(type(args))\r\n",
    "    res = 0\r\n",
    "    for item in args:\r\n",
    "        res +=item\r\n",
    "    return res\r\n",
    "f(1,1,2,3,4,5)"
   ],
   "outputs": [],
   "metadata": {}
  },
  {
   "cell_type": "code",
   "execution_count": null,
   "source": [
    "def f(**kwargs):\r\n",
    "    print(type(kwargs))\r\n",
    "    for key, val in kwargs.items():\r\n",
    "        print(key, val)\r\n",
    "f(x=1,y=2,z=3)"
   ],
   "outputs": [],
   "metadata": {}
  },
  {
   "cell_type": "code",
   "execution_count": null,
   "source": [
    "def f(*args, **kwargs):\r\n",
    "    print(type(args))\r\n",
    "    print(type(kwargs))\r\n",
    "    res = 0\r\n",
    "    for item in args:\r\n",
    "        res +=item\r\n",
    "    for key, val in kwargs.items():\r\n",
    "        print(key, val)\r\n",
    "    return res\r\n",
    "f(4,x=1,y=2,z=3)"
   ],
   "outputs": [],
   "metadata": {}
  },
  {
   "cell_type": "markdown",
   "source": [
    "### Распаковка "
   ],
   "metadata": {}
  },
  {
   "cell_type": "code",
   "execution_count": 11,
   "source": [
    "def s(x,y,z):\r\n",
    "    print(z+y+z)"
   ],
   "outputs": [],
   "metadata": {}
  },
  {
   "cell_type": "code",
   "execution_count": 28,
   "source": [
    "def s(*arr):\r\n",
    "    print(type(arr))\r\n",
    "    res = 0\r\n",
    "    for item in arr:\r\n",
    "        res+=item\r\n",
    "    print(res)"
   ],
   "outputs": [],
   "metadata": {}
  },
  {
   "cell_type": "markdown",
   "source": [
    "**Неименованные аргументы**"
   ],
   "metadata": {}
  },
  {
   "cell_type": "code",
   "execution_count": 14,
   "source": [
    "arr = [1,2,3]\r\n",
    "s(*arr)"
   ],
   "outputs": [
    {
     "output_type": "stream",
     "name": "stdout",
     "text": [
      "8\n"
     ]
    }
   ],
   "metadata": {}
  },
  {
   "cell_type": "code",
   "execution_count": 29,
   "source": [
    "s(2,10,98)"
   ],
   "outputs": [
    {
     "output_type": "stream",
     "name": "stdout",
     "text": [
      "<class 'tuple'>\n",
      "110\n"
     ]
    }
   ],
   "metadata": {}
  },
  {
   "cell_type": "code",
   "execution_count": 31,
   "source": [
    "arr = [1,2,3]\r\n",
    "s(*arr)"
   ],
   "outputs": [
    {
     "output_type": "stream",
     "name": "stdout",
     "text": [
      "<class 'tuple'>\n",
      "6\n"
     ]
    }
   ],
   "metadata": {}
  },
  {
   "cell_type": "markdown",
   "source": [
    "**Именованные аргументы**"
   ],
   "metadata": {}
  },
  {
   "cell_type": "code",
   "execution_count": 17,
   "source": [
    "my_dict = {'x': 2, 'y': 3, 'z': 4}\r\n",
    "s(**my_dict)\r\n",
    "s(x=2, y=3, z=4)"
   ],
   "outputs": [
    {
     "output_type": "stream",
     "name": "stdout",
     "text": [
      "11\n",
      "11\n"
     ]
    }
   ],
   "metadata": {}
  },
  {
   "cell_type": "code",
   "execution_count": 32,
   "source": [
    "def s(**kwargs):\r\n",
    "    print(type(arr))\r\n",
    "    for key, val in kwargs.items():\r\n",
    "        print(key, val)\r\n",
    "person = {'name': 'Tom', 'address': 'Moscow', 'age': 30}\r\n",
    "s(**person)"
   ],
   "outputs": [
    {
     "output_type": "stream",
     "name": "stdout",
     "text": [
      "<class 'list'>\n",
      "name Tom\n",
      "address Moscow\n",
      "age 30\n"
     ]
    }
   ],
   "metadata": {}
  },
  {
   "cell_type": "markdown",
   "source": [
    "### Параметры по умолчанию"
   ],
   "metadata": {}
  },
  {
   "cell_type": "code",
   "execution_count": null,
   "source": [
    "def f(x, y = 0, z = 0):\r\n",
    "    print(x,y,z)\r\n",
    "x=f(1,z=2)\r\n",
    "print(x)"
   ],
   "outputs": [],
   "metadata": {}
  },
  {
   "cell_type": "markdown",
   "source": [
    "**Типичная ошибка**"
   ],
   "metadata": {}
  },
  {
   "cell_type": "markdown",
   "source": [
    "Значения по умолчанию вычисляются в точке определения функции, при компиляции. Ошибка возникает, когда изменяемый обьект в качестве параметра по умолчанию"
   ],
   "metadata": {}
  },
  {
   "cell_type": "code",
   "execution_count": 18,
   "source": [
    "def add_element(element, my_list=[]):\r\n",
    "    \"\"\"добавляем элемент к списку\"\"\"\r\n",
    "    my_list.append(element)\r\n",
    "    return my_list"
   ],
   "outputs": [],
   "metadata": {}
  },
  {
   "cell_type": "code",
   "execution_count": 23,
   "source": [
    "new_list = add_element(element=1)\r\n",
    "new_list"
   ],
   "outputs": [
    {
     "output_type": "execute_result",
     "data": {
      "text/plain": [
       "[1, 1, 2, 1]"
      ]
     },
     "metadata": {},
     "execution_count": 23
    }
   ],
   "metadata": {}
  },
  {
   "cell_type": "code",
   "execution_count": 24,
   "source": [
    "other_new_list = add_element(element=2)\r\n",
    "other_new_list"
   ],
   "outputs": [
    {
     "output_type": "execute_result",
     "data": {
      "text/plain": [
       "[1, 1, 2, 1, 2]"
      ]
     },
     "metadata": {},
     "execution_count": 24
    }
   ],
   "metadata": {}
  },
  {
   "cell_type": "markdown",
   "source": [
    "[Визуализация](http://www.pythontutor.com/visualize.html#mode=edit)"
   ],
   "metadata": {}
  }
 ]
}