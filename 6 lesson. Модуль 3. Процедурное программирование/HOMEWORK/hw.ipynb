{
 "metadata": {
  "language_info": {
   "codemirror_mode": {
    "name": "ipython",
    "version": 3
   },
   "file_extension": ".py",
   "mimetype": "text/x-python",
   "name": "python",
   "nbconvert_exporter": "python",
   "pygments_lexer": "ipython3",
   "version": 3
  },
  "orig_nbformat": 2
 },
 "nbformat": 4,
 "nbformat_minor": 2,
 "cells": [
  {
   "cell_type": "markdown",
   "source": [
    "# Задание 1"
   ],
   "metadata": {}
  },
  {
   "cell_type": "markdown",
   "source": [
    "Дан список. Найти сумму его элементов с помощью рекурсии"
   ],
   "metadata": {}
  },
  {
   "cell_type": "code",
   "execution_count": null,
   "source": [
    "### YOUR CODE HERE "
   ],
   "outputs": [],
   "metadata": {}
  },
  {
   "cell_type": "markdown",
   "source": [
    "# Задание 2"
   ],
   "metadata": {}
  },
  {
   "cell_type": "markdown",
   "source": [
    "* Сгенерировать большой набор данных о людях(ФИО, возраст, адрес, email и тп). \n",
    "* Записать в [csv](https://docs.python.org/3/library/csv.html) файл.\n",
    "* Считать данные из файла в словарь\n",
    "* Составить список самых часто встречающихся имен(без учета фамилии и отчества)\n",
    "* Разбить программу на функции"
   ],
   "metadata": {}
  },
  {
   "cell_type": "code",
   "execution_count": null,
   "source": [
    "### YOUR CODE HERE "
   ],
   "outputs": [],
   "metadata": {}
  },
  {
   "cell_type": "markdown",
   "source": [
    "# Задание 3"
   ],
   "metadata": {}
  },
  {
   "cell_type": "markdown",
   "source": [
    "Реализовать вычисление [функции Акермана](https://ru.wikipedia.org/wiki/%D0%A4%D1%83%D0%BD%D0%BA%D1%86%D0%B8%D1%8F_%D0%90%D0%BA%D0%BA%D0%B5%D1%80%D0%BC%D0%B0%D0%BD%D0%B0)  рекурсивным образом"
   ],
   "metadata": {}
  },
  {
   "cell_type": "code",
   "execution_count": null,
   "source": [
    "### YOUR CODE HERE "
   ],
   "outputs": [],
   "metadata": {}
  }
 ]
}