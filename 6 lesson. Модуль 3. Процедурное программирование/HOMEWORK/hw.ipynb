{
 "metadata": {
  "language_info": {
   "codemirror_mode": {
    "name": "ipython",
    "version": 3
   },
   "file_extension": ".py",
   "mimetype": "text/x-python",
   "name": "python",
   "nbconvert_exporter": "python",
   "pygments_lexer": "ipython3",
   "version": 3
  },
  "orig_nbformat": 2
 },
 "nbformat": 4,
 "nbformat_minor": 2,
 "cells": [
  {
   "cell_type": "code",
   "execution_count": null,
   "source": [
    "### YOUR CODE HERE "
   ],
   "outputs": [],
   "metadata": {}
  },
  {
   "cell_type": "markdown",
   "source": [
    "# Задание 2"
   ],
   "metadata": {}
  },
  {
   "cell_type": "markdown",
   "source": [
    "* Сгенерировать большой набор данных о людях(ФИО, возраст, адрес, email и тп). \n",
    "* Записать в [csv](https://docs.python.org/3/library/csv.html) файл.\n",
    "* Считать данные из файла в словарь\n",
    "* Составить список самых часто встречающихся имен(без учета фамилии и отчества)\n",
    "* Разбить программу на функции"
   ],
   "metadata": {}
  }
 ]
}