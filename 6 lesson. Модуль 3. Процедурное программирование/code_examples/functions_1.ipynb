{
 "metadata": {
  "language_info": {
   "codemirror_mode": {
    "name": "ipython",
    "version": 3
   },
   "file_extension": ".py",
   "mimetype": "text/x-python",
   "name": "python",
   "nbconvert_exporter": "python",
   "pygments_lexer": "ipython3",
   "version": "3.8.8"
  },
  "orig_nbformat": 2,
  "kernelspec": {
   "name": "python3",
   "display_name": "Python 3.8.8 64-bit ('base': conda)"
  },
  "interpreter": {
   "hash": "7b1a062bb510a37bcdd2ba61ed6bba242638905c2c079c3f0f71d3b5a6f7f2ab"
  }
 },
 "nbformat": 4,
 "nbformat_minor": 2,
 "cells": [
  {
   "cell_type": "markdown",
   "source": [
    "# Процедурное программирование"
   ],
   "metadata": {}
  },
  {
   "cell_type": "markdown",
   "source": [
    "## Лекция"
   ],
   "metadata": {}
  },
  {
   "cell_type": "markdown",
   "source": [
    "**Типичная ошибка**"
   ],
   "metadata": {}
  },
  {
   "cell_type": "markdown",
   "source": [
    "Значения по умолчанию вычисляются в точке определения функции, при компиляции. Ошибка возникает, когда изменяемый обьект в качестве параметра по умолчанию"
   ],
   "metadata": {}
  },
  {
   "cell_type": "code",
   "execution_count": 18,
   "source": [
    "def add_element(element, my_list=[]):\r\n",
    "    \"\"\"добавляем элемент к списку\"\"\"\r\n",
    "    my_list.append(element)\r\n",
    "    return my_list"
   ],
   "outputs": [],
   "metadata": {}
  },
  {
   "cell_type": "code",
   "execution_count": 23,
   "source": [
    "new_list = add_element(element=1)\r\n",
    "new_list"
   ],
   "outputs": [
    {
     "output_type": "execute_result",
     "data": {
      "text/plain": [
       "[1, 1, 2, 1]"
      ]
     },
     "metadata": {},
     "execution_count": 23
    }
   ],
   "metadata": {}
  },
  {
   "cell_type": "code",
   "execution_count": 24,
   "source": [
    "other_new_list = add_element(element=2)\r\n",
    "other_new_list"
   ],
   "outputs": [
    {
     "output_type": "execute_result",
     "data": {
      "text/plain": [
       "[1, 1, 2, 1, 2]"
      ]
     },
     "metadata": {},
     "execution_count": 24
    }
   ],
   "metadata": {}
  },
  {
   "cell_type": "markdown",
   "source": [
    "[Визуализация](http://www.pythontutor.com/visualize.html#mode=edit)"
   ],
   "metadata": {}
  },
  {
   "cell_type": "markdown",
   "source": [
    "## Практика"
   ],
   "metadata": {}
  },
  {
   "cell_type": "markdown",
   "source": [
    "Решить проблему с add_elementadd_element"
   ],
   "metadata": {}
  },
  {
   "cell_type": "code",
   "execution_count": 25,
   "source": [
    "def add_element(element, my_list=None):\r\n",
    "    \"\"\"добавляем элемент к списку\"\"\"\r\n",
    "    if my_list is None:\r\n",
    "        my_list = []\r\n",
    "    my_list.append(element)\r\n",
    "    return my_list"
   ],
   "outputs": [],
   "metadata": {}
  },
  {
   "cell_type": "code",
   "execution_count": null,
   "source": [
    "Написать функцию, которая принимает на вход два целых числа a, b и возвращает кортеж из чисел в промежутке от a до b, имеющих наибольшее количество делителей."
   ],
   "outputs": [],
   "metadata": {}
  },
  {
   "cell_type": "code",
   "execution_count": 11,
   "source": [
    "def MaxDivide(a,b):\r\n",
    "    def Divide(c):\r\n",
    "        d=2 #  1 и себя делится всегда\r\n",
    "        for i in range(2,c):\r\n",
    "            if c%i==0:\r\n",
    "                d+=1\r\n",
    "        return d\r\n",
    "    res={}\r\n",
    "    m=1 \r\n",
    "    for i in range(a,b+1):\r\n",
    "        n=Divide(i)\r\n",
    "        if n>m:\r\n",
    "            m=n\r\n",
    "        res[i]=n\r\n",
    "    out_res=[]\r\n",
    "    for key,val in res.items():\r\n",
    "        if val==m:\r\n",
    "            out_res.append(key)\r\n",
    "    return tuple(out_res)\r\n",
    "MaxDivide(1,100)\r\n"
   ],
   "outputs": [
    {
     "output_type": "execute_result",
     "data": {
      "text/plain": [
       "(60, 72, 84, 90, 96)"
      ]
     },
     "metadata": {},
     "execution_count": 11
    }
   ],
   "metadata": {}
  },
  {
   "cell_type": "code",
   "execution_count": null,
   "source": [
    "Написать функцию, которая принимает в качестве аргумента список и возвращает True, если все значения внутри данного списка уникальны, иначе возвращает False."
   ],
   "outputs": [],
   "metadata": {}
  },
  {
   "cell_type": "code",
   "execution_count": 1,
   "source": [
    "def unique_lst(lst):\r\n",
    "    return list(set(lst)) == lst\r\n",
    "unique_lst([1,2,3])"
   ],
   "outputs": [
    {
     "output_type": "execute_result",
     "data": {
      "text/plain": [
       "True"
      ]
     },
     "metadata": {},
     "execution_count": 1
    }
   ],
   "metadata": {}
  },
  {
   "cell_type": "markdown",
   "source": [
    "## Лекция"
   ],
   "metadata": {}
  },
  {
   "cell_type": "markdown",
   "source": [
    "### global"
   ],
   "metadata": {}
  },
  {
   "cell_type": "code",
   "execution_count": 35,
   "source": [
    "x = 10\r\n",
    "def f():\r\n",
    "    global x\r\n",
    "    x = 20\r\n",
    "    print(x)\r\n",
    "f()\r\n",
    "print(x)"
   ],
   "outputs": [
    {
     "output_type": "stream",
     "name": "stdout",
     "text": [
      "20\n",
      "20\n"
     ]
    }
   ],
   "metadata": {}
  },
  {
   "cell_type": "code",
   "execution_count": null,
   "source": [
    "x = 10\r\n",
    "def f():\r\n",
    "    global x\r\n",
    "    x = x +10\r\n",
    "    print(x)\r\n",
    "f()"
   ],
   "outputs": [],
   "metadata": {}
  },
  {
   "cell_type": "code",
   "execution_count": 36,
   "source": [
    "x = 10\r\n",
    "def f():\r\n",
    "    globals()['x'] = 20\r\n",
    "    print(x)\r\n",
    "f()\r\n",
    "print(x)"
   ],
   "outputs": [
    {
     "output_type": "stream",
     "name": "stdout",
     "text": [
      "20\n",
      "20\n"
     ]
    }
   ],
   "metadata": {}
  },
  {
   "cell_type": "code",
   "execution_count": 37,
   "source": [
    "def f():\r\n",
    "    global x\r\n",
    "    x = 20\r\n",
    "f()\r\n",
    "print(x)"
   ],
   "outputs": [
    {
     "output_type": "stream",
     "name": "stdout",
     "text": [
      "20\n"
     ]
    }
   ],
   "metadata": {}
  },
  {
   "cell_type": "code",
   "execution_count": null,
   "source": [
    "def f():\r\n",
    "    x = 20\r\n",
    "    def g():\r\n",
    "        global x\r\n",
    "        x = 40\r\n",
    "        print(x)\r\n",
    "    g()\r\n",
    "    print(x)\r\n",
    "f()\r\n",
    "print(x)"
   ],
   "outputs": [],
   "metadata": {}
  },
  {
   "cell_type": "markdown",
   "source": [
    "### nonlocal"
   ],
   "metadata": {}
  },
  {
   "cell_type": "code",
   "execution_count": 40,
   "source": [
    "def f():\r\n",
    "    x = 20\r\n",
    "\r\n",
    "    def g():\r\n",
    "        global x\r\n",
    "        x = 40\r\n",
    "\r\n",
    "    g()\r\n",
    "    print(x)\r\n",
    "f()\r\n",
    "print(x)"
   ],
   "outputs": [
    {
     "output_type": "stream",
     "name": "stdout",
     "text": [
      "20\n",
      "40\n"
     ]
    }
   ],
   "metadata": {}
  },
  {
   "cell_type": "code",
   "execution_count": 42,
   "source": [
    "del x"
   ],
   "outputs": [],
   "metadata": {}
  },
  {
   "cell_type": "code",
   "execution_count": 43,
   "source": [
    "def f():\r\n",
    "    x = 20\r\n",
    "\r\n",
    "    def g():\r\n",
    "        nonlocal x\r\n",
    "        x = 40\r\n",
    "\r\n",
    "    g()\r\n",
    "    print(x)\r\n",
    "f()\r\n",
    "print(x)"
   ],
   "outputs": [
    {
     "output_type": "stream",
     "name": "stdout",
     "text": [
      "40\n"
     ]
    },
    {
     "output_type": "error",
     "ename": "NameError",
     "evalue": "name 'x' is not defined",
     "traceback": [
      "\u001b[1;31m---------------------------------------------------------------------------\u001b[0m",
      "\u001b[1;31mNameError\u001b[0m                                 Traceback (most recent call last)",
      "\u001b[1;32m<ipython-input-43-f65c85856c4b>\u001b[0m in \u001b[0;36m<module>\u001b[1;34m\u001b[0m\n\u001b[0;32m      9\u001b[0m     \u001b[0mprint\u001b[0m\u001b[1;33m(\u001b[0m\u001b[0mx\u001b[0m\u001b[1;33m)\u001b[0m\u001b[1;33m\u001b[0m\u001b[1;33m\u001b[0m\u001b[0m\n\u001b[0;32m     10\u001b[0m \u001b[0mf\u001b[0m\u001b[1;33m(\u001b[0m\u001b[1;33m)\u001b[0m\u001b[1;33m\u001b[0m\u001b[1;33m\u001b[0m\u001b[0m\n\u001b[1;32m---> 11\u001b[1;33m \u001b[0mprint\u001b[0m\u001b[1;33m(\u001b[0m\u001b[0mx\u001b[0m\u001b[1;33m)\u001b[0m\u001b[1;33m\u001b[0m\u001b[1;33m\u001b[0m\u001b[0m\n\u001b[0m",
      "\u001b[1;31mNameError\u001b[0m: name 'x' is not defined"
     ]
    }
   ],
   "metadata": {}
  },
  {
   "cell_type": "code",
   "execution_count": null,
   "source": [
    "def f():\r\n",
    "    x = 20\r\n",
    "    def h():\r\n",
    "        def g():\r\n",
    "            nonlocal x\r\n",
    "            x = x + 40\r\n",
    "            print(x)\r\n",
    "        g()\r\n",
    "        print(x)\r\n",
    "    h()\r\n",
    "    print(x)\r\n",
    "f()\r\n",
    "print(x)"
   ],
   "outputs": [],
   "metadata": {}
  },
  {
   "cell_type": "markdown",
   "source": [
    "### faker"
   ],
   "metadata": {}
  },
  {
   "cell_type": "markdown",
   "source": [
    "[статья](https://faker.readthedocs.io/en/master/)"
   ],
   "metadata": {}
  },
  {
   "cell_type": "code",
   "execution_count": 44,
   "source": [
    "from faker import Faker\r\n"
   ],
   "outputs": [],
   "metadata": {}
  },
  {
   "cell_type": "code",
   "execution_count": 45,
   "source": [
    "faker1 = Faker('ru_RU')"
   ],
   "outputs": [],
   "metadata": {}
  },
  {
   "cell_type": "code",
   "execution_count": 48,
   "source": [
    "faker1.name()"
   ],
   "outputs": [
    {
     "output_type": "execute_result",
     "data": {
      "text/plain": [
       "'Громова Любовь Оскаровна'"
      ]
     },
     "metadata": {},
     "execution_count": 48
    }
   ],
   "metadata": {}
  },
  {
   "cell_type": "code",
   "execution_count": 50,
   "source": [
    "faker1.address()"
   ],
   "outputs": [
    {
     "output_type": "execute_result",
     "data": {
      "text/plain": [
       "'с. Южно-Сахалинск, бул. Тенистый, д. 9/1 стр. 62, 366162'"
      ]
     },
     "metadata": {},
     "execution_count": 50
    }
   ],
   "metadata": {}
  },
  {
   "cell_type": "code",
   "execution_count": 51,
   "source": [
    "faker1.email()"
   ],
   "outputs": [
    {
     "output_type": "execute_result",
     "data": {
      "text/plain": [
       "'jaroslav1981@ao.com'"
      ]
     },
     "metadata": {},
     "execution_count": 51
    }
   ],
   "metadata": {}
  },
  {
   "cell_type": "code",
   "execution_count": 52,
   "source": [
    "faker1.job()"
   ],
   "outputs": [
    {
     "output_type": "execute_result",
     "data": {
      "text/plain": [
       "'Иллюстратор'"
      ]
     },
     "metadata": {},
     "execution_count": 52
    }
   ],
   "metadata": {}
  }
 ]
}