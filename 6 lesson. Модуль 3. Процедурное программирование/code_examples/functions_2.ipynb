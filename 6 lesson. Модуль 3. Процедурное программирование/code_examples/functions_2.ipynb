{
 "metadata": {
  "language_info": {
   "codemirror_mode": {
    "name": "ipython",
    "version": 3
   },
   "file_extension": ".py",
   "mimetype": "text/x-python",
   "name": "python",
   "nbconvert_exporter": "python",
   "pygments_lexer": "ipython3",
   "version": "3.8.8"
  },
  "orig_nbformat": 2,
  "kernelspec": {
   "name": "python3",
   "display_name": "Python 3.8.8 64-bit ('base': conda)"
  },
  "interpreter": {
   "hash": "7b1a062bb510a37bcdd2ba61ed6bba242638905c2c079c3f0f71d3b5a6f7f2ab"
  }
 },
 "nbformat": 4,
 "nbformat_minor": 2,
 "cells": [
  {
   "cell_type": "markdown",
   "source": [
    "# Процедурное программирование"
   ],
   "metadata": {}
  },
  {
   "cell_type": "markdown",
   "source": [
    "## Warm-up"
   ],
   "metadata": {}
  },
  {
   "cell_type": "code",
   "execution_count": 4,
   "source": [
    "def f():\r\n",
    "    if not hasattr(f, 'num'):\r\n",
    "        f.num = 0\r\n",
    "    f.num+=1\r\n",
    "    print(f\"f {f.num}\")\r\n",
    "f.__call__()\r\n",
    "f.__call__()\r\n",
    "f()"
   ],
   "outputs": [
    {
     "output_type": "stream",
     "name": "stdout",
     "text": [
      "f 1\n",
      "f 2\n",
      "f 3\n"
     ]
    }
   ],
   "metadata": {}
  },
  {
   "cell_type": "code",
   "execution_count": 5,
   "source": [
    "t = (1, 2, [30, 40])\r\n",
    "t[2] += [50, 60]\r\n"
   ],
   "outputs": [
    {
     "output_type": "error",
     "ename": "TypeError",
     "evalue": "'tuple' object does not support item assignment",
     "traceback": [
      "\u001b[1;31m---------------------------------------------------------------------------\u001b[0m",
      "\u001b[1;31mTypeError\u001b[0m                                 Traceback (most recent call last)",
      "\u001b[1;32m<ipython-input-5-0e9217592952>\u001b[0m in \u001b[0;36m<module>\u001b[1;34m\u001b[0m\n\u001b[0;32m      1\u001b[0m \u001b[0mt\u001b[0m \u001b[1;33m=\u001b[0m \u001b[1;33m(\u001b[0m\u001b[1;36m1\u001b[0m\u001b[1;33m,\u001b[0m \u001b[1;36m2\u001b[0m\u001b[1;33m,\u001b[0m \u001b[1;33m[\u001b[0m\u001b[1;36m30\u001b[0m\u001b[1;33m,\u001b[0m \u001b[1;36m40\u001b[0m\u001b[1;33m]\u001b[0m\u001b[1;33m)\u001b[0m\u001b[1;33m\u001b[0m\u001b[1;33m\u001b[0m\u001b[0m\n\u001b[1;32m----> 2\u001b[1;33m \u001b[0mt\u001b[0m\u001b[1;33m[\u001b[0m\u001b[1;36m2\u001b[0m\u001b[1;33m]\u001b[0m \u001b[1;33m+=\u001b[0m \u001b[1;33m[\u001b[0m\u001b[1;36m50\u001b[0m\u001b[1;33m,\u001b[0m \u001b[1;36m60\u001b[0m\u001b[1;33m]\u001b[0m\u001b[1;33m\u001b[0m\u001b[1;33m\u001b[0m\u001b[0m\n\u001b[0m",
      "\u001b[1;31mTypeError\u001b[0m: 'tuple' object does not support item assignment"
     ]
    }
   ],
   "metadata": {}
  },
  {
   "cell_type": "code",
   "execution_count": null,
   "source": [
    "a. t becomes (1, 2, [30, 40, 50, 60]).\r\n",
    "b. TypeError is raised with the message 'tuple' object does not support item\r\n",
    "assignment.\r\n",
    "c. Neither.\r\n",
    "d. Both a and b."
   ],
   "outputs": [],
   "metadata": {}
  },
  {
   "cell_type": "code",
   "execution_count": 6,
   "source": [
    "import dis\r\n",
    "dis.dis('s[a] += b')"
   ],
   "outputs": [
    {
     "output_type": "stream",
     "name": "stdout",
     "text": [
      "  1           0 LOAD_NAME                0 (s)\n",
      "              2 LOAD_NAME                1 (a)\n",
      "              4 DUP_TOP_TWO\n",
      "              6 BINARY_SUBSCR\n",
      "              8 LOAD_NAME                2 (b)\n",
      "             10 INPLACE_ADD\n",
      "             12 ROT_THREE\n",
      "             14 STORE_SUBSCR\n",
      "             16 LOAD_CONST               0 (None)\n",
      "             18 RETURN_VALUE\n"
     ]
    }
   ],
   "metadata": {}
  },
  {
   "cell_type": "markdown",
   "source": [
    "## Лекция"
   ],
   "metadata": {}
  },
  {
   "cell_type": "code",
   "execution_count": null,
   "source": [],
   "outputs": [],
   "metadata": {}
  },
  {
   "cell_type": "markdown",
   "source": [
    "### Recursion"
   ],
   "metadata": {}
  },
  {
   "cell_type": "code",
   "execution_count": 5,
   "source": [
    "def factorial(n):\r\n",
    "    if n <= 1:\r\n",
    "        return 1\r\n",
    "    return n * factorial(n-1)\r\n",
    "factorial(5)"
   ],
   "outputs": [
    {
     "output_type": "execute_result",
     "data": {
      "text/plain": [
       "120"
      ]
     },
     "metadata": {},
     "execution_count": 5
    }
   ],
   "metadata": {}
  },
  {
   "cell_type": "code",
   "execution_count": null,
   "source": [
    "Напечатать числа от n до 1"
   ],
   "outputs": [],
   "metadata": {}
  },
  {
   "cell_type": "code",
   "execution_count": 1,
   "source": [
    "def f(n):\r\n",
    "    print(n)\r\n",
    "    if(n>1):\r\n",
    "        f(n-1)\r\n",
    "f(5)"
   ],
   "outputs": [
    {
     "output_type": "stream",
     "name": "stdout",
     "text": [
      "5\n",
      "4\n",
      "3\n",
      "2\n",
      "1\n"
     ]
    }
   ],
   "metadata": {}
  },
  {
   "cell_type": "markdown",
   "source": [
    "[to read](https://realpython.com/python-thinking-recursively/#:~:text=Recursive%20Functions%20in%20Python,-Now%20that%20we&text=A%20recursive%20function%20is%20a,met%20to%20return%20a%20result.)"
   ],
   "metadata": {}
  },
  {
   "cell_type": "code",
   "execution_count": 4,
   "source": [
    "def fibonacci_recursive(n):\r\n",
    "    print(\"Calculating F\", \"(\", n, \")\", sep=\"\", end=\", \")\r\n",
    "\r\n",
    "    # Base case\r\n",
    "    if n == 0:\r\n",
    "        return 0\r\n",
    "    elif n == 1:\r\n",
    "        return 1\r\n",
    "\r\n",
    "    # Recursive case\r\n",
    "    else:\r\n",
    "        return fibonacci_recursive(n-1) + fibonacci_recursive(n-2)"
   ],
   "outputs": [],
   "metadata": {}
  },
  {
   "cell_type": "code",
   "execution_count": 5,
   "source": [
    "fibonacci_recursive(10)"
   ],
   "outputs": [
    {
     "output_type": "stream",
     "name": "stdout",
     "text": [
      "Calculating F(10), Calculating F(9), Calculating F(8), Calculating F(7), Calculating F(6), Calculating F(5), Calculating F(4), Calculating F(3), Calculating F(2), Calculating F(1), Calculating F(0), Calculating F(1), Calculating F(2), Calculating F(1), Calculating F(0), Calculating F(3), Calculating F(2), Calculating F(1), Calculating F(0), Calculating F(1), Calculating F(4), Calculating F(3), Calculating F(2), Calculating F(1), Calculating F(0), Calculating F(1), Calculating F(2), Calculating F(1), Calculating F(0), Calculating F(5), Calculating F(4), Calculating F(3), Calculating F(2), Calculating F(1), Calculating F(0), Calculating F(1), Calculating F(2), Calculating F(1), Calculating F(0), Calculating F(3), Calculating F(2), Calculating F(1), Calculating F(0), Calculating F(1), Calculating F(6), Calculating F(5), Calculating F(4), Calculating F(3), Calculating F(2), Calculating F(1), Calculating F(0), Calculating F(1), Calculating F(2), Calculating F(1), Calculating F(0), Calculating F(3), Calculating F(2), Calculating F(1), Calculating F(0), Calculating F(1), Calculating F(4), Calculating F(3), Calculating F(2), Calculating F(1), Calculating F(0), Calculating F(1), Calculating F(2), Calculating F(1), Calculating F(0), Calculating F(7), Calculating F(6), Calculating F(5), Calculating F(4), Calculating F(3), Calculating F(2), Calculating F(1), Calculating F(0), Calculating F(1), Calculating F(2), Calculating F(1), Calculating F(0), Calculating F(3), Calculating F(2), Calculating F(1), Calculating F(0), Calculating F(1), Calculating F(4), Calculating F(3), Calculating F(2), Calculating F(1), Calculating F(0), Calculating F(1), Calculating F(2), Calculating F(1), Calculating F(0), Calculating F(5), Calculating F(4), Calculating F(3), Calculating F(2), Calculating F(1), Calculating F(0), Calculating F(1), Calculating F(2), Calculating F(1), Calculating F(0), Calculating F(3), Calculating F(2), Calculating F(1), Calculating F(0), Calculating F(1), Calculating F(8), Calculating F(7), Calculating F(6), Calculating F(5), Calculating F(4), Calculating F(3), Calculating F(2), Calculating F(1), Calculating F(0), Calculating F(1), Calculating F(2), Calculating F(1), Calculating F(0), Calculating F(3), Calculating F(2), Calculating F(1), Calculating F(0), Calculating F(1), Calculating F(4), Calculating F(3), Calculating F(2), Calculating F(1), Calculating F(0), Calculating F(1), Calculating F(2), Calculating F(1), Calculating F(0), Calculating F(5), Calculating F(4), Calculating F(3), Calculating F(2), Calculating F(1), Calculating F(0), Calculating F(1), Calculating F(2), Calculating F(1), Calculating F(0), Calculating F(3), Calculating F(2), Calculating F(1), Calculating F(0), Calculating F(1), Calculating F(6), Calculating F(5), Calculating F(4), Calculating F(3), Calculating F(2), Calculating F(1), Calculating F(0), Calculating F(1), Calculating F(2), Calculating F(1), Calculating F(0), Calculating F(3), Calculating F(2), Calculating F(1), Calculating F(0), Calculating F(1), Calculating F(4), Calculating F(3), Calculating F(2), Calculating F(1), Calculating F(0), Calculating F(1), Calculating F(2), Calculating F(1), Calculating F(0), "
     ]
    },
    {
     "output_type": "execute_result",
     "data": {
      "text/plain": [
       "55"
      ]
     },
     "metadata": {},
     "execution_count": 5
    }
   ],
   "metadata": {
    "tags": [
     "outputPrepend"
    ]
   }
  },
  {
   "cell_type": "code",
   "execution_count": 10,
   "source": [
    "from functools import lru_cache\r\n",
    "\r\n",
    "@lru_cache(maxsize=None)\r\n",
    "def fibonacci_recursive(n):\r\n",
    "    print(\"Calculating F\", \"(\", n, \")\", sep=\"\", end=\", \")\r\n",
    "\r\n",
    "    # Base case\r\n",
    "    if n == 0:\r\n",
    "        return 0\r\n",
    "    elif n == 1:\r\n",
    "        return 1\r\n",
    "\r\n",
    "    # Recursive case\r\n",
    "    else:\r\n",
    "        return fibonacci_recursive(n-1) + fibonacci_recursive(n-2)\r\n",
    "fibonacci_recursive(100)"
   ],
   "outputs": [
    {
     "output_type": "stream",
     "name": "stdout",
     "text": [
      "Calculating F(100), Calculating F(99), Calculating F(98), Calculating F(97), Calculating F(96), Calculating F(95), Calculating F(94), Calculating F(93), Calculating F(92), Calculating F(91), Calculating F(90), Calculating F(89), Calculating F(88), Calculating F(87), Calculating F(86), Calculating F(85), Calculating F(84), Calculating F(83), Calculating F(82), Calculating F(81), Calculating F(80), Calculating F(79), Calculating F(78), Calculating F(77), Calculating F(76), Calculating F(75), Calculating F(74), Calculating F(73), Calculating F(72), Calculating F(71), Calculating F(70), Calculating F(69), Calculating F(68), Calculating F(67), Calculating F(66), Calculating F(65), Calculating F(64), Calculating F(63), Calculating F(62), Calculating F(61), Calculating F(60), Calculating F(59), Calculating F(58), Calculating F(57), Calculating F(56), Calculating F(55), Calculating F(54), Calculating F(53), Calculating F(52), Calculating F(51), Calculating F(50), Calculating F(49), Calculating F(48), Calculating F(47), Calculating F(46), Calculating F(45), Calculating F(44), Calculating F(43), Calculating F(42), Calculating F(41), Calculating F(40), Calculating F(39), Calculating F(38), Calculating F(37), Calculating F(36), Calculating F(35), Calculating F(34), Calculating F(33), Calculating F(32), Calculating F(31), Calculating F(30), Calculating F(29), Calculating F(28), Calculating F(27), Calculating F(26), Calculating F(25), Calculating F(24), Calculating F(23), Calculating F(22), Calculating F(21), Calculating F(20), Calculating F(19), Calculating F(18), Calculating F(17), Calculating F(16), Calculating F(15), Calculating F(14), Calculating F(13), Calculating F(12), Calculating F(11), Calculating F(10), Calculating F(9), Calculating F(8), Calculating F(7), Calculating F(6), Calculating F(5), Calculating F(4), Calculating F(3), Calculating F(2), Calculating F(1), Calculating F(0), "
     ]
    },
    {
     "output_type": "execute_result",
     "data": {
      "text/plain": [
       "354224848179261915075"
      ]
     },
     "metadata": {},
     "execution_count": 10
    }
   ],
   "metadata": {}
  },
  {
   "cell_type": "code",
   "execution_count": 11,
   "source": [
    "import sys\r\n",
    "sys.getrecursionlimit()"
   ],
   "outputs": [
    {
     "output_type": "execute_result",
     "data": {
      "text/plain": [
       "3000"
      ]
     },
     "metadata": {},
     "execution_count": 11
    }
   ],
   "metadata": {}
  },
  {
   "cell_type": "markdown",
   "source": [
    "### Basic structures in memory"
   ],
   "metadata": {}
  },
  {
   "cell_type": "code",
   "execution_count": 3,
   "source": [
    "x = [1,2,3]\r\n",
    "y = x\r\n",
    "x.append(7)\r\n",
    "y"
   ],
   "outputs": [
    {
     "output_type": "execute_result",
     "data": {
      "text/plain": [
       "[1, 2, 3, 7]"
      ]
     },
     "metadata": {},
     "execution_count": 3
    }
   ],
   "metadata": {}
  },
  {
   "cell_type": "code",
   "execution_count": null,
   "source": [],
   "outputs": [],
   "metadata": {}
  },
  {
   "cell_type": "markdown",
   "source": [
    "### Передача параметров в функцию"
   ],
   "metadata": {}
  },
  {
   "cell_type": "code",
   "execution_count": 4,
   "source": [
    "def f(arr):\r\n",
    "    arr.append(4)\r\n",
    "    print(arr)\r\n",
    "\r\n",
    "x = [1,2,3]\r\n",
    "f(x)\r\n",
    "print(x)"
   ],
   "outputs": [
    {
     "output_type": "stream",
     "name": "stdout",
     "text": [
      "[1, 2, 3, 4]\n",
      "[1, 2, 3, 4]\n"
     ]
    }
   ],
   "metadata": {}
  },
  {
   "cell_type": "markdown",
   "source": [
    "### Deep and shallow copies"
   ],
   "metadata": {}
  },
  {
   "cell_type": "code",
   "execution_count": 5,
   "source": [
    "import copy\r\n",
    "x = [1,2,3]\r\n",
    "# y = copy.copy(x)\r\n",
    "# y = x[:]\r\n",
    "print(id(x))\r\n",
    "print(id(y))"
   ],
   "outputs": [
    {
     "output_type": "stream",
     "name": "stdout",
     "text": [
      "1476204839104\n",
      "1476204808384\n"
     ]
    }
   ],
   "metadata": {}
  },
  {
   "cell_type": "code",
   "execution_count": 6,
   "source": [
    "\r\n",
    "x = [1,[2,7,8],3]\r\n",
    "y = copy.deepcopy(x)"
   ],
   "outputs": [],
   "metadata": {}
  },
  {
   "cell_type": "markdown",
   "source": [
    "### Exceptions"
   ],
   "metadata": {}
  },
  {
   "cell_type": "code",
   "execution_count": 7,
   "source": [
    "try:\r\n",
    "    3+\"xc\"\r\n",
    "    i = 0\r\n",
    "    print(x/i)\r\n",
    "except ZeroDivisionError as ex:\r\n",
    "    print(ex.args)\r\n",
    "except NameError as ex:\r\n",
    "    pass\r\n",
    "except Exception as ex:\r\n",
    "    i = 10\r\n",
    "    print(\"error\")\r\n",
    "print(\"continue\",i)"
   ],
   "outputs": [
    {
     "output_type": "stream",
     "name": "stdout",
     "text": [
      "error\n",
      "continue 10\n"
     ]
    }
   ],
   "metadata": {}
  },
  {
   "cell_type": "code",
   "execution_count": 8,
   "source": [
    "def f1(n):\r\n",
    "    return 2/n\r\n",
    "def f2():\r\n",
    "    res = 0\r\n",
    "    for i in range(2,-2,-1):\r\n",
    "        res += f1(i)\r\n",
    "        print(res)\r\n",
    "    return res\r\n",
    "\r\n",
    "try:\r\n",
    "    f2()\r\n",
    "except ZeroDivisionError as ex:\r\n",
    "    print(ex)"
   ],
   "outputs": [
    {
     "output_type": "stream",
     "name": "stdout",
     "text": [
      "1.0\n",
      "3.0\n",
      "division by zero\n"
     ]
    }
   ],
   "metadata": {}
  },
  {
   "cell_type": "code",
   "execution_count": 1,
   "source": [
    "def f1(n):\r\n",
    "    return 2/n\r\n",
    "def f2():\r\n",
    "    res = 0\r\n",
    "    for i in range(2,-2,-1):\r\n",
    "        res += f1(i)\r\n",
    "        print(res)\r\n",
    "    return res\r\n",
    "\r\n",
    "try:\r\n",
    "    f2()\r\n",
    "except ZeroDivisionError as ex:\r\n",
    "    pass\r\n",
    "ex"
   ],
   "outputs": [
    {
     "output_type": "stream",
     "name": "stdout",
     "text": [
      "1.0\n",
      "3.0\n"
     ]
    },
    {
     "output_type": "error",
     "ename": "NameError",
     "evalue": "name 'ex' is not defined",
     "traceback": [
      "\u001b[1;31m---------------------------------------------------------------------------\u001b[0m",
      "\u001b[1;31mNameError\u001b[0m                                 Traceback (most recent call last)",
      "\u001b[1;32m<ipython-input-1-40bb341cf270>\u001b[0m in \u001b[0;36m<module>\u001b[1;34m\u001b[0m\n\u001b[0;32m     12\u001b[0m \u001b[1;32mexcept\u001b[0m \u001b[0mZeroDivisionError\u001b[0m \u001b[1;32mas\u001b[0m \u001b[0mex\u001b[0m\u001b[1;33m:\u001b[0m\u001b[1;33m\u001b[0m\u001b[1;33m\u001b[0m\u001b[0m\n\u001b[0;32m     13\u001b[0m     \u001b[1;32mpass\u001b[0m\u001b[1;33m\u001b[0m\u001b[1;33m\u001b[0m\u001b[0m\n\u001b[1;32m---> 14\u001b[1;33m \u001b[0mex\u001b[0m\u001b[1;33m\u001b[0m\u001b[1;33m\u001b[0m\u001b[0m\n\u001b[0m",
      "\u001b[1;31mNameError\u001b[0m: name 'ex' is not defined"
     ]
    }
   ],
   "metadata": {}
  },
  {
   "cell_type": "code",
   "execution_count": 9,
   "source": [
    "try:\r\n",
    "    f = open(\"f.txt\")\r\n",
    "    s = f.readline()\r\n",
    "    s = int(s)\r\n",
    "except:\r\n",
    "    print(\"io error\")\r\n",
    "finally:\r\n",
    "    f.close()"
   ],
   "outputs": [
    {
     "output_type": "stream",
     "name": "stdout",
     "text": [
      "io error\n"
     ]
    },
    {
     "output_type": "error",
     "ename": "AttributeError",
     "evalue": "'function' object has no attribute 'close'",
     "traceback": [
      "\u001b[1;31m---------------------------------------------------------------------------\u001b[0m",
      "\u001b[1;31mAttributeError\u001b[0m                            Traceback (most recent call last)",
      "\u001b[1;32m<ipython-input-9-b8bcf4b19ef3>\u001b[0m in \u001b[0;36m<module>\u001b[1;34m\u001b[0m\n\u001b[0;32m      6\u001b[0m     \u001b[0mprint\u001b[0m\u001b[1;33m(\u001b[0m\u001b[1;34m\"io error\"\u001b[0m\u001b[1;33m)\u001b[0m\u001b[1;33m\u001b[0m\u001b[1;33m\u001b[0m\u001b[0m\n\u001b[0;32m      7\u001b[0m \u001b[1;32mfinally\u001b[0m\u001b[1;33m:\u001b[0m\u001b[1;33m\u001b[0m\u001b[1;33m\u001b[0m\u001b[0m\n\u001b[1;32m----> 8\u001b[1;33m     \u001b[0mf\u001b[0m\u001b[1;33m.\u001b[0m\u001b[0mclose\u001b[0m\u001b[1;33m(\u001b[0m\u001b[1;33m)\u001b[0m\u001b[1;33m\u001b[0m\u001b[1;33m\u001b[0m\u001b[0m\n\u001b[0m",
      "\u001b[1;31mAttributeError\u001b[0m: 'function' object has no attribute 'close'"
     ]
    }
   ],
   "metadata": {}
  },
  {
   "cell_type": "code",
   "execution_count": 10,
   "source": [
    "with open(\"f.txt\") as f:\r\n",
    "    s = f.readline()\r\n",
    "    s = int(s)\r\n",
    "print(s)\r\n"
   ],
   "outputs": [
    {
     "output_type": "error",
     "ename": "FileNotFoundError",
     "evalue": "[Errno 2] No such file or directory: 'f.txt'",
     "traceback": [
      "\u001b[1;31m---------------------------------------------------------------------------\u001b[0m",
      "\u001b[1;31mFileNotFoundError\u001b[0m                         Traceback (most recent call last)",
      "\u001b[1;32m<ipython-input-10-969e6db19b77>\u001b[0m in \u001b[0;36m<module>\u001b[1;34m\u001b[0m\n\u001b[1;32m----> 1\u001b[1;33m \u001b[1;32mwith\u001b[0m \u001b[0mopen\u001b[0m\u001b[1;33m(\u001b[0m\u001b[1;34m\"f.txt\"\u001b[0m\u001b[1;33m)\u001b[0m \u001b[1;32mas\u001b[0m \u001b[0mf\u001b[0m\u001b[1;33m:\u001b[0m\u001b[1;33m\u001b[0m\u001b[1;33m\u001b[0m\u001b[0m\n\u001b[0m\u001b[0;32m      2\u001b[0m     \u001b[0ms\u001b[0m \u001b[1;33m=\u001b[0m \u001b[0mf\u001b[0m\u001b[1;33m.\u001b[0m\u001b[0mreadline\u001b[0m\u001b[1;33m(\u001b[0m\u001b[1;33m)\u001b[0m\u001b[1;33m\u001b[0m\u001b[1;33m\u001b[0m\u001b[0m\n\u001b[0;32m      3\u001b[0m     \u001b[0ms\u001b[0m \u001b[1;33m=\u001b[0m \u001b[0mint\u001b[0m\u001b[1;33m(\u001b[0m\u001b[0ms\u001b[0m\u001b[1;33m)\u001b[0m\u001b[1;33m\u001b[0m\u001b[1;33m\u001b[0m\u001b[0m\n\u001b[0;32m      4\u001b[0m \u001b[0mprint\u001b[0m\u001b[1;33m(\u001b[0m\u001b[0ms\u001b[0m\u001b[1;33m)\u001b[0m\u001b[1;33m\u001b[0m\u001b[1;33m\u001b[0m\u001b[0m\n",
      "\u001b[1;31mFileNotFoundError\u001b[0m: [Errno 2] No such file or directory: 'f.txt'"
     ]
    }
   ],
   "metadata": {}
  },
  {
   "cell_type": "code",
   "execution_count": 11,
   "source": [
    "x = int(input())\n",
    "if x == 0:\n",
    "    raise Exception(\"error\")\n"
   ],
   "outputs": [
    {
     "output_type": "error",
     "ename": "BaseException",
     "evalue": "error",
     "traceback": [
      "\u001b[1;31m---------------------------------------------------------------------------\u001b[0m",
      "\u001b[1;31mBaseException\u001b[0m                             Traceback (most recent call last)",
      "\u001b[1;32m<ipython-input-11-31f81d5ffdfd>\u001b[0m in \u001b[0;36m<module>\u001b[1;34m\u001b[0m\n\u001b[0;32m      1\u001b[0m \u001b[0mx\u001b[0m \u001b[1;33m=\u001b[0m \u001b[0mint\u001b[0m\u001b[1;33m(\u001b[0m\u001b[0minput\u001b[0m\u001b[1;33m(\u001b[0m\u001b[1;33m)\u001b[0m\u001b[1;33m)\u001b[0m\u001b[1;33m\u001b[0m\u001b[1;33m\u001b[0m\u001b[0m\n\u001b[0;32m      2\u001b[0m \u001b[1;32mif\u001b[0m \u001b[0mx\u001b[0m \u001b[1;33m==\u001b[0m \u001b[1;36m0\u001b[0m\u001b[1;33m:\u001b[0m\u001b[1;33m\u001b[0m\u001b[1;33m\u001b[0m\u001b[0m\n\u001b[1;32m----> 3\u001b[1;33m     \u001b[1;32mraise\u001b[0m \u001b[0mBaseException\u001b[0m\u001b[1;33m(\u001b[0m\u001b[1;34m\"error\"\u001b[0m\u001b[1;33m)\u001b[0m\u001b[1;33m\u001b[0m\u001b[1;33m\u001b[0m\u001b[0m\n\u001b[0m",
      "\u001b[1;31mBaseException\u001b[0m: error"
     ]
    }
   ],
   "metadata": {}
  },
  {
   "cell_type": "code",
   "execution_count": null,
   "source": [
    "try:\r\n",
    "    2/0\r\n",
    "except:\r\n",
    "    print(\"error\")\r\n",
    "else:\r\n",
    "    print(\"else\")\r\n",
    "finally:\r\n",
    "    print(\"at any case\")"
   ],
   "outputs": [],
   "metadata": {}
  },
  {
   "cell_type": "markdown",
   "source": [
    "BaseException vs Exception"
   ],
   "metadata": {}
  },
  {
   "cell_type": "code",
   "execution_count": 7,
   "source": [
    "import traceback\r\n",
    "try:\r\n",
    "    1 + \"42\"\r\n",
    "except Exception as e:\r\n",
    "    caught = e\r\n",
    "\r\n",
    "print(caught.args)\r\n",
    "print(caught.__traceback__)\r\n",
    "traceback.print_tb(caught.__traceback__)"
   ],
   "outputs": [
    {
     "output_type": "stream",
     "name": "stdout",
     "text": [
      "(\"unsupported operand type(s) for +: 'int' and 'str'\",)\n",
      "<traceback object at 0x00000287E4664400>\n",
      "  File \"<ipython-input-7-541909ee1279>\", line 3, in <module>\n",
      "    1 + \"42\"\n"
     ]
    }
   ],
   "metadata": {}
  },
  {
   "cell_type": "markdown",
   "source": [
    "** with **"
   ],
   "metadata": {}
  },
  {
   "cell_type": "code",
   "execution_count": null,
   "source": [
    "r = acquire_resource()\r\n",
    "try:\r\n",
    "    do_something(r)\r\n",
    "finally:\r\n",
    "    release_resource(r)\r\n",
    "with acquire_resource() as r:\r\n",
    "     do_something(r)   "
   ],
   "outputs": [],
   "metadata": {}
  },
  {
   "cell_type": "markdown",
   "source": [
    "### Warnings"
   ],
   "metadata": {}
  },
  {
   "cell_type": "code",
   "execution_count": 28,
   "source": [
    "import warnings\r\n",
    "def f(n):\r\n",
    "    if n == 3:\r\n",
    "        warnings.warn(\"warning\")\r\n",
    "    print(n)\r\n",
    "for i in range(5):\r\n",
    "    f(i)"
   ],
   "outputs": [
    {
     "output_type": "stream",
     "name": "stdout",
     "text": [
      "0\n",
      "1\n",
      "2\n",
      "3\n",
      "4\n",
      "<ipython-input-28-7bfd0fbfdde7>:4: UserWarning: warning\n",
      "  warnings.warn(\"warning\")\n"
     ]
    }
   ],
   "metadata": {}
  },
  {
   "cell_type": "code",
   "execution_count": 30,
   "source": [
    "import warnings\r\n",
    "\r\n",
    "\r\n",
    "def f(n):\r\n",
    "    if n == 3:\r\n",
    "        warnings.warn(\"warning\", category=RuntimeWarning)\r\n",
    "    print(n)\r\n",
    "warnings.simplefilter(\"error\")\r\n",
    "\r\n",
    "for i in range(5):\r\n",
    "    try:\r\n",
    "        f(i)\r\n",
    "    except:\r\n",
    "        print(\"done\")\r\n",
    "\r\n"
   ],
   "outputs": [],
   "metadata": {}
  },
  {
   "cell_type": "markdown",
   "source": [
    "try doesn't catch usual warnings"
   ],
   "metadata": {}
  },
  {
   "cell_type": "code",
   "execution_count": null,
   "source": [
    "import warnings\r\n",
    "\r\n",
    "\r\n",
    "def f(n):\r\n",
    "    if n == 3:\r\n",
    "        warnings.warn(\"warning\", category=RuntimeWarning)\r\n",
    "    print(n)\r\n",
    "\r\n",
    "\r\n",
    "warnings.simplefilter(\"error\")\r\n",
    "\r\n",
    "for i in range(5):\r\n",
    "    try:\r\n",
    "        f(i)\r\n",
    "    except:\r\n",
    "        print(\"done\")\r\n"
   ],
   "outputs": [],
   "metadata": {}
  }
 ]
}