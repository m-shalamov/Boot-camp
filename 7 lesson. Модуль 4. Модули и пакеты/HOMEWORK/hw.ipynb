{
 "metadata": {
  "language_info": {
   "codemirror_mode": {
    "name": "ipython",
    "version": 3
   },
   "file_extension": ".py",
   "mimetype": "text/x-python",
   "name": "python",
   "nbconvert_exporter": "python",
   "pygments_lexer": "ipython3",
   "version": 3
  },
  "orig_nbformat": 2
 },
 "nbformat": 4,
 "nbformat_minor": 2,
 "cells": [
  {
   "source": [
    "# Assignment.1"
   ],
   "cell_type": "markdown",
   "metadata": {}
  },
  {
   "source": [
    "* [Прочитать](https://realpython.com/documenting-python-code/)\n",
    "* Создать пакет, содержащий 2 модуля. \n",
    "* В первом модуле будут лежать функция, принимающая на вход число и возвращающая факториал этого числа, и функция, принимающее число в градусах и переводящее его в радианы. \n",
    "* Второй модуль будет содержать функцию, принимающую на вход сторону квадрата и возвращающая его площадь.\n",
    "* В главном файле файле продемонстрировать использование этих модулей.\n"
   ],
   "cell_type": "markdown",
   "metadata": {}
  },
  {
   "source": [
    "В ответе на задание отправить архив"
   ],
   "cell_type": "markdown",
   "metadata": {}
  },
  {
   "source": [
    "# Assignment.2"
   ],
   "cell_type": "markdown",
   "metadata": {}
  },
  {
   "source": [
    "Создать, используя conda, окружение. Установить произвольные пакеты. Создать файл env.yml с уставновленными пакетами. (При проблемах с conda можно использовать venv, например)"
   ],
   "cell_type": "markdown",
   "metadata": {}
  },
  {
   "source": [
    "В качестве отчета отправить скрин установленного окружения и env.yml файл или аналог"
   ],
   "cell_type": "markdown",
   "metadata": {}
  },
  {
   "source": [
    "# Assignment.3"
   ],
   "cell_type": "markdown",
   "metadata": {}
  },
  {
   "source": [
    "Сгенерировать html с документацией для игры \"Быки и коровы\" с помощью Sphinx. Для создания документации можно использовать расширение Python Docstring Generator, которое устанавливается в расширениях VSC"
   ],
   "cell_type": "markdown",
   "metadata": {}
  },
  {
   "source": [
    "В ответе на задание отправить архив"
   ],
   "cell_type": "markdown",
   "metadata": {}
  }
 ]
}