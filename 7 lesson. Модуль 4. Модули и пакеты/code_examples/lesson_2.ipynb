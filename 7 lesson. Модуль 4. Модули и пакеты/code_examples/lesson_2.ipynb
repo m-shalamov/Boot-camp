{
 "metadata": {
  "language_info": {
   "codemirror_mode": {
    "name": "ipython",
    "version": 3
   },
   "file_extension": ".py",
   "mimetype": "text/x-python",
   "name": "python",
   "nbconvert_exporter": "python",
   "pygments_lexer": "ipython3",
   "version": "3.8.8"
  },
  "orig_nbformat": 2,
  "kernelspec": {
   "name": "python3",
   "display_name": "Python 3.8.8 64-bit ('base': conda)"
  },
  "interpreter": {
   "hash": "262af24f6390e181d1b86df4568fd74653813b7e5cf759105ca918c8cd7e2241"
  }
 },
 "nbformat": 4,
 "nbformat_minor": 2,
 "cells": [
  {
   "source": [
    "# Модули и пакеты"
   ],
   "cell_type": "markdown",
   "metadata": {}
  },
  {
   "source": [
    "## Лекция"
   ],
   "cell_type": "markdown",
   "metadata": {}
  },
  {
   "source": [
    "### Документирование"
   ],
   "cell_type": "markdown",
   "metadata": {}
  },
  {
   "source": [
    "[статья](https://realpython.com/documenting-python-code/)"
   ],
   "cell_type": "markdown",
   "metadata": {}
  },
  {
   "source": [
    "[to watch](https://www.youtube.com/watch?v=W--_EOzdTHk)"
   ],
   "cell_type": "markdown",
   "metadata": {}
  },
  {
   "cell_type": "code",
   "execution_count": null,
   "metadata": {},
   "outputs": [],
   "source": [
    "def hello_world():\n",
    "    # A simple comment\n",
    "    print(\"Hello World\")"
   ]
  },
  {
   "source": [
    "#### Type hinting"
   ],
   "cell_type": "markdown",
   "metadata": {}
  },
  {
   "cell_type": "code",
   "execution_count": 1,
   "metadata": {},
   "outputs": [],
   "source": [
    "def hello_name(name: str) -> str:\n",
    "    return(f\"Hello {name}\")"
   ]
  },
  {
   "source": [
    "#### Docstrings"
   ],
   "cell_type": "markdown",
   "metadata": {}
  },
  {
   "cell_type": "code",
   "execution_count": 1,
   "metadata": {},
   "outputs": [
    {
     "output_type": "stream",
     "name": "stdout",
     "text": [
      "Help on class int in module builtins:\n\nclass int(object)\n |  int([x]) -> integer\n |  int(x, base=10) -> integer\n |  \n |  Convert a number or string to an integer, or return 0 if no arguments\n |  are given.  If x is a number, return x.__int__().  For floating point\n |  numbers, this truncates towards zero.\n |  \n |  If x is not a number or if base is given, then x must be a string,\n |  bytes, or bytearray instance representing an integer literal in the\n |  given base.  The literal can be preceded by '+' or '-' and be surrounded\n |  by whitespace.  The base defaults to 10.  Valid bases are 0 and 2-36.\n |  Base 0 means to interpret the base from the string as an integer literal.\n |  >>> int('0b100', base=0)\n |  4\n |  \n |  Built-in subclasses:\n |      bool\n |  \n |  Methods defined here:\n |  \n |  __abs__(self, /)\n |      abs(self)\n |  \n |  __add__(self, value, /)\n |      Return self+value.\n |  \n |  __and__(self, value, /)\n |      Return self&value.\n |  \n |  __bool__(self, /)\n |      self != 0\n |  \n |  __ceil__(...)\n |      Ceiling of an Integral returns itself.\n |  \n |  __divmod__(self, value, /)\n |      Return divmod(self, value).\n |  \n |  __eq__(self, value, /)\n |      Return self==value.\n |  \n |  __float__(self, /)\n |      float(self)\n |  \n |  __floor__(...)\n |      Flooring an Integral returns itself.\n |  \n |  __floordiv__(self, value, /)\n |      Return self//value.\n |  \n |  __format__(self, format_spec, /)\n |      Default object formatter.\n |  \n |  __ge__(self, value, /)\n |      Return self>=value.\n |  \n |  __getattribute__(self, name, /)\n |      Return getattr(self, name).\n |  \n |  __getnewargs__(self, /)\n |  \n |  __gt__(self, value, /)\n |      Return self>value.\n |  \n |  __hash__(self, /)\n |      Return hash(self).\n |  \n |  __index__(self, /)\n |      Return self converted to an integer, if self is suitable for use as an index into a list.\n |  \n |  __int__(self, /)\n |      int(self)\n |  \n |  __invert__(self, /)\n |      ~self\n |  \n |  __le__(self, value, /)\n |      Return self<=value.\n |  \n |  __lshift__(self, value, /)\n |      Return self<<value.\n |  \n |  __lt__(self, value, /)\n |      Return self<value.\n |  \n |  __mod__(self, value, /)\n |      Return self%value.\n |  \n |  __mul__(self, value, /)\n |      Return self*value.\n |  \n |  __ne__(self, value, /)\n |      Return self!=value.\n |  \n |  __neg__(self, /)\n |      -self\n |  \n |  __or__(self, value, /)\n |      Return self|value.\n |  \n |  __pos__(self, /)\n |      +self\n |  \n |  __pow__(self, value, mod=None, /)\n |      Return pow(self, value, mod).\n |  \n |  __radd__(self, value, /)\n |      Return value+self.\n |  \n |  __rand__(self, value, /)\n |      Return value&self.\n |  \n |  __rdivmod__(self, value, /)\n |      Return divmod(value, self).\n |  \n |  __repr__(self, /)\n |      Return repr(self).\n |  \n |  __rfloordiv__(self, value, /)\n |      Return value//self.\n |  \n |  __rlshift__(self, value, /)\n |      Return value<<self.\n |  \n |  __rmod__(self, value, /)\n |      Return value%self.\n |  \n |  __rmul__(self, value, /)\n |      Return value*self.\n |  \n |  __ror__(self, value, /)\n |      Return value|self.\n |  \n |  __round__(...)\n |      Rounding an Integral returns itself.\n |      Rounding with an ndigits argument also returns an integer.\n |  \n |  __rpow__(self, value, mod=None, /)\n |      Return pow(value, self, mod).\n |  \n |  __rrshift__(self, value, /)\n |      Return value>>self.\n |  \n |  __rshift__(self, value, /)\n |      Return self>>value.\n |  \n |  __rsub__(self, value, /)\n |      Return value-self.\n |  \n |  __rtruediv__(self, value, /)\n |      Return value/self.\n |  \n |  __rxor__(self, value, /)\n |      Return value^self.\n |  \n |  __sizeof__(self, /)\n |      Returns size in memory, in bytes.\n |  \n |  __sub__(self, value, /)\n |      Return self-value.\n |  \n |  __truediv__(self, value, /)\n |      Return self/value.\n |  \n |  __trunc__(...)\n |      Truncating an Integral returns itself.\n |  \n |  __xor__(self, value, /)\n |      Return self^value.\n |  \n |  as_integer_ratio(self, /)\n |      Return integer ratio.\n |      \n |      Return a pair of integers, whose ratio is exactly equal to the original int\n |      and with a positive denominator.\n |      \n |      >>> (10).as_integer_ratio()\n |      (10, 1)\n |      >>> (-10).as_integer_ratio()\n |      (-10, 1)\n |      >>> (0).as_integer_ratio()\n |      (0, 1)\n |  \n |  bit_length(self, /)\n |      Number of bits necessary to represent self in binary.\n |      \n |      >>> bin(37)\n |      '0b100101'\n |      >>> (37).bit_length()\n |      6\n |  \n |  conjugate(...)\n |      Returns self, the complex conjugate of any int.\n |  \n |  to_bytes(self, /, length, byteorder, *, signed=False)\n |      Return an array of bytes representing an integer.\n |      \n |      length\n |        Length of bytes object to use.  An OverflowError is raised if the\n |        integer is not representable with the given number of bytes.\n |      byteorder\n |        The byte order used to represent the integer.  If byteorder is 'big',\n |        the most significant byte is at the beginning of the byte array.  If\n |        byteorder is 'little', the most significant byte is at the end of the\n |        byte array.  To request the native byte order of the host system, use\n |        `sys.byteorder' as the byte order value.\n |      signed\n |        Determines whether two's complement is used to represent the integer.\n |        If signed is False and a negative integer is given, an OverflowError\n |        is raised.\n |  \n |  ----------------------------------------------------------------------\n |  Class methods defined here:\n |  \n |  from_bytes(bytes, byteorder, *, signed=False) from builtins.type\n |      Return the integer represented by the given array of bytes.\n |      \n |      bytes\n |        Holds the array of bytes to convert.  The argument must either\n |        support the buffer protocol or be an iterable object producing bytes.\n |        Bytes and bytearray are examples of built-in objects that support the\n |        buffer protocol.\n |      byteorder\n |        The byte order used to represent the integer.  If byteorder is 'big',\n |        the most significant byte is at the beginning of the byte array.  If\n |        byteorder is 'little', the most significant byte is at the end of the\n |        byte array.  To request the native byte order of the host system, use\n |        `sys.byteorder' as the byte order value.\n |      signed\n |        Indicates whether two's complement is used to represent the integer.\n |  \n |  ----------------------------------------------------------------------\n |  Static methods defined here:\n |  \n |  __new__(*args, **kwargs) from builtins.type\n |      Create and return a new object.  See help(type) for accurate signature.\n |  \n |  ----------------------------------------------------------------------\n |  Data descriptors defined here:\n |  \n |  denominator\n |      the denominator of a rational number in lowest terms\n |  \n |  imag\n |      the imaginary part of a complex number\n |  \n |  numerator\n |      the numerator of a rational number in lowest terms\n |  \n |  real\n |      the real part of a complex number\n\n"
     ]
    }
   ],
   "source": [
    "help(int)"
   ]
  },
  {
   "cell_type": "code",
   "execution_count": 2,
   "metadata": {},
   "outputs": [
    {
     "output_type": "execute_result",
     "data": {
      "text/plain": [
       "['__abs__',\n",
       " '__add__',\n",
       " '__and__',\n",
       " '__bool__',\n",
       " '__ceil__',\n",
       " '__class__',\n",
       " '__delattr__',\n",
       " '__dir__',\n",
       " '__divmod__',\n",
       " '__doc__',\n",
       " '__eq__',\n",
       " '__float__',\n",
       " '__floor__',\n",
       " '__floordiv__',\n",
       " '__format__',\n",
       " '__ge__',\n",
       " '__getattribute__',\n",
       " '__getnewargs__',\n",
       " '__gt__',\n",
       " '__hash__',\n",
       " '__index__',\n",
       " '__init__',\n",
       " '__init_subclass__',\n",
       " '__int__',\n",
       " '__invert__',\n",
       " '__le__',\n",
       " '__lshift__',\n",
       " '__lt__',\n",
       " '__mod__',\n",
       " '__mul__',\n",
       " '__ne__',\n",
       " '__neg__',\n",
       " '__new__',\n",
       " '__or__',\n",
       " '__pos__',\n",
       " '__pow__',\n",
       " '__radd__',\n",
       " '__rand__',\n",
       " '__rdivmod__',\n",
       " '__reduce__',\n",
       " '__reduce_ex__',\n",
       " '__repr__',\n",
       " '__rfloordiv__',\n",
       " '__rlshift__',\n",
       " '__rmod__',\n",
       " '__rmul__',\n",
       " '__ror__',\n",
       " '__round__',\n",
       " '__rpow__',\n",
       " '__rrshift__',\n",
       " '__rshift__',\n",
       " '__rsub__',\n",
       " '__rtruediv__',\n",
       " '__rxor__',\n",
       " '__setattr__',\n",
       " '__sizeof__',\n",
       " '__str__',\n",
       " '__sub__',\n",
       " '__subclasshook__',\n",
       " '__truediv__',\n",
       " '__trunc__',\n",
       " '__xor__',\n",
       " 'as_integer_ratio',\n",
       " 'bit_length',\n",
       " 'conjugate',\n",
       " 'denominator',\n",
       " 'from_bytes',\n",
       " 'imag',\n",
       " 'numerator',\n",
       " 'real',\n",
       " 'to_bytes']"
      ]
     },
     "metadata": {},
     "execution_count": 2
    }
   ],
   "source": [
    "dir(int)"
   ]
  },
  {
   "cell_type": "code",
   "execution_count": 5,
   "metadata": {},
   "outputs": [
    {
     "output_type": "stream",
     "name": "stdout",
     "text": [
      "int([x]) -> integer\nint(x, base=10) -> integer\n\nConvert a number or string to an integer, or return 0 if no arguments\nare given.  If x is a number, return x.__int__().  For floating point\nnumbers, this truncates towards zero.\n\nIf x is not a number or if base is given, then x must be a string,\nbytes, or bytearray instance representing an integer literal in the\ngiven base.  The literal can be preceded by '+' or '-' and be surrounded\nby whitespace.  The base defaults to 10.  Valid bases are 0 and 2-36.\nBase 0 means to interpret the base from the string as an integer literal.\n>>> int('0b100', base=0)\n4\n"
     ]
    }
   ],
   "source": [
    "print(int.__doc__)"
   ]
  },
  {
   "cell_type": "code",
   "execution_count": 6,
   "metadata": {},
   "outputs": [
    {
     "output_type": "error",
     "ename": "TypeError",
     "evalue": "can't set attributes of built-in/extension type 'int'",
     "traceback": [
      "\u001b[1;31m---------------------------------------------------------------------------\u001b[0m",
      "\u001b[1;31mTypeError\u001b[0m                                 Traceback (most recent call last)",
      "\u001b[1;32m<ipython-input-6-f88749599596>\u001b[0m in \u001b[0;36m<module>\u001b[1;34m\u001b[0m\n\u001b[1;32m----> 1\u001b[1;33m \u001b[0mint\u001b[0m\u001b[1;33m.\u001b[0m\u001b[0m__doc__\u001b[0m \u001b[1;33m=\u001b[0m \u001b[1;34m\"hello\"\u001b[0m\u001b[1;33m\u001b[0m\u001b[1;33m\u001b[0m\u001b[0m\n\u001b[0m",
      "\u001b[1;31mTypeError\u001b[0m: can't set attributes of built-in/extension type 'int'"
     ]
    }
   ],
   "source": [
    "int.__doc__ = \"hello\""
   ]
  },
  {
   "cell_type": "code",
   "execution_count": 12,
   "metadata": {},
   "outputs": [],
   "source": [
    "def say_hello(name:str)->None:\n",
    "    print(f\"Hello {name}!\")\n",
    "\n",
    "say_hello.__doc__ = \"A function that prints Hello with some name\""
   ]
  },
  {
   "cell_type": "code",
   "execution_count": 13,
   "metadata": {},
   "outputs": [
    {
     "output_type": "stream",
     "name": "stdout",
     "text": [
      "Help on function say_hello in module __main__:\n\nsay_hello(name: str) -> None\n    A function that print Hello with some name\n\n"
     ]
    }
   ],
   "source": [
    "help(say_hello)"
   ]
  },
  {
   "cell_type": "code",
   "execution_count": 16,
   "metadata": {},
   "outputs": [
    {
     "output_type": "stream",
     "name": "stdout",
     "text": [
      "Help on function say_hello in module __main__:\n\nsay_hello(name: str) -> None\n    say_hello.__doc__ = \"A function that print Hello with some\n\n"
     ]
    }
   ],
   "source": [
    "def say_hello(name:str)->None:\n",
    "    \"\"\"\"A function that print Hello with some\"\"\"\n",
    "    print(f\"Hello {name}!\")\n",
    "    \n",
    "help(say_hello)"
   ]
  },
  {
   "cell_type": "code",
   "execution_count": 17,
   "metadata": {},
   "outputs": [],
   "source": [
    "class Animal:\n",
    "    \"\"\"\n",
    "    A class used to represent an Animal\n",
    "\n",
    "    ...\n",
    "\n",
    "    Attributes\n",
    "    ----------\n",
    "    says_str : str\n",
    "        a formatted string to print out what the animal says\n",
    "    name : str\n",
    "        the name of the animal\n",
    "    sound : str\n",
    "        the sound that the animal makes\n",
    "    num_legs : int\n",
    "        the number of legs the animal has (default 4)\n",
    "\n",
    "    Methods\n",
    "    -------\n",
    "    says(sound=None)\n",
    "        Prints the animals name and what sound it makes\n",
    "    \"\"\"\n",
    "\n",
    "    says_str = \"A {name} says {sound}\"\n",
    "\n",
    "    def __init__(self, name, sound, num_legs=4):\n",
    "        \"\"\"\n",
    "        Parameters\n",
    "        ----------\n",
    "        name : str\n",
    "            The name of the animal\n",
    "        sound : str\n",
    "            The sound the animal makes\n",
    "        num_legs : int, optional\n",
    "            The number of legs the animal (default is 4)\n",
    "        \"\"\"\n",
    "\n",
    "        self.name = name\n",
    "        self.sound = sound\n",
    "        self.num_legs = num_legs\n",
    "\n",
    "    def says(self, sound=None):\n",
    "        \"\"\"Prints what the animals name is and what sound it makes.\n",
    "\n",
    "        If the argument `sound` isn't passed in, the default Animal\n",
    "        sound is used.\n",
    "\n",
    "        Parameters\n",
    "        ----------\n",
    "        sound : str, optional\n",
    "            The sound the animal makes (default is None)\n",
    "\n",
    "        Raises\n",
    "        ------\n",
    "        NotImplementedError\n",
    "            If no sound is set for the animal or passed in as a\n",
    "            parameter.\n",
    "        \"\"\"\n",
    "\n",
    "        if self.sound is None and sound is None:\n",
    "            raise NotImplementedError(\"Silent Animals are not supported!\")\n",
    "\n",
    "        out_sound = self.sound if sound is None else sound\n",
    "        print(self.says_str.format(name=self.name, sound=out_sound))"
   ]
  },
  {
   "cell_type": "code",
   "execution_count": 18,
   "metadata": {},
   "outputs": [
    {
     "output_type": "stream",
     "name": "stdout",
     "text": [
      "Help on class Animal in module __main__:\n\nclass Animal(builtins.object)\n |  Animal(name, sound, num_legs=4)\n |  \n |  A class used to represent an Animal\n |  \n |  ...\n |  \n |  Attributes\n |  ----------\n |  says_str : str\n |      a formatted string to print out what the animal says\n |  name : str\n |      the name of the animal\n |  sound : str\n |      the sound that the animal makes\n |  num_legs : int\n |      the number of legs the animal has (default 4)\n |  \n |  Methods\n |  -------\n |  says(sound=None)\n |      Prints the animals name and what sound it makes\n |  \n |  Methods defined here:\n |  \n |  __init__(self, name, sound, num_legs=4)\n |      Parameters\n |      ----------\n |      name : str\n |          The name of the animal\n |      sound : str\n |          The sound the animal makes\n |      num_legs : int, optional\n |          The number of legs the animal (default is 4)\n |  \n |  says(self, sound=None)\n |      Prints what the animals name is and what sound it makes.\n |      \n |      If the argument `sound` isn't passed in, the default Animal\n |      sound is used.\n |      \n |      Parameters\n |      ----------\n |      sound : str, optional\n |          The sound the animal makes (default is None)\n |      \n |      Raises\n |      ------\n |      NotImplementedError\n |          If no sound is set for the animal or passed in as a\n |          parameter.\n |  \n |  ----------------------------------------------------------------------\n |  Data descriptors defined here:\n |  \n |  __dict__\n |      dictionary for instance variables (if defined)\n |  \n |  __weakref__\n |      list of weak references to the object (if defined)\n |  \n |  ----------------------------------------------------------------------\n |  Data and other attributes defined here:\n |  \n |  says_str = 'A {name} says {sound}'\n\n"
     ]
    }
   ],
   "source": [
    "help(Animal)"
   ]
  },
  {
   "source": [
    "**Google Docstrings Example**"
   ],
   "cell_type": "markdown",
   "metadata": {}
  },
  {
   "cell_type": "code",
   "execution_count": null,
   "metadata": {},
   "outputs": [],
   "source": [
    "\"\"\"Gets and prints the spreadsheet's header columns\r\n",
    "\r\n",
    "Args:\r\n",
    "    file_loc (str): The file location of the spreadsheet\r\n",
    "    print_cols (bool): A flag used to print the columns to the console\r\n",
    "        (default is False)\r\n",
    "\r\n",
    "Returns:\r\n",
    "    list: a list of strings representing the header columns\r\n",
    "\"\"\""
   ]
  },
  {
   "source": [
    "**reStructured Text Example**"
   ],
   "cell_type": "markdown",
   "metadata": {}
  },
  {
   "cell_type": "code",
   "execution_count": null,
   "metadata": {},
   "outputs": [],
   "source": [
    "\"\"\"Gets and prints the spreadsheet's header columns\n",
    "\n",
    ":param file_loc: The file location of the spreadsheet\n",
    ":type file_loc: str\n",
    ":param print_cols: A flag used to print the columns to the console\n",
    "    (default is False)\n",
    ":type print_cols: bool\n",
    ":returns: a list of strings representing the header columns\n",
    ":rtype: list\n",
    "\"\"\""
   ]
  },
  {
   "source": [
    "**NumPy/SciPy Docstrings Example**"
   ],
   "cell_type": "markdown",
   "metadata": {}
  },
  {
   "cell_type": "code",
   "execution_count": null,
   "metadata": {},
   "outputs": [],
   "source": [
    "\"\"\"Gets and prints the spreadsheet's header columns\n",
    "\n",
    "Parameters\n",
    "----------\n",
    "file_loc : str\n",
    "    The file location of the spreadsheet\n",
    "print_cols : bool, optional\n",
    "    A flag used to print the columns to the console (default is False)\n",
    "\n",
    "Returns\n",
    "-------\n",
    "list\n",
    "    a list of strings representing the header columns\n",
    "\"\"\""
   ]
  },
  {
   "source": [
    "**Epytext Example**"
   ],
   "cell_type": "markdown",
   "metadata": {}
  },
  {
   "cell_type": "code",
   "execution_count": null,
   "metadata": {},
   "outputs": [],
   "source": [
    "\"\"\"Gets and prints the spreadsheet's header columns\n",
    "\n",
    "@type file_loc: str\n",
    "@param file_loc: The file location of the spreadsheet\n",
    "@type print_cols: bool\n",
    "@param print_cols: A flag used to print the columns to the console\n",
    "    (default is False)\n",
    "@rtype: list\n",
    "@returns: a list of strings representing the header columns\n",
    "\"\"\""
   ]
  },
  {
   "source": [
    "**Sphinx**"
   ],
   "cell_type": "markdown",
   "metadata": {}
  },
  {
   "source": [
    "[sphinx video](https://www.youtube.com/watch?v=LQ6pFgQXQ0Q)"
   ],
   "cell_type": "markdown",
   "metadata": {}
  },
  {
   "source": [
    "python -m pip install Sphinx"
   ],
   "cell_type": "markdown",
   "metadata": {}
  },
  {
   "cell_type": "code",
   "execution_count": null,
   "metadata": {},
   "outputs": [],
   "source": [
    "sphinx-quickstart --ext-autodoc "
   ]
  },
  {
   "source": [
    "*index.rst* ->\n",
    "* .. automodule:: filename_without_extension\n",
    "*\t  :members:\n"
   ],
   "cell_type": "markdown",
   "metadata": {}
  },
  {
   "source": [
    "*config.py* -> \n",
    "* uncomment line with sys.path \n",
    "* add in first line import sys and import os command\n"
   ],
   "cell_type": "markdown",
   "metadata": {}
  },
  {
   "source": [
    "* make clean\n",
    "* make builder"
   ],
   "cell_type": "markdown",
   "metadata": {}
  },
  {
   "source": [
    "Open html file in _build/html/index.html and see your result\n"
   ],
   "cell_type": "markdown",
   "metadata": {}
  },
  {
   "source": [
    "### Импортирование модулей и пакетов"
   ],
   "cell_type": "markdown",
   "metadata": {}
  },
  {
   "source": [
    "**Модуль** — это файл, содержащий код на Python"
   ],
   "cell_type": "markdown",
   "metadata": {}
  },
  {
   "source": [
    "```python\n",
    "import module1[, module2[,... moduleN]\n",
    "from module_name import name1[, name2[, ... nameN]]\n",
    "```"
   ],
   "cell_type": "markdown",
   "metadata": {}
  },
  {
   "source": [
    "dir() показывает список имен, определенных в модуле"
   ],
   "cell_type": "markdown",
   "metadata": {}
  },
  {
   "source": [
    "При импорте выполняются все выражения в модуле. Если есть что-то кроме определений, то оно тоже выполнится"
   ],
   "cell_type": "markdown",
   "metadata": {}
  },
  {
   "cell_type": "code",
   "execution_count": null,
   "metadata": {},
   "outputs": [],
   "source": [
    "Внутри модуля, имя модуля  можно получить\n",
    "в виде значения глобальной переменной с именем __name__. Если файл py запускается, то его имя = \"__main__\", Иначе его имя равно имени файла"
   ]
  },
  {
   "cell_type": "code",
   "execution_count": null,
   "metadata": {},
   "outputs": [],
   "source": []
  },
  {
   "cell_type": "code",
   "execution_count": null,
   "metadata": {},
   "outputs": [],
   "source": [
    "from as..."
   ]
  },
  {
   "source": [
    "The module is searched in the following order:\n",
    "\n"
   ],
   "cell_type": "markdown",
   "metadata": {}
  },
  {
   "source": [
    "* Current directory\n",
    "* Each directory in shell variable PYTHONPATH\n",
    "* Python default path ( OS dependent – Unix /usr/local/lib/python)\n",
    "* sys.path"
   ],
   "cell_type": "markdown",
   "metadata": {}
  },
  {
   "cell_type": "code",
   "execution_count": 1,
   "metadata": {},
   "outputs": [
    {
     "output_type": "stream",
     "name": "stdout",
     "text": [
      "c:\\data\\courses\\python_colvir\\8. Модуль 4. Модули и пакеты\\code_examples\nc:\\Users\\Михаил\\.vscode\\extensions\\ms-toolsai.jupyter-2021.6.999230701\\pythonFiles\nc:\\Users\\Михаил\\.vscode\\extensions\\ms-toolsai.jupyter-2021.6.999230701\\pythonFiles\\lib\\python\nC:\\data\\programs\\Anaconda\\python38.zip\nC:\\data\\programs\\Anaconda\\DLLs\nC:\\data\\programs\\Anaconda\\lib\nC:\\data\\programs\\Anaconda\n\nC:\\data\\programs\\Anaconda\\lib\\site-packages\nC:\\data\\programs\\Anaconda\\lib\\site-packages\\locket-0.2.1-py3.8.egg\nC:\\data\\programs\\Anaconda\\lib\\site-packages\\win32\nC:\\data\\programs\\Anaconda\\lib\\site-packages\\win32\\lib\nC:\\data\\programs\\Anaconda\\lib\\site-packages\\Pythonwin\nC:\\data\\programs\\Anaconda\\lib\\site-packages\\IPython\\extensions\nC:\\Users\\Михаил\\.ipython\n"
     ]
    }
   ],
   "source": [
    "import sys\n",
    "for path in sys.path:\n",
    "    print(path)"
   ]
  },
  {
   "cell_type": "code",
   "execution_count": 1,
   "metadata": {},
   "outputs": [
    {
     "output_type": "execute_result",
     "data": {
      "text/plain": [
       "'c:\\\\data\\\\courses\\\\python_colvir\\\\8. Модуль 4. Модули и пакеты\\\\code_examples'"
      ]
     },
     "metadata": {},
     "execution_count": 1
    }
   ],
   "source": [
    "import os\n",
    "os.getcwd()"
   ]
  },
  {
   "source": [
    "**Пакет** - это папка в файловой системы, в которой есть \\__init__.py\n",
    "Все пайтон модули в папке относятся к пакету"
   ],
   "cell_type": "markdown",
   "metadata": {}
  },
  {
   "cell_type": "code",
   "execution_count": 2,
   "metadata": {},
   "outputs": [
    {
     "output_type": "stream",
     "name": "stdout",
     "text": [
      "f1 из package.module_1\n"
     ]
    }
   ],
   "source": [
    "from package import module_1\n",
    "module_1.f1()"
   ]
  },
  {
   "cell_type": "code",
   "execution_count": 3,
   "metadata": {},
   "outputs": [
    {
     "output_type": "stream",
     "name": "stdout",
     "text": [
      "f1 из package.module_1\n"
     ]
    }
   ],
   "source": [
    "from package.module_1 import f1\n",
    "f1()"
   ]
  },
  {
   "cell_type": "code",
   "execution_count": 4,
   "metadata": {},
   "outputs": [
    {
     "output_type": "stream",
     "name": "stdout",
     "text": [
      "f3 из package.subpackage.module_3\n"
     ]
    }
   ],
   "source": [
    "from package.subpackage import module_3\n",
    "module_3.f3()"
   ]
  },
  {
   "source": [
    "Если есть код в \\__init__.py, то он импортируется напрямую"
   ],
   "cell_type": "markdown",
   "metadata": {}
  },
  {
   "cell_type": "code",
   "execution_count": 7,
   "metadata": {},
   "outputs": [
    {
     "output_type": "stream",
     "name": "stdout",
     "text": [
      "f_init_2 из package.subpackage/__init__.py\n"
     ]
    }
   ],
   "source": [
    "from package.subpackage import f_init_2\n",
    "f_init_2()"
   ]
  },
  {
   "cell_type": "code",
   "execution_count": null,
   "metadata": {},
   "outputs": [],
   "source": [
    "\\__init__.py как правило либо пустой либо содержит код для первоначальной инициализации"
   ]
  },
  {
   "cell_type": "code",
   "execution_count": 11,
   "metadata": {},
   "outputs": [],
   "source": [
    "from package.subpackage import module_3"
   ]
  },
  {
   "cell_type": "code",
   "execution_count": 2,
   "metadata": {},
   "outputs": [],
   "source": [
    "import package"
   ]
  },
  {
   "cell_type": "code",
   "execution_count": 5,
   "metadata": {},
   "outputs": [],
   "source": [
    "from module_1 import f_1"
   ]
  },
  {
   "cell_type": "code",
   "execution_count": 6,
   "metadata": {},
   "outputs": [],
   "source": [
    "from package import module_1"
   ]
  },
  {
   "source": [
    "### Virtual Environments"
   ],
   "cell_type": "markdown",
   "metadata": {}
  },
  {
   "source": [
    "[to read](https://medium.com/@krishnaregmi/pipenv-vs-virtualenv-vs-conda-environment-3dde3f6869ed)"
   ],
   "cell_type": "markdown",
   "metadata": {}
  },
  {
   "source": [
    "[to read](https://pingvinus.ru/note/pip)"
   ],
   "cell_type": "markdown",
   "metadata": {}
  },
  {
   "source": [
    "[to read](https://towardsdatascience.com/manage-your-python-virtual-environment-with-conda-a0d2934d5195)"
   ],
   "cell_type": "markdown",
   "metadata": {}
  },
  {
   "source": [
    "To create an environment call this command\n",
    "<br>\n",
    "* conda create --name env_name python\n",
    "<br>\n",
    "To activate it use\n",
    "<br>\n",
    "* conda activate env_name\n",
    "<br>\n",
    "To deactivate it use\n",
    "<br>\n",
    "* conda deactivate\n",
    "<br>\n",
    "To look at all packages installed use\n",
    "<br>\n",
    "* conda list\n",
    "<br>\n",
    "or\n",
    "<br>\n",
    "* pip list\n",
    "<br>\n",
    "You can save all the info necessary to recreate the environment (use the project directory)\n",
    "<br>\n",
    "* conda env export > environment.yml\n",
    "<br>\n",
    "To recreate the environment\n",
    "<br>\n",
    "* conda env create -f environment.yml\n",
    "<br>\n",
    "Можно установить необходимую версию пакета\n",
    "<br>\n",
    "* pip install pandas==1.2.3\n",
    "<br>\n",
    "Можно удалить пакет\n",
    "<br>\n",
    "* pip uninstall pandas\n",
    "<br>\n",
    "Список окружений\n",
    "<br>\n",
    "* conda env list\n",
    "<br>\n",
    "Удалить окружение\n",
    "<br>\n",
    "* conda env remove --name env_name"
   ],
   "cell_type": "markdown",
   "metadata": {}
  },
  {
   "source": [
    "### VSC settings"
   ],
   "cell_type": "markdown",
   "metadata": {}
  },
  {
   "source": [
    "* night owl\n",
    "* excel viewer\n",
    "* live server\n",
    "* arepl\n",
    "* kite\n",
    "* Python Docstring Generator"
   ],
   "cell_type": "markdown",
   "metadata": {}
  },
  {
   "source": [
    "* pip install black\n",
    "* \"python.formatting.provider\": \"black\"\n",
    "![](settings.png)"
   ],
   "cell_type": "markdown",
   "metadata": {}
  },
  {
   "source": [
    "__WEB Packages__"
   ],
   "cell_type": "markdown",
   "metadata": {}
  },
  {
   "source": [
    "[read](https://docs.python.org/3.6/distutils/setupscript.html)"
   ],
   "cell_type": "markdown",
   "metadata": {}
  },
  {
   "source": [
    "[хранилище пакетов](https://pypi.org )"
   ],
   "cell_type": "markdown",
   "metadata": {}
  },
  {
   "cell_type": "code",
   "execution_count": null,
   "metadata": {},
   "outputs": [],
   "source": []
  }
 ]
}