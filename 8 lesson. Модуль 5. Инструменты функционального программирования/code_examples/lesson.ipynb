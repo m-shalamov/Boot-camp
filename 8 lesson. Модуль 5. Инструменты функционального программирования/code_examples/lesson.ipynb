{
 "cells": [
  {
   "cell_type": "markdown",
   "metadata": {},
   "source": [
    "# Инструменты функционального программирования"
   ]
  },
  {
   "cell_type": "markdown",
   "metadata": {},
   "source": [
    "## Lection"
   ]
  },
  {
   "cell_type": "markdown",
   "metadata": {},
   "source": [
    "[to read](https://habr.com/ru/post/517438/)"
   ]
  },
  {
   "cell_type": "markdown",
   "metadata": {},
   "source": [
    "** Properties **"
   ]
  },
  {
   "cell_type": "code",
   "execution_count": 3,
   "metadata": {},
   "outputs": [
    {
     "name": "stdout",
     "output_type": "stream",
     "text": [
      "3628800\n",
      "factorial\n",
      "returns n!\n"
     ]
    }
   ],
   "source": [
    "def factorial(n):\n",
    "    \"\"\"returns n!\"\"\"\n",
    "    return 1 if n <2 else n* factorial(n-1)\n",
    "print(factorial(10))\n",
    "print(factorial.__name__)\n",
    "print(factorial.__doc__)"
   ]
  },
  {
   "cell_type": "markdown",
   "metadata": {},
   "source": [
    "** Assignment **"
   ]
  },
  {
   "cell_type": "code",
   "execution_count": 5,
   "metadata": {},
   "outputs": [
    {
     "name": "stdout",
     "output_type": "stream",
     "text": [
      "2432902008176640000\n"
     ]
    }
   ],
   "source": [
    "fact = factorial\n",
    "print(fact(10))\n",
    "print(fact.__name__)\n",
    "print(fact.__doc__)"
   ]
  },
  {
   "cell_type": "markdown",
   "metadata": {},
   "source": [
    "** The list of functions **"
   ]
  },
  {
   "cell_type": "code",
   "execution_count": 6,
   "metadata": {},
   "outputs": [
    {
     "name": "stdout",
     "output_type": "stream",
     "text": [
      "1\n",
      "2\n",
      "3\n"
     ]
    }
   ],
   "source": [
    "def func_1():\n",
    "    print(\"1\")\n",
    "\n",
    "def func_2():\n",
    "    print(\"2\")\n",
    "\n",
    "def func_3():\n",
    "    print(\"3\")\n",
    "\n",
    "funcs = [func_1, func_2, func_3]\n",
    "for func in funcs:\n",
    "    func() "
   ]
  },
  {
   "cell_type": "markdown",
   "metadata": {},
   "source": [
    "** Callback functions. Higher-order functions**"
   ]
  },
  {
   "cell_type": "code",
   "execution_count": 9,
   "metadata": {},
   "outputs": [
    {
     "name": "stdout",
     "output_type": "stream",
     "text": [
      "19016500\n"
     ]
    }
   ],
   "source": [
    "from time import time_ns\n",
    "\n",
    "def timeit(function):\n",
    "    start_time = time_ns()\n",
    "    function()\n",
    "    end_time = time_ns()\n",
    "    return end_time - start_time\n",
    "    \n",
    "def func():\n",
    "    s = \"\"\n",
    "    for i in range(10000):\n",
    "        s = s + str(i)\n",
    "    return s\n",
    "print(timeit(func))"
   ]
  },
  {
   "cell_type": "code",
   "execution_count": null,
   "metadata": {},
   "outputs": [],
   "source": [
    "from time import time_ns\n",
    "def timeit(f):\n",
    "    s = time_ns()\n",
    "    f()\n",
    "    e = time_ns()\n",
    "    return e - s\n",
    "def func_1():\n",
    "    s = \"\"\n",
    "    for i in range(10000):\n",
    "        s += str(i)\n",
    "    return s\n",
    "def func_2():\n",
    "    s = \"\"\n",
    "    for i in range(100000):\n",
    "        s += str(i)\n",
    "    return s\n",
    "def func_3():\n",
    "    s = \"\"\n",
    "    for i in range(1000000):\n",
    "        s += str(i)\n",
    "    return s\n",
    "\n",
    "functions = [func_1, func_2, func_3]\n",
    "for func in functions:\n",
    "    print(timeit(func))"
   ]
  },
  {
   "cell_type": "markdown",
   "metadata": {},
   "source": [
    "A function that takes a function as argument or returns a function as the result is a\n",
    "__higher-order function__"
   ]
  },
  {
   "cell_type": "code",
   "execution_count": 10,
   "metadata": {},
   "outputs": [
    {
     "data": {
      "text/plain": [
       "['fig', 'apple', 'cherry', 'banana', 'raspberry', 'strawberry']"
      ]
     },
     "execution_count": 10,
     "metadata": {},
     "output_type": "execute_result"
    }
   ],
   "source": [
    "fruits = ['strawberry', 'fig', 'apple', 'cherry', 'raspberry', 'banana']\n",
    "sorted(fruits, key=len)"
   ]
  },
  {
   "cell_type": "code",
   "execution_count": 11,
   "metadata": {},
   "outputs": [
    {
     "data": {
      "text/plain": [
       "['banana', 'apple', 'fig', 'raspberry', 'strawberry', 'cherry']"
      ]
     },
     "execution_count": 11,
     "metadata": {},
     "output_type": "execute_result"
    }
   ],
   "source": [
    "def reverse(w):\n",
    "    return w[::-1]\n",
    "sorted(fruits, key=reverse)"
   ]
  },
  {
   "cell_type": "code",
   "execution_count": 66,
   "metadata": {},
   "outputs": [
    {
     "name": "stdout",
     "output_type": "stream",
     "text": [
      "[[10, 19], [6, 20], [4, 54], [2, 100]]\n"
     ]
    }
   ],
   "source": [
    "list1=[[2,100],[6,20],[10,19],[4,54]]\n",
    "# Sorting the data using second column-\n",
    "#x[1] indicates columns 2 as index in array starts with 0.\n",
    "list1.sort(key=lambda x:x[1])\n",
    "#sorting has took place in the original list\n",
    "print(list1)"
   ]
  },
  {
   "cell_type": "code",
   "execution_count": 15,
   "metadata": {},
   "outputs": [
    {
     "name": "stdout",
     "output_type": "stream",
     "text": [
      "[1, 1, 2, 6, 24, 120, 720, 5040, 40320, 362880]\n",
      "[6, 1, 24, 1, 120, 362880, 2, 720]\n"
     ]
    }
   ],
   "source": [
    "def factorial(n):\n",
    "    \"\"\"returns n!\"\"\"\n",
    "    return 1 if n <2 else n* factorial(n-1)\n",
    "\n",
    "print(list(map(factorial, range(10))))\n",
    "my_numbers = [3, 1, 4, 1, 5, 9, 2, 6]\n",
    "print(list(map(factorial, my_numbers)))"
   ]
  },
  {
   "cell_type": "code",
   "execution_count": 16,
   "metadata": {},
   "outputs": [
    {
     "name": "stdout",
     "output_type": "stream",
     "text": [
      "[4, 2, 6]\n"
     ]
    }
   ],
   "source": [
    "def is_even(x):\n",
    "    return x%2 == 0\n",
    "my_numbers = [3, 1, 4, 1, 5, 9, 2, 6]\n",
    "print(list(filter(is_even, my_numbers)))"
   ]
  },
  {
   "cell_type": "code",
   "execution_count": 1,
   "metadata": {},
   "outputs": [
    {
     "data": {
      "text/plain": [
       "[2, 9]"
      ]
     },
     "execution_count": 1,
     "metadata": {},
     "output_type": "execute_result"
    }
   ],
   "source": [
    "list(map(lambda x, n: x ** n, [2, 3], range(1, 8)))"
   ]
  },
  {
   "cell_type": "code",
   "execution_count": 2,
   "metadata": {},
   "outputs": [
    {
     "data": {
      "text/plain": [
       "[42]"
      ]
     },
     "execution_count": 2,
     "metadata": {},
     "output_type": "execute_result"
    }
   ],
   "source": [
    "xs = [0, None, [], {}, set(), \"\", 42]\n",
    "list(filter(None, xs))"
   ]
  },
  {
   "cell_type": "code",
   "execution_count": 3,
   "metadata": {},
   "outputs": [
    {
     "data": {
      "text/plain": [
       "[('a', 0), ('b', 1), ('c', 2)]"
      ]
     },
     "execution_count": 3,
     "metadata": {},
     "output_type": "execute_result"
    }
   ],
   "source": [
    "list(zip(\"abc\", range(10)))"
   ]
  },
  {
   "cell_type": "markdown",
   "metadata": {},
   "source": [
    "** Lambda functions **\n"
   ]
  },
  {
   "cell_type": "code",
   "execution_count": 19,
   "metadata": {},
   "outputs": [
    {
     "name": "stdout",
     "output_type": "stream",
     "text": [
      "[4, 2, 6]\n",
      "[5, 8, 5, 9, 7, 17, 3, 14]\n"
     ]
    }
   ],
   "source": [
    "my_numbers = [3, 1, 4, 1, 5, 9, 2, 6]\n",
    "print(list(filter(lambda x: not x%2, my_numbers)))\n",
    "numbers_1 = [3, 1, 4, 1, 5, 9, 2, 6]\n",
    "numbers_2 = [2, 7, 1, 8, 2, 8, 1, 8]\n",
    "print(list(map(lambda x, y: x + y, numbers_1, numbers_2)))"
   ]
  },
  {
   "cell_type": "code",
   "execution_count": 49,
   "metadata": {},
   "outputs": [
    {
     "name": "stdout",
     "output_type": "stream",
     "text": [
      "hello\n"
     ]
    }
   ],
   "source": [
    "f = lambda : print(\"hello\")\n",
    "f()"
   ]
  },
  {
   "cell_type": "markdown",
   "metadata": {},
   "source": [
    "** List comprehensions **"
   ]
  },
  {
   "cell_type": "code",
   "execution_count": 21,
   "metadata": {},
   "outputs": [
    {
     "name": "stdout",
     "output_type": "stream",
     "text": [
      "[1, 1, 2, 6, 24, 120, 720, 5040, 40320, 362880]\n",
      "[1, 2, 24, 720, 40320]\n"
     ]
    }
   ],
   "source": [
    "def factorial(n):\n",
    "    \"\"\"returns n!\"\"\"\n",
    "    return 1 if n <2 else n* factorial(n-1)\n",
    "\n",
    "print([factorial(i) for i in range(10)])\n",
    "print([factorial(i) for i in range(10) if not i%2])"
   ]
  },
  {
   "cell_type": "code",
   "execution_count": 33,
   "metadata": {},
   "outputs": [
    {
     "name": "stdout",
     "output_type": "stream",
     "text": [
      "[6, 21, 3, 24, 6, 24, 3, 24, 2, 7, 1, 8, 2, 8, 1, 8, 8, 28, 4, 32, 8, 32, 4, 32, 2, 7, 1, 8, 2, 8, 1, 8, 10, 35, 5, 40, 10, 40, 5, 40, 18, 63, 9, 72, 18, 72, 9, 72, 4, 14, 2, 16, 4, 16, 2, 16, 12, 42, 6, 48, 12, 48, 6, 48]\n",
      "[63, 72, 72, 72, 42, 48, 48, 48]\n",
      "{1, 2, 3, 4, 5, 6, 9}\n",
      "{3: 9, 1: 1, 4: 16, 5: 25, 9: 81, 2: 4, 6: 36}\n",
      "['+', '+', '+', '+', '-', '-', '-', '-']\n",
      "['134', '135', '136', '234', '235', '236']\n"
     ]
    }
   ],
   "source": [
    "numbers_1 = [3, 1, 4, 1, 5, 9, 2, 6]\n",
    "numbers_2 = [2, 7, 1, 8, 2, 8, 1, 8]\n",
    "print([x * y for x in numbers_1 for y in numbers_2])\n",
    "print([x * y for x in numbers_1 for y in numbers_2 if x>5 and y >4])\n",
    "print({x for x in numbers_1})\n",
    "print({x: x ** 2 for x in numbers_1})\n",
    "print([ \"+\" if x*y>50 else \"-\" for x in numbers_1 for y in numbers_2 if x>5 and y >4])\n",
    "a = \"12\"\n",
    "b = \"3\"\n",
    "c = \"456\"\n",
    "comb = [i+j+k for i in a for j in b for k in c]\n",
    "print(comb)"
   ]
  },
  {
   "cell_type": "code",
   "execution_count": 39,
   "metadata": {},
   "outputs": [
    {
     "name": "stdout",
     "output_type": "stream",
     "text": [
      "3628800\n"
     ]
    }
   ],
   "source": [
    "from functools import reduce\n",
    "def fact(n):\n",
    "    return reduce(lambda a, b: a*b, range(1, n+1),1)\n",
    "print(fact(10))"
   ]
  },
  {
   "cell_type": "markdown",
   "metadata": {},
   "source": [
    "[to read](https://realpython.com/python-reduce-function/)"
   ]
  },
  {
   "cell_type": "code",
   "execution_count": 40,
   "metadata": {},
   "outputs": [
    {
     "name": "stdout",
     "output_type": "stream",
     "text": [
      "3628800\n"
     ]
    }
   ],
   "source": [
    "from functools import reduce\n",
    "from operator import mul\n",
    "def fact(n):\n",
    "    return reduce(mul, range(1, n+1))\n",
    "print(fact(10))"
   ]
  },
  {
   "cell_type": "code",
   "execution_count": null,
   "metadata": {},
   "outputs": [],
   "source": [
    "def reduce(function, iterable, initializer=None):\n",
    "    it = iter(iterable)\n",
    "    if initializer is None:\n",
    "        value = next(it)\n",
    "    else:\n",
    "        value = initializer\n",
    "    for element in it:\n",
    "        value = function(value, element)\n",
    "    return value\n"
   ]
  },
  {
   "cell_type": "code",
   "execution_count": 46,
   "metadata": {},
   "outputs": [
    {
     "name": "stdout",
     "output_type": "stream",
     "text": [
      "0 + 1 = 1\n",
      "1 + 2 = 3\n",
      "3 + 3 = 6\n",
      "6 + 4 = 10\n",
      "10\n",
      "0 + 1 = 1\n",
      "1 + 2 = 3\n",
      "3 + 3 = 6\n",
      "6 + 4 = 10\n",
      "10\n",
      "10\n"
     ]
    }
   ],
   "source": [
    "import functools\n",
    "def my_add(a, b):\n",
    "   result = a + b\n",
    "   print(f\"{a} + {b} = {result}\")\n",
    "   return result\n",
    "numbers = [0, 1, 2, 3, 4]\n",
    "print(functools.reduce(my_add, numbers))\n",
    "print(reduce(my_add, numbers))\n",
    "print(sum(numbers))"
   ]
  },
  {
   "cell_type": "code",
   "execution_count": 43,
   "metadata": {},
   "outputs": [
    {
     "name": "stdout",
     "output_type": "stream",
     "text": [
      "4\n",
      "24\n"
     ]
    }
   ],
   "source": [
    "from operator import mul\n",
    "from functools import reduce\n",
    "\n",
    "print(mul(2, 2))\n",
    "\n",
    "numbers = [1, 2, 3, 4]\n",
    "\n",
    "print(reduce(mul, numbers))"
   ]
  },
  {
   "cell_type": "code",
   "execution_count": 44,
   "metadata": {},
   "outputs": [
    {
     "data": {
      "text/plain": [
       "24"
      ]
     },
     "execution_count": 44,
     "metadata": {},
     "output_type": "execute_result"
    }
   ],
   "source": [
    "from math import prod\n",
    "\n",
    "numbers = [1, 2, 3, 4]\n",
    "\n",
    "prod(numbers)"
   ]
  },
  {
   "cell_type": "markdown",
   "metadata": {},
   "source": [
    "## Practice"
   ]
  },
  {
   "cell_type": "markdown",
   "metadata": {},
   "source": [
    "Using reduce find the min of a list"
   ]
  },
  {
   "cell_type": "code",
   "execution_count": null,
   "metadata": {},
   "outputs": [],
   "source": [
    "from functools import reduce\n",
    "\n",
    "numbers = [3, 5, 2, 4, 7, 1]\n",
    "\n",
    "# Minimum\n",
    "reduce(lambda a, b: a if a < b else b, numbers)\n",
    "1\n",
    "\n",
    "# Maximum\n",
    "reduce(lambda a, b: a if a > b else b, numbers)\n",
    "7"
   ]
  },
  {
   "cell_type": "code",
   "execution_count": 2,
   "metadata": {},
   "outputs": [
    {
     "name": "stdout",
     "output_type": "stream",
     "text": [
      "26\n"
     ]
    }
   ],
   "source": [
    "from functools import reduce\n",
    "ls = [180,26,45,78]\n",
    "m = reduce(min, ls)\n",
    "print(m)\n"
   ]
  },
  {
   "cell_type": "code",
   "execution_count": null,
   "metadata": {},
   "outputs": [],
   "source": [
    "x = [[0]*3 for _ in range(4)]\n",
    "x[0][0] = 9\n",
    "x"
   ]
  },
  {
   "cell_type": "markdown",
   "metadata": {},
   "source": [
    "Write a function, that creates 2d list with the numbers in ascending order from 1 to n^2(n is a parameter of function)"
   ]
  },
  {
   "cell_type": "code",
   "execution_count": null,
   "metadata": {},
   "outputs": [],
   "source": [
    "1 2 3\n",
    "4 5 6\n",
    "7 8 9"
   ]
  },
  {
   "cell_type": "code",
   "execution_count": null,
   "metadata": {},
   "outputs": [],
   "source": [
    "def f(n):\n",
    "    return [[i+j*n+1 for i in range(n)] for j in range(n)]\n",
    "f(4)"
   ]
  },
  {
   "cell_type": "code",
   "execution_count": 5,
   "metadata": {},
   "outputs": [
    {
     "name": "stdout",
     "output_type": "stream",
     "text": [
      "[[1, 1], [2, 4], [3, 9], [4, 16], [5, 25]]\n"
     ]
    }
   ],
   "source": [
    "\n",
    "def matrix(n):\n",
    "    return [[i+j*n for i in range(1,n+1)] for j in range(0,n)]\n",
    "print(matrix(4))\n",
    "\n"
   ]
  },
  {
   "cell_type": "markdown",
   "metadata": {},
   "source": [
    "A list of numbers is given. You should find the sum of even elements with 3 different ways"
   ]
  },
  {
   "cell_type": "code",
   "execution_count": 6,
   "metadata": {},
   "outputs": [
    {
     "name": "stdout",
     "output_type": "stream",
     "text": [
      "10\n",
      "10\n",
      "10\n"
     ]
    }
   ],
   "source": [
    "numbers = [0,1,2,3,4]\n",
    "print(reduce(lambda a,b: a+b, numbers))\n",
    "print(sum(numbers))\n",
    "def sum_list(list):\n",
    "    return list[0] if len(list)==1 else sum_list(list[1:])+list[0]\n",
    "print(sum_list(numbers))\n",
    "m = [5,8,2,10,3,7,6]\n",
    "# x = 0\n",
    "# for item in m:\n",
    "#     if item%2==0:\n",
    "#         x+=item\n",
    "# print(x)\n",
    "##################\n",
    "# print(sum([item for item in m if item %2==0]))\n",
    "##################\n",
    "# print(reduce(lambda a,b: a+b if a%2 == 0 and b%2 == 0 else a, m, 0))"
   ]
  },
  {
   "cell_type": "markdown",
   "metadata": {},
   "source": [
    "## Lection"
   ]
  },
  {
   "cell_type": "markdown",
   "metadata": {},
   "source": [
    "** Returning functions **"
   ]
  },
  {
   "cell_type": "code",
   "execution_count": null,
   "metadata": {},
   "outputs": [],
   "source": [
    "def f(n):\n",
    "    if n>0:\n",
    "        return lambda: print(\"+\")\n",
    "    else:\n",
    "        return lambda: print(\"-\")\n",
    "x = f(4)()"
   ]
  },
  {
   "cell_type": "code",
   "execution_count": null,
   "metadata": {},
   "outputs": [],
   "source": [
    "def f(x):\n",
    "    return lambda y:x+y\n",
    "f(2)(4)"
   ]
  },
  {
   "cell_type": "markdown",
   "metadata": {},
   "source": [
    "** Partials **"
   ]
  },
  {
   "cell_type": "markdown",
   "metadata": {},
   "source": [
    "[to read](https://medium.com/swlh/partial-functions-in-python-from-conceptual-to-practical-22304e88d4ce)"
   ]
  },
  {
   "cell_type": "markdown",
   "metadata": {},
   "source": [
    "[to read](https://habr.com/ru/post/335866/)"
   ]
  },
  {
   "cell_type": "code",
   "execution_count": 56,
   "metadata": {},
   "outputs": [
    {
     "name": "stdout",
     "output_type": "stream",
     "text": [
      "Hello, German\n"
     ]
    }
   ],
   "source": [
    "def greet(greeting, name):\n",
    "    print(greeting + ', ' + name)\n",
    "\n",
    "greet('Hello', 'German')"
   ]
  },
  {
   "cell_type": "code",
   "execution_count": 57,
   "metadata": {},
   "outputs": [
    {
     "name": "stdout",
     "output_type": "stream",
     "text": [
      "Hello, German\n",
      "Hello, Ivan\n",
      "Hi, Roma\n"
     ]
    }
   ],
   "source": [
    "def greet_curried(greeting):\n",
    "    def greet(name):\n",
    "        print(greeting + ', ' + name)\n",
    "    return greet\n",
    "\n",
    "greet_hello = greet_curried('Hello')\n",
    "\n",
    "greet_hello('German')\n",
    "greet_hello('Ivan')\n",
    "\n",
    "# или напрямую greet_curried\n",
    "greet_curried('Hi')('Roma')"
   ]
  },
  {
   "cell_type": "code",
   "execution_count": 58,
   "metadata": {},
   "outputs": [
    {
     "name": "stdout",
     "output_type": "stream",
     "text": [
      "Hello...German.\n",
      "Hello...Ivan.\n"
     ]
    }
   ],
   "source": [
    "def greet_deeply_curried(greeting):\n",
    "    def w_separator(separator):\n",
    "        def w_emphasis(emphasis):\n",
    "            def w_name(name):\n",
    "                print(greeting + separator + name + emphasis)\n",
    "            return w_name\n",
    "        return w_emphasis\n",
    "    return w_separator\n",
    "\n",
    "greet = greet_deeply_curried(\"Hello\")(\"...\")(\".\")\n",
    "greet('German')\n",
    "greet('Ivan')"
   ]
  },
  {
   "cell_type": "code",
   "execution_count": null,
   "metadata": {},
   "outputs": [],
   "source": [
    "greet_deeply_curried = (lambda greeting: lambda separator: lambda emphasis: lambda name: print(greetings+separator + name+emphasis))"
   ]
  },
  {
   "cell_type": "code",
   "execution_count": 60,
   "metadata": {},
   "outputs": [
    {
     "name": "stdout",
     "output_type": "stream",
     "text": [
      "Hello,Tom!\n"
     ]
    }
   ],
   "source": [
    "greet_deeply_curried(\"Hello\")(\",\")(\"!\")(\"Tom\")"
   ]
  },
  {
   "cell_type": "code",
   "execution_count": 53,
   "metadata": {},
   "outputs": [
    {
     "name": "stdout",
     "output_type": "stream",
     "text": [
      "[2, 12, 14, 8, 14, 18]\n",
      "[3, 18, 21, 12, 21, 27]\n"
     ]
    }
   ],
   "source": [
    "def multiplier(n):\n",
    "    def inner(x):\n",
    "        return x * n\n",
    "    return inner\n",
    "arr = [1,6,7,4,7,9]\n",
    "multiplier_by_2 = multiplier(2)\n",
    "print([multiplier_by_2(item) for item in arr])\n",
    "multiplier_by_3 = multiplier(3)\n",
    "print([multiplier_by_3(item) for item in arr])"
   ]
  },
  {
   "cell_type": "code",
   "execution_count": 55,
   "metadata": {},
   "outputs": [
    {
     "name": "stdout",
     "output_type": "stream",
     "text": [
      "6\n"
     ]
    }
   ],
   "source": [
    "print(multiplier(2)(3))"
   ]
  },
  {
   "cell_type": "markdown",
   "metadata": {},
   "source": [
    "** functools **"
   ]
  },
  {
   "cell_type": "code",
   "execution_count": 4,
   "metadata": {},
   "outputs": [],
   "source": [
    "import functools"
   ]
  },
  {
   "cell_type": "code",
   "execution_count": 5,
   "metadata": {},
   "outputs": [
    {
     "data": {
      "text/plain": [
       "[('b', 2), ('a', 4)]"
      ]
     },
     "execution_count": 5,
     "metadata": {},
     "output_type": "execute_result"
    }
   ],
   "source": [
    "f = functools.partial(sorted, key=lambda p: p[1])\n",
    "f([(\"a\", 4), (\"b\", 2)])"
   ]
  },
  {
   "cell_type": "code",
   "execution_count": 61,
   "metadata": {},
   "outputs": [
    {
     "name": "stdout",
     "output_type": "stream",
     "text": [
      "Hello,German.\n",
      "Hello,Ivan.\n",
      "Hello...German.\n",
      "Hello..Ivan.\n"
     ]
    }
   ],
   "source": [
    "from functools import partial\n",
    "\n",
    "\n",
    "def greet(greeting, separator, emphasis, name):\n",
    "    print(greeting + separator + name + emphasis)\n",
    "\n",
    "newfunc = partial(greet, greeting='Hello', separator=',', emphasis='.')\n",
    "newfunc(name='German')\n",
    "newfunc(name='Ivan')\n",
    "\n",
    "newfunc2 = partial(greet, greeting='Hello', emphasis='.')\n",
    "newfunc2(name='German', separator='...')\n",
    "newfunc2(name='Ivan', separator='..')"
   ]
  },
  {
   "cell_type": "code",
   "execution_count": null,
   "metadata": {},
   "outputs": [],
   "source": [
    "def multiply(x,y):\n",
    "        return x * y"
   ]
  },
  {
   "cell_type": "code",
   "execution_count": 54,
   "metadata": {},
   "outputs": [
    {
     "name": "stdout",
     "output_type": "stream",
     "text": [
      "8\n",
      "[2, 12, 14, 8, 14, 18]\n"
     ]
    }
   ],
   "source": [
    "from functools import partial\n",
    "\n",
    "def multiply(x,y):\n",
    "        return x * y\n",
    "\n",
    "# create a new function that multiplies by 2\n",
    "dbl = partial(multiply,2)\n",
    "print(dbl(4))\n",
    "\n",
    "arr = [1,6,7,4,7,9]\n",
    "dbl = partial(multiply,2)\n",
    "print([dbl(item) for item in arr])"
   ]
  },
  {
   "cell_type": "code",
   "execution_count": 63,
   "metadata": {},
   "outputs": [
    {
     "name": "stdout",
     "output_type": "stream",
     "text": [
      "0, 2, 4, 6, 8, "
     ]
    }
   ],
   "source": [
    "from functools import partial\n",
    "\n",
    "\n",
    "def makeActions():\n",
    "    acts = []\n",
    "    for i in range(5):\n",
    "        def func(x, y):\n",
    "            return x * y\n",
    "        acts.append(partial(func, y=i))\n",
    "        # acts.append(partial(lambda x, y: x * y, y=i)) # через lambda\n",
    "    # return [partial(lambda x, y: x * y, y=i) for i in range(5)] # через генератор списка\n",
    "    return acts\n",
    "\n",
    "for act in makeActions():\n",
    "    print(act(2), end=', ')"
   ]
  },
  {
   "cell_type": "code",
   "execution_count": null,
   "metadata": {},
   "outputs": [],
   "source": [
    "def cool_staff(form_class, inits, defaults, user, other_param):\n",
    "    # много строчек кода"
   ]
  },
  {
   "cell_type": "code",
   "execution_count": null,
   "metadata": {},
   "outputs": [],
   "source": [
    "res = cool_staff(form_class=MainForm, inits={a:1, b:3}, defaults=[1,2,3], ...)\n",
    "...\n",
    "res = cool_staff(form_class=MainForm, inits={a:100500, b:42}, defaults=[3,2,1], ...)"
   ]
  },
  {
   "cell_type": "code",
   "execution_count": null,
   "metadata": {},
   "outputs": [],
   "source": [
    "main_cool_staff = lambda *args, **kwargs: cool_staff(form_class=MainForm, *args, **kwargs)"
   ]
  },
  {
   "cell_type": "code",
   "execution_count": null,
   "metadata": {},
   "outputs": [],
   "source": [
    "import functools\n",
    "main_cool_staff = functools.partial(cool_staff, MainForm)"
   ]
  },
  {
   "cell_type": "markdown",
   "metadata": {},
   "source": [
    "# Practice"
   ]
  },
  {
   "cell_type": "markdown",
   "metadata": {},
   "source": [
    "Create a function **print** which prints each value at the new line.\n",
    "<br>\n",
    "print(1, 2, 3)->\n",
    "```\n",
    "1\n",
    "2\n",
    "3\n",
    "```"
   ]
  },
  {
   "cell_type": "code",
   "execution_count": 64,
   "metadata": {},
   "outputs": [
    {
     "name": "stdout",
     "output_type": "stream",
     "text": [
      "1\n",
      "2\n",
      "3\n"
     ]
    }
   ],
   "source": [
    "print_origin = print\n",
    "print = partial(print, sep=\"\\n\")\n",
    "print(1,2,3)"
   ]
  },
  {
   "cell_type": "markdown",
   "metadata": {},
   "source": [
    "## Lection"
   ]
  },
  {
   "cell_type": "markdown",
   "metadata": {},
   "source": [
    "**Monkey patching**"
   ]
  },
  {
   "cell_type": "markdown",
   "metadata": {},
   "source": [
    "[to read](https://webdevblog.ru/monkey-patching-v-python-obyasnenie-s-primerami/)"
   ]
  },
  {
   "cell_type": "code",
   "execution_count": 67,
   "metadata": {},
   "outputs": [
    {
     "name": "stdout",
     "output_type": "stream",
     "text": [
      "3.141592653589793\n",
      "3.14\n",
      "3.141592653589793\n"
     ]
    }
   ],
   "source": [
    "import math\n",
    "\n",
    "# Backup the original value before monkey patching\n",
    "original_pi = math.pi\n",
    "print(math.pi) # Output: 3.141592653589793\n",
    "\n",
    "# Now monkey patch pi to have the value 3.14\n",
    "math.pi = 3.14\n",
    "print(math.pi) # Output: 3.14\n",
    "\n",
    "# Remove the patch\n",
    "math.pi = original_pi\n",
    "print(math.pi) # Output: 3.141592653589793"
   ]
  },
  {
   "cell_type": "code",
   "execution_count": 68,
   "metadata": {},
   "outputs": [
    {
     "name": "stdout",
     "output_type": "stream",
     "text": [
      "16\n",
      "mock power\n"
     ]
    }
   ],
   "source": [
    "# Original method\n",
    "def power(a, b):\n",
    "  return a ** b\n",
    "# Mock method\n",
    "def mock_power(a, b):\n",
    "  return \"mock power\"\n",
    "# Before monkey patching\n",
    "print(power(2, 4)) # Output: 16\n",
    "# Monkey patch original method to replace it with the mock method\n",
    "power = mock_power\n",
    "# After monkey patching\n",
    "print(power(2, 4)) # Output: mock power"
   ]
  },
  {
   "cell_type": "code",
   "execution_count": null,
   "metadata": {},
   "outputs": [],
   "source": [
    "# Backup the original value before monkey patching\n",
    "original_print = print\n",
    "print(print) # Output: <built-in function print>\n",
    "print(\"Hey there!\") # Output: Hey there!\n",
    "# Define our custom print to extend the original print with timestamps\n",
    "from datetime import datetime\n",
    "def custom_print(*args, **kwargs):\n",
    "  original_print(datetime.utcnow(), *args, **kwargs)\n",
    "# Monkey patch builtin print method\n",
    "import builtins\n",
    "builtins.print = custom_print\n",
    "print(print) # Output: 2019-03-30 10:23:30.847503 <function custom_print at 0x10b22baba>\n",
    "print(\"Hey there!\") # Output: 2019-03-30 10:23:30.847885 Hey there!\n",
    "# Remove the patch\n",
    "builtins.print = original_print\n",
    "print(print) # Output: <built-in function print>\n",
    "print(\"Hey there!\") # Output: Hey there!"
   ]
  },
  {
   "cell_type": "code",
   "execution_count": 69,
   "metadata": {},
   "outputs": [
    {
     "name": "stdout",
     "output_type": "stream",
     "text": [
      "math\n",
      "json\n",
      "math\n"
     ]
    }
   ],
   "source": [
    "import math\n",
    "import json\n",
    "# Before monkey patching\n",
    "original_math = math\n",
    "print(math.__name__) # Output: math\n",
    "# Monkey patch match with json\n",
    "math = json\n",
    "print(math.__name__) # Output: json\n",
    "# Remove the patch\n",
    "math = original_math\n",
    "print(math.__name__) # Output: math"
   ]
  }
 ],
 "metadata": {
  "interpreter": {
   "hash": "262af24f6390e181d1b86df4568fd74653813b7e5cf759105ca918c8cd7e2241"
  },
  "kernelspec": {
   "display_name": "Python 3.8.8 64-bit ('base': conda)",
   "name": "python3"
  },
  "language_info": {
   "codemirror_mode": {
    "name": "ipython",
    "version": 3
   },
   "file_extension": ".py",
   "mimetype": "text/x-python",
   "name": "python",
   "nbconvert_exporter": "python",
   "pygments_lexer": "ipython3",
   "version": "3.8.8"
  },
  "orig_nbformat": 2
 },
 "nbformat": 4,
 "nbformat_minor": 2
}
