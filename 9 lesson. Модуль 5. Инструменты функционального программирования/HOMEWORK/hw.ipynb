{
 "cells": [
  {
   "cell_type": "markdown",
   "metadata": {},
   "source": [
    "# Assignment.1"
   ]
  },
  {
   "cell_type": "markdown",
   "metadata": {},
   "source": [
    "Для задачи с функцией, считающей кол-во цифр в произведении степеней произвольного числа агрументов и декоратора, считающего время выполнения функции, в декоратор добавить округление времени выполнения функции с точностью precision. Таким образом, precision должен передаваться в качестве параметра. В итоге, нужно будет написать функцию, принимающую параметры и возвращающую декоратор."
   ]
  },
  {
   "cell_type": "markdown",
   "metadata": {},
   "source": [
    "```\n",
    "def duration(f):\n",
    "    def wrapper(*args):\n",
    "        begin = time()\n",
    "        res = f(*args)\n",
    "        print(res)\n",
    "        end = time()\n",
    "        time_answer = end - begin\n",
    "        print(time_answer)\n",
    "    return wrapper\n",
    "@duration\n",
    "def number_of_digits(*args):\n",
    "    res = 1\n",
    "    for item in args:\n",
    "        temp =  item ** 1000\n",
    "        res *= temp\n",
    "    return len(str(res))\n",
    "n = 100\n",
    "arr = [random.randint(1000,3000) for item in range(n)]\n",
    "number_of_digits(*arr)\n",
    "```"
   ]
  },
  {
   "cell_type": "markdown",
   "metadata": {},
   "source": [
    "Пример работы"
   ]
  },
  {
   "cell_type": "markdown",
   "metadata": {},
   "source": [
    "```\n",
    "@function_returning_decorator(precision = 5)\n",
    "def number_of_digits(*args):\n",
    "    res = 1\n",
    "    for item in args:\n",
    "        temp =  item ** 1000\n",
    "        res *= temp\n",
    "    return len(str(res))\n",
    "```"
   ]
  },
  {
   "cell_type": "code",
   "execution_count": null,
   "metadata": {},
   "outputs": [],
   "source": [
    "### YOUR CODE HERE"
   ]
  },
  {
   "cell_type": "markdown",
   "metadata": {},
   "source": [
    "# Assignment.2"
   ]
  },
  {
   "cell_type": "markdown",
   "metadata": {},
   "source": [
    "Реализовать механизм мемоизации для функции, т.е. нужно изменять поведение передаваемой функции. Например, вычисление факториала или числа Фибоначчи. \n",
    "Определить время выполнения с/без мемоизации для набора случайных чисел."
   ]
  },
  {
   "cell_type": "markdown",
   "metadata": {},
   "source": [
    "Реализовать свою мемоизацию, затем также использовать  \"встроенный\" декоратор functools.lru_cache"
   ]
  },
  {
   "cell_type": "markdown",
   "metadata": {},
   "source": [
    "Также добавить к мемоизации  измерение времени выполнения.\n",
    "Мемоизацию можно отделить от измерения времени, т.е. применить два декоратора к одной функции, либо не отделять (на ваше усотрение)\n"
   ]
  },
  {
   "cell_type": "code",
   "execution_count": null,
   "metadata": {},
   "outputs": [],
   "source": [
    "### YOUR CODE HERE"
   ]
  },
  {
   "cell_type": "markdown",
   "metadata": {},
   "source": [
    "# Assignment.3"
   ]
  },
  {
   "cell_type": "markdown",
   "metadata": {},
   "source": [
    "You surely know how **range** works. You need to create your own **my_range** that will work as standart **range**."
   ]
  },
  {
   "cell_type": "code",
   "execution_count": null,
   "metadata": {},
   "outputs": [],
   "source": [
    "### YOUR CODE HERE"
   ]
  }
 ],
 "metadata": {
  "language_info": {
   "codemirror_mode": {
    "name": "ipython",
    "version": 3
   },
   "file_extension": ".py",
   "mimetype": "text/x-python",
   "name": "python",
   "nbconvert_exporter": "python",
   "pygments_lexer": "ipython3",
   "version": 3
  },
  "orig_nbformat": 2
 },
 "nbformat": 4,
 "nbformat_minor": 2
}
